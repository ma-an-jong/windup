{
 "cells": [
  {
   "cell_type": "code",
   "execution_count": 1,
   "id": "9dc2b074-5252-4410-a328-eb5706ceff40",
   "metadata": {},
   "outputs": [],
   "source": [
    "from transformers import AutoModel,AutoTokenizer,BertModel\n",
    "import torch\n",
    "from torch import nn\n",
    "import pandas as pd\n",
    "import re\n",
    "from tqdm.auto import tqdm\n",
    "from sklearn.model_selection import train_test_split\n",
    "from torch.utils.data import Dataset, DataLoader,WeightedRandomSampler\n",
    "from torch.optim import AdamW,Adam\n",
    "import torch.nn.functional as F   \n",
    "import gc\n",
    "import matplotlib.pyplot as plt\n",
    "from kobert_tokenizer import KoBERTTokenizer\n",
    "from sklearn.metrics import accuracy_score"
   ]
  },
  {
   "cell_type": "code",
   "execution_count": 2,
   "id": "0a48e038-50e2-4637-afd5-489c55a44b41",
   "metadata": {},
   "outputs": [],
   "source": [
    "model_path = 'skt/kobert-base-v1' #multilingual"
   ]
  },
  {
   "cell_type": "code",
   "execution_count": 3,
   "id": "3eaa270e-d871-45e9-86d2-901312eb5c05",
   "metadata": {},
   "outputs": [
    {
     "name": "stderr",
     "output_type": "stream",
     "text": [
      "The tokenizer class you load from this checkpoint is not the same type as the class this function is called from. It may result in unexpected tokenization. \n",
      "The tokenizer class you load from this checkpoint is 'XLNetTokenizer'. \n",
      "The class this function is called from is 'KoBERTTokenizer'.\n"
     ]
    }
   ],
   "source": [
    "tokenizer = KoBERTTokenizer.from_pretrained('skt/kobert-base-v1')"
   ]
  },
  {
   "cell_type": "code",
   "execution_count": 4,
   "id": "11639ee2-5429-4e55-aef2-8a02268214db",
   "metadata": {
    "tags": []
   },
   "outputs": [],
   "source": [
    "class ClassifierDataset(Dataset):\n",
    "    def __init__(self, df):\n",
    "        self.labels = list(df['label'])\n",
    "        self.documents = [tokenizer(context,padding='max_length', max_length = 512, truncation=True,return_tensors=\"pt\") for context in df['context']]\n",
    "\n",
    "    def __len__(self):\n",
    "        return len(self.documents)\n",
    "\n",
    "    def __getitem__(self, index):\n",
    "        return {\"document\": self.documents[index],\n",
    "                \"label\": self.labels[index]\n",
    "                }\n",
    "        \n",
    "    def get_num_batches(self, batch_size):\n",
    "        return len(self) // batch_size"
   ]
  },
  {
   "cell_type": "code",
   "execution_count": 5,
   "id": "865b0f0d-e7c4-409e-ba84-ec50d84dfd84",
   "metadata": {},
   "outputs": [],
   "source": [
    "class BertClassifier(nn.Module):\n",
    "\n",
    "    def __init__(self, dropout=0.5):\n",
    "\n",
    "        super(BertClassifier, self).__init__()\n",
    "\n",
    "        self.bert = AutoModel.from_pretrained(model_path,ignore_mismatched_sizes=True)\n",
    "        self.dropout1 = nn.Dropout(dropout)\n",
    "        self.linear1 = nn.Linear(768, 1024)\n",
    "        self.dropout2 = nn.Dropout(dropout)\n",
    "        self.linear2 = nn.Linear(1024,1)\n",
    "        \n",
    "    def forward(self, input_id, mask):\n",
    "        last_hidden_state,_ = self.bert(input_ids= input_id, attention_mask=mask,return_dict=False)\n",
    "        dropout_output = self.dropout1(last_hidden_state)\n",
    "        linear_output = self.linear1(dropout_output)\n",
    "        dropout_output1 = self.dropout2(linear_output)\n",
    "        linear_output1 = self.linear2(dropout_output1)\n",
    "        sigmoid_output = F.sigmoid(linear_output1)\n",
    "        return sigmoid_output[:,0,:]\n"
   ]
  },
  {
   "cell_type": "code",
   "execution_count": 6,
   "id": "47d66eb6-b5b1-481d-a76f-f114bd78b227",
   "metadata": {},
   "outputs": [],
   "source": [
    "batch_size = 16\n",
    "epochs = 10\n",
    "device='cuda'"
   ]
  },
  {
   "cell_type": "code",
   "execution_count": 7,
   "id": "1bb4ef36-c01d-4cdb-b95c-6dedf82fe494",
   "metadata": {},
   "outputs": [],
   "source": [
    "dataset = pd.read_csv('refined_dataset.csv')"
   ]
  },
  {
   "cell_type": "code",
   "execution_count": 8,
   "id": "0b1da5ca-5c27-4b1c-81f8-a773ab16ab9d",
   "metadata": {},
   "outputs": [
    {
     "name": "stdout",
     "output_type": "stream",
     "text": [
      "17394 5799\n"
     ]
    }
   ],
   "source": [
    "train,valid = train_test_split(dataset,shuffle=True)\n",
    "print(len(train),len(valid))"
   ]
  },
  {
   "cell_type": "code",
   "execution_count": 9,
   "id": "1bd6e5d8-0df8-4c4a-9a7a-b4b4431f13b8",
   "metadata": {},
   "outputs": [],
   "source": [
    "train_dataset = ClassifierDataset(pd.DataFrame(train,columns = ['context','label']))\n",
    "valid_dataset = ClassifierDataset(pd.DataFrame(valid,columns = ['context','label']))"
   ]
  },
  {
   "cell_type": "code",
   "execution_count": 10,
   "id": "baf0e24a-dd1f-48c1-a81c-0c052394716e",
   "metadata": {},
   "outputs": [],
   "source": [
    "train_class_counts = train['label'].value_counts().to_list()\n",
    "train_num_samples = sum(train_class_counts)\n",
    "train_labels = train['label'].to_list()\n",
    "\n",
    "train_class_weights = [train_num_samples / train_class_counts[i] for i in range(len(train_class_counts))] \n",
    "\n",
    "# 해당 데이터의 label에 해당되는 가중치\n",
    "train_weights = [train_class_weights[train_labels[i]] for i in range(int(train_num_samples))] #해당 레이블마다의 가중치 비율\n",
    "train_sampler = WeightedRandomSampler(torch.DoubleTensor(train_weights), int(train_num_samples))"
   ]
  },
  {
   "cell_type": "code",
   "execution_count": 11,
   "id": "fabc5a95-8aad-49af-a3cc-e6315e52c153",
   "metadata": {},
   "outputs": [],
   "source": [
    "valid_class_counts = valid['label'].value_counts().to_list()\n",
    "valid_num_samples = sum(valid_class_counts)\n",
    "valid_labels = valid['label'].to_list()\n",
    "\n",
    "valid_class_weights = [valid_num_samples / valid_class_counts[i] for i in range(len(valid_class_counts))] \n",
    "\n",
    "# 해당 데이터의 label에 해당되는 가중치\n",
    "valid_weights = [valid_class_weights[valid_labels[i]] for i in range(int(valid_num_samples))] #해당 레이블마다의 가중치 비율\n",
    "valid_sampler = WeightedRandomSampler(torch.DoubleTensor(valid_weights), int(valid_num_samples))"
   ]
  },
  {
   "cell_type": "code",
   "execution_count": 12,
   "id": "99ac3b15-3baa-46b9-a0a3-0f78714985a5",
   "metadata": {},
   "outputs": [],
   "source": [
    "classifier = BertClassifier()\n",
    "classifier.cuda()\n",
    "optimizer = AdamW(classifier.parameters(), lr=1e-5)"
   ]
  },
  {
   "cell_type": "code",
   "execution_count": 13,
   "id": "bab6cfa5-c202-4132-90b9-c01aeff884bb",
   "metadata": {},
   "outputs": [
    {
     "data": {
      "text/plain": [
       "BCELoss()"
      ]
     },
     "execution_count": 13,
     "metadata": {},
     "output_type": "execute_result"
    }
   ],
   "source": [
    "criterion = nn.BCELoss()\n",
    "criterion.cuda()"
   ]
  },
  {
   "cell_type": "code",
   "execution_count": 14,
   "id": "1750df4f-454f-4077-b6bd-33b325662980",
   "metadata": {},
   "outputs": [],
   "source": [
    "train_dataloader = DataLoader(train_dataset, batch_size=batch_size, shuffle=False,sampler = train_sampler )\n",
    "val_dataloader = DataLoader(valid_dataset, batch_size=batch_size,shuffle=False,sampler = valid_sampler)\n",
    "\n",
    "# train_dataloader = DataLoader(train_dataset, batch_size=batch_size, shuffle=True)\n",
    "# val_dataloader = DataLoader(valid_dataset, batch_size=batch_size,shuffle=True)"
   ]
  },
  {
   "cell_type": "code",
   "execution_count": 15,
   "id": "677f414b-0e37-47da-9cdb-623acc629d11",
   "metadata": {},
   "outputs": [],
   "source": [
    "train_loss = []\n",
    "train_acc = []\n",
    "\n",
    "valid_loss = []\n",
    "valid_acc = []"
   ]
  },
  {
   "cell_type": "code",
   "execution_count": 16,
   "id": "aa9ec07e-fe99-472c-921f-07856ab2b462",
   "metadata": {
    "tags": []
   },
   "outputs": [
    {
     "data": {
      "application/vnd.jupyter.widget-view+json": {
       "model_id": "d44c6470826b45318f3748eec6d5a149",
       "version_major": 2,
       "version_minor": 0
      },
      "text/plain": [
       "  0%|          | 0/10 [00:00<?, ?it/s]"
      ]
     },
     "metadata": {},
     "output_type": "display_data"
    },
    {
     "data": {
      "application/vnd.jupyter.widget-view+json": {
       "model_id": "6119f02d1c5c4835a9221f2fc5c03a14",
       "version_major": 2,
       "version_minor": 0
      },
      "text/plain": [
       "  0%|          | 0/1087.125 [00:00<?, ?it/s]"
      ]
     },
     "metadata": {},
     "output_type": "display_data"
    },
    {
     "name": "stderr",
     "output_type": "stream",
     "text": [
      "/home/se/anaconda3/lib/python3.8/site-packages/torch/nn/functional.py:1639: UserWarning: nn.functional.sigmoid is deprecated. Use torch.sigmoid instead.\n",
      "  warnings.warn(\"nn.functional.sigmoid is deprecated. Use torch.sigmoid instead.\")\n"
     ]
    },
    {
     "data": {
      "application/vnd.jupyter.widget-view+json": {
       "model_id": "0aaf96733c9447ca93fe94e0bb4bef66",
       "version_major": 2,
       "version_minor": 0
      },
      "text/plain": [
       "  0%|          | 0/362.4375 [00:00<?, ?it/s]"
      ]
     },
     "metadata": {},
     "output_type": "display_data"
    },
    {
     "name": "stdout",
     "output_type": "stream",
     "text": [
      "Epochs: 1 | Train Loss:  0.014                 | Train Accuracy:  0.926                 | Val Loss:  0.012                 | Val Accuracy:  0.924\n"
     ]
    },
    {
     "data": {
      "application/vnd.jupyter.widget-view+json": {
       "model_id": "20f766b4f8244b6f98d49b2168af432c",
       "version_major": 2,
       "version_minor": 0
      },
      "text/plain": [
       "  0%|          | 0/1087.125 [00:00<?, ?it/s]"
      ]
     },
     "metadata": {},
     "output_type": "display_data"
    },
    {
     "data": {
      "application/vnd.jupyter.widget-view+json": {
       "model_id": "43f1774633ab49698b666b87e3e2376b",
       "version_major": 2,
       "version_minor": 0
      },
      "text/plain": [
       "  0%|          | 0/362.4375 [00:00<?, ?it/s]"
      ]
     },
     "metadata": {},
     "output_type": "display_data"
    },
    {
     "name": "stdout",
     "output_type": "stream",
     "text": [
      "Epochs: 2 | Train Loss:  0.012                 | Train Accuracy:  0.929                 | Val Loss:  0.012                 | Val Accuracy:  0.929\n"
     ]
    },
    {
     "data": {
      "application/vnd.jupyter.widget-view+json": {
       "model_id": "11475d5293f746288a4f9a853fbdeb35",
       "version_major": 2,
       "version_minor": 0
      },
      "text/plain": [
       "  0%|          | 0/1087.125 [00:00<?, ?it/s]"
      ]
     },
     "metadata": {},
     "output_type": "display_data"
    },
    {
     "data": {
      "application/vnd.jupyter.widget-view+json": {
       "model_id": "34b4201c9d284ae99fb9cf2b054f6d0b",
       "version_major": 2,
       "version_minor": 0
      },
      "text/plain": [
       "  0%|          | 0/362.4375 [00:00<?, ?it/s]"
      ]
     },
     "metadata": {},
     "output_type": "display_data"
    },
    {
     "name": "stdout",
     "output_type": "stream",
     "text": [
      "Epochs: 3 | Train Loss:  0.010                 | Train Accuracy:  0.938                 | Val Loss:  0.012                 | Val Accuracy:  0.921\n"
     ]
    },
    {
     "data": {
      "application/vnd.jupyter.widget-view+json": {
       "model_id": "478e9fd55fb84cf99268f8ae2f8076c1",
       "version_major": 2,
       "version_minor": 0
      },
      "text/plain": [
       "  0%|          | 0/1087.125 [00:00<?, ?it/s]"
      ]
     },
     "metadata": {},
     "output_type": "display_data"
    },
    {
     "ename": "KeyboardInterrupt",
     "evalue": "",
     "output_type": "error",
     "traceback": [
      "\u001b[0;31m---------------------------------------------------------------------------\u001b[0m",
      "\u001b[0;31mKeyboardInterrupt\u001b[0m                         Traceback (most recent call last)",
      "\u001b[0;32m<ipython-input-16-0324db56819e>\u001b[0m in \u001b[0;36m<module>\u001b[0;34m\u001b[0m\n\u001b[1;32m     18\u001b[0m         \u001b[0moutput\u001b[0m \u001b[0;34m=\u001b[0m \u001b[0moutput\u001b[0m\u001b[0;34m.\u001b[0m\u001b[0msqueeze\u001b[0m\u001b[0;34m(\u001b[0m\u001b[0;36m1\u001b[0m\u001b[0;34m)\u001b[0m\u001b[0;34m\u001b[0m\u001b[0;34m\u001b[0m\u001b[0m\n\u001b[1;32m     19\u001b[0m         \u001b[0mbatch_loss\u001b[0m \u001b[0;34m=\u001b[0m \u001b[0mcriterion\u001b[0m\u001b[0;34m(\u001b[0m\u001b[0moutput\u001b[0m\u001b[0;34m.\u001b[0m\u001b[0mfloat\u001b[0m\u001b[0;34m(\u001b[0m\u001b[0;34m)\u001b[0m\u001b[0;34m,\u001b[0m \u001b[0mtrain_label\u001b[0m\u001b[0;34m.\u001b[0m\u001b[0mfloat\u001b[0m\u001b[0;34m(\u001b[0m\u001b[0;34m)\u001b[0m\u001b[0;34m)\u001b[0m\u001b[0;34m\u001b[0m\u001b[0;34m\u001b[0m\u001b[0m\n\u001b[0;32m---> 20\u001b[0;31m         \u001b[0mbatch_loss\u001b[0m\u001b[0;34m.\u001b[0m\u001b[0mbackward\u001b[0m\u001b[0;34m(\u001b[0m\u001b[0;34m)\u001b[0m\u001b[0;34m\u001b[0m\u001b[0;34m\u001b[0m\u001b[0m\n\u001b[0m\u001b[1;32m     21\u001b[0m         \u001b[0moptimizer\u001b[0m\u001b[0;34m.\u001b[0m\u001b[0mstep\u001b[0m\u001b[0;34m(\u001b[0m\u001b[0;34m)\u001b[0m\u001b[0;34m\u001b[0m\u001b[0;34m\u001b[0m\u001b[0m\n\u001b[1;32m     22\u001b[0m \u001b[0;34m\u001b[0m\u001b[0m\n",
      "\u001b[0;32m~/anaconda3/lib/python3.8/site-packages/torch/tensor.py\u001b[0m in \u001b[0;36mbackward\u001b[0;34m(self, gradient, retain_graph, create_graph)\u001b[0m\n\u001b[1;32m    219\u001b[0m                 \u001b[0mretain_graph\u001b[0m\u001b[0;34m=\u001b[0m\u001b[0mretain_graph\u001b[0m\u001b[0;34m,\u001b[0m\u001b[0;34m\u001b[0m\u001b[0;34m\u001b[0m\u001b[0m\n\u001b[1;32m    220\u001b[0m                 create_graph=create_graph)\n\u001b[0;32m--> 221\u001b[0;31m         \u001b[0mtorch\u001b[0m\u001b[0;34m.\u001b[0m\u001b[0mautograd\u001b[0m\u001b[0;34m.\u001b[0m\u001b[0mbackward\u001b[0m\u001b[0;34m(\u001b[0m\u001b[0mself\u001b[0m\u001b[0;34m,\u001b[0m \u001b[0mgradient\u001b[0m\u001b[0;34m,\u001b[0m \u001b[0mretain_graph\u001b[0m\u001b[0;34m,\u001b[0m \u001b[0mcreate_graph\u001b[0m\u001b[0;34m)\u001b[0m\u001b[0;34m\u001b[0m\u001b[0;34m\u001b[0m\u001b[0m\n\u001b[0m\u001b[1;32m    222\u001b[0m \u001b[0;34m\u001b[0m\u001b[0m\n\u001b[1;32m    223\u001b[0m     \u001b[0;32mdef\u001b[0m \u001b[0mregister_hook\u001b[0m\u001b[0;34m(\u001b[0m\u001b[0mself\u001b[0m\u001b[0;34m,\u001b[0m \u001b[0mhook\u001b[0m\u001b[0;34m)\u001b[0m\u001b[0;34m:\u001b[0m\u001b[0;34m\u001b[0m\u001b[0;34m\u001b[0m\u001b[0m\n",
      "\u001b[0;32m~/anaconda3/lib/python3.8/site-packages/torch/autograd/__init__.py\u001b[0m in \u001b[0;36mbackward\u001b[0;34m(tensors, grad_tensors, retain_graph, create_graph, grad_variables)\u001b[0m\n\u001b[1;32m    128\u001b[0m         \u001b[0mretain_graph\u001b[0m \u001b[0;34m=\u001b[0m \u001b[0mcreate_graph\u001b[0m\u001b[0;34m\u001b[0m\u001b[0;34m\u001b[0m\u001b[0m\n\u001b[1;32m    129\u001b[0m \u001b[0;34m\u001b[0m\u001b[0m\n\u001b[0;32m--> 130\u001b[0;31m     Variable._execution_engine.run_backward(\n\u001b[0m\u001b[1;32m    131\u001b[0m         \u001b[0mtensors\u001b[0m\u001b[0;34m,\u001b[0m \u001b[0mgrad_tensors_\u001b[0m\u001b[0;34m,\u001b[0m \u001b[0mretain_graph\u001b[0m\u001b[0;34m,\u001b[0m \u001b[0mcreate_graph\u001b[0m\u001b[0;34m,\u001b[0m\u001b[0;34m\u001b[0m\u001b[0;34m\u001b[0m\u001b[0m\n\u001b[1;32m    132\u001b[0m         allow_unreachable=True)  # allow_unreachable flag\n",
      "\u001b[0;31mKeyboardInterrupt\u001b[0m: "
     ]
    }
   ],
   "source": [
    "classifier.zero_grad()\n",
    "for epoch in tqdm(range(epochs),total=epochs):\n",
    "\n",
    "    total_acc_train = 0\n",
    "    total_loss_train = 0\n",
    "    classifier.train()\n",
    "    for i,batch in tqdm(enumerate(train_dataloader),total=len(train_dataset)/batch_size):\n",
    "\n",
    "        optimizer.zero_grad()\n",
    "        train_label = batch['label'].to(device)\n",
    "        \n",
    "        document = batch['document']\n",
    "        \n",
    "        mask = document['attention_mask'].to(device)\n",
    "        input_id = document['input_ids'].squeeze(1).to(device)\n",
    "        \n",
    "        output = classifier(input_id,mask)\n",
    "        output = output.squeeze(1)\n",
    "        batch_loss = criterion(output.float(), train_label.float())\n",
    "        batch_loss.backward()\n",
    "        optimizer.step()\n",
    "        \n",
    "        total_loss_train += batch_loss.item()\n",
    "        \n",
    "        acc = (output.round() == train_label).sum().item()\n",
    "        total_acc_train += acc\n",
    "        \n",
    "    train_loss.append(total_loss_train/ len(train_dataset))\n",
    "    train_acc.append(total_acc_train/ len(train_dataset))\n",
    "            \n",
    "    total_acc_val = 0\n",
    "    total_loss_val = 0\n",
    "    classifier.eval()\n",
    "    with  torch.no_grad():\n",
    "        for i,batch in tqdm(enumerate(val_dataloader),total=len(valid_dataset)/batch_size):\n",
    "            \n",
    "            val_label = batch['label'].to(device)\n",
    "            document = batch['document']\n",
    "            \n",
    "            mask = document['attention_mask'].to(device)\n",
    "            input_id = document['input_ids'].squeeze(1).to(device)\n",
    "\n",
    "            output = classifier(input_id,mask)\n",
    "            output = output.squeeze(1)\n",
    "            batch_loss = criterion(output.float(), val_label.float())\n",
    "            \n",
    "            total_loss_val += batch_loss.item()\n",
    "            acc = (output.round() == val_label).sum().item()\n",
    "            total_acc_val += acc\n",
    "\n",
    "        valid_loss.append(total_loss_val/ len(valid_dataset))\n",
    "        valid_acc.append(total_acc_val/ len(valid_dataset))\n",
    "\n",
    "        torch.save(classifier.state_dict(), './model{}.pt'.format(epoch))\n",
    " \n",
    "        print(\n",
    "                f'Epochs: {epoch + 1} | Train Loss: {total_loss_train / len(train_dataset): .3f} \\\n",
    "                | Train Accuracy: {total_acc_train / len(train_dataset): .3f} \\\n",
    "                | Val Loss: {total_loss_val / len(valid_dataset): .3f} \\\n",
    "                | Val Accuracy: {total_acc_val / len(valid_dataset): .3f}')\n",
    "\n",
    "#             # 조기 종료 여부 확인\n",
    "#         if early_stopping_step >= early_stopping_criteria:\n",
    "#             break"
   ]
  },
  {
   "cell_type": "code",
   "execution_count": 17,
   "id": "3437b70c-5424-47ad-8478-5c3f1eea2451",
   "metadata": {},
   "outputs": [
    {
     "name": "stdout",
     "output_type": "stream",
     "text": [
      "  많은 팬 분이 보내주신 응원 덕분에 이길 수 있었다  팬들에게 제일 감사하다고 전하고 싶다  삼성 라이온즈는 7일 사직구장에서 열린  2022 신한은행 SOL KBO리그  롯데 자이언츠전에서 4 1로 승리했다  선발 투수 데이비드 뷰캐넌이 6이닝 4피안타 2볼넷 6탈삼진 1실점으로 호투하며 통산 롯데전 첫 승을 거뒀고  타선은 롯데 마운드를 상대로 이틀 연속 안타 10개 이상을 쳐내며 무섭게 몰아붙였다 삼성은 이날 3회 선취점을 만들었다  3회 선두타자 호세 피렐라가 2루타와 폭투로 3루를 밟았고  1사 후 강민호의 희생 플라이로 한 점을 올려 1 0으로 앞서 나갔다 다음 공격에서 곧바로 추가점을 뽑아냈다  선두타자 김헌곤의 볼넷과 이재현의 좌전안타로 무사 1 2루 기회를 만들었다  벤치의 계획대로 경기가 흘러갔다  김현준은 희생 번트로 자신을 희생하며 1사 2 3루를 만들었고  대타 김태군이 2타점 2루타를 쳐 3 0으로 달아났다 5회 삼성은 선두타자 정훈에게 안타를 맞은 뒤 후속타자 이학주에게 1타점 2루타를 내줘 3 1까지 따라잡혔다 9회 삼성은 상대 마무리 최준용을 상대로 홈런을 만들어 승리에 쐐기를 박았다  선두타자 피렐라는 최준용의 시속 148  포심 패스트볼을 받아쳐 비거리 121m 대포를 쏘아 올려 4 1이 됐다  이후 마무리 오승환이 이대호 DJ 피터스 정훈의 4 6번 중심 타선을 돌려세우며 세이브를 기록했다 경기 뒤 허삼영 삼성 감독은  강민호의 리드 덕분에 이틀 연속 선발 투수  불펜 투수들이 효과적인 투구를 했다  3연투한 우규민과 경기 끝까지 최선을 다한 선수단 모두를 칭찬하고 싶다  많은 팬 분이 보내주신 응원 덕분에 이길 수 있었다  팬들에게 제일 감사하다고 전하고 싶다 며 위닝시리즈 소감을 밝혔다  1\n"
     ]
    }
   ],
   "source": [
    "target = dataset.iloc[5435]\n",
    "inp = target.context\n",
    "print(inp,target.label)"
   ]
  },
  {
   "cell_type": "code",
   "execution_count": 18,
   "id": "805ad958-86dd-4efe-ad01-c756dfd54378",
   "metadata": {
    "tags": []
   },
   "outputs": [],
   "source": [
    "model_input = tokenizer(inp,padding='max_length', max_length = 512, truncation=True,return_tensors=\"pt\")\n",
    "mask = model_input['attention_mask'].to(device)\n",
    "input_ids = model_input['input_ids'].to(device)\n",
    "label = classifier(input_ids,mask)"
   ]
  },
  {
   "cell_type": "code",
   "execution_count": 19,
   "id": "5228eefa-3dd6-4b88-9309-56137357318e",
   "metadata": {},
   "outputs": [
    {
     "data": {
      "text/plain": [
       "tensor([[0.9976]], device='cuda:0', grad_fn=<SliceBackward>)"
      ]
     },
     "execution_count": 19,
     "metadata": {},
     "output_type": "execute_result"
    }
   ],
   "source": [
    "label"
   ]
  },
  {
   "cell_type": "code",
   "execution_count": 19,
   "id": "737b1638-75be-493d-b05f-4dedb8117e80",
   "metadata": {},
   "outputs": [
    {
     "data": {
      "image/png": "[encoded data removed]",
      "text/plain": [
       "<Figure size 432x288 with 1 Axes>"
      ]
     },
     "metadata": {
      "needs_background": "light"
     },
     "output_type": "display_data"
    }
   ],
   "source": [
    "plt.plot(range(len(valid_loss)),valid_loss,color='red')\n",
    "plt.savefig('sampling_base_kobert_loss',dpi = 100)\n",
    "plt.show()"
   ]
  },
  {
   "cell_type": "code",
   "execution_count": 20,
   "id": "1c2ac325-0df8-48e5-a548-bd3ef29ea29d",
   "metadata": {},
   "outputs": [
    {
     "data": {
      "image/png": "[encoded data removed]",
      "text/plain": [
       "<Figure size 432x288 with 1 Axes>"
      ]
     },
     "metadata": {
      "needs_background": "light"
     },
     "output_type": "display_data"
    }
   ],
   "source": [
    "plt.plot(range(len(valid_acc)),valid_acc,color='red')\n",
    "plt.savefig('sampling_base_kobert_acc',dpi = 100)\n",
    "plt.show()"
   ]
  },
  {
   "cell_type": "code",
   "execution_count": 17,
   "id": "47273f27-305f-428c-9d50-fce24e19f2a3",
   "metadata": {},
   "outputs": [],
   "source": [
    "PATH = './kobert_base_model/'\n",
    "torch.save(classifier.state_dict(), PATH + 'model.pt')  # 전체 모델 저장"
   ]
  },
  {
   "cell_type": "code",
   "execution_count": 18,
   "id": "717c5d73-ad9a-4ca4-a7d1-0de4a66f311d",
   "metadata": {},
   "outputs": [
    {
     "data": {
      "text/plain": [
       "('./kobert_base_model/tokenizer_config.json',\n",
       " './kobert_base_model/special_tokens_map.json',\n",
       " './kobert_base_model/spiece.model',\n",
       " './kobert_base_model/added_tokens.json')"
      ]
     },
     "execution_count": 18,
     "metadata": {},
     "output_type": "execute_result"
    }
   ],
   "source": [
    "tokenizer.save_pretrained(PATH)"
   ]
  },
  {
   "cell_type": "code",
   "execution_count": null,
   "id": "e3d890e6-65a0-480e-b602-5c36f14573fc",
   "metadata": {},
   "outputs": [],
   "source": []
  }
 ],
 "metadata": {
  "kernelspec": {
   "display_name": "Python 3",
   "language": "python",
   "name": "python3"
  },
  "language_info": {
   "codemirror_mode": {
    "name": "ipython",
    "version": 3
   },
   "file_extension": ".py",
   "mimetype": "text/x-python",
   "name": "python",
   "nbconvert_exporter": "python",
   "pygments_lexer": "ipython3",
   "version": "3.8.8"
  }
 },
 "nbformat": 4,
 "nbformat_minor": 5
}
