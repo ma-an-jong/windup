{
 "cells": [
  {
   "cell_type": "code",
   "execution_count": 1,
   "id": "55a98939-4476-48b8-9509-292d4ecd39f1",
   "metadata": {},
   "outputs": [],
   "source": [
    "import pandas as pd"
   ]
  },
  {
   "cell_type": "code",
   "execution_count": 3,
   "id": "7130695e-febc-45bc-a990-d09ae648847d",
   "metadata": {},
   "outputs": [],
   "source": [
    "df = pd.read_csv('lineup_past.csv')"
   ]
  },
  {
   "cell_type": "code",
   "execution_count": 10,
   "id": "4cb61104-c692-41c7-99e9-7a616014fa36",
   "metadata": {},
   "outputs": [
    {
     "data": {
      "text/html": [
       "<div>\n",
       "<style scoped>\n",
       "    .dataframe tbody tr th:only-of-type {\n",
       "        vertical-align: middle;\n",
       "    }\n",
       "\n",
       "    .dataframe tbody tr th {\n",
       "        vertical-align: top;\n",
       "    }\n",
       "\n",
       "    .dataframe thead th {\n",
       "        text-align: right;\n",
       "    }\n",
       "</style>\n",
       "<table border=\"1\" class=\"dataframe\">\n",
       "  <thead>\n",
       "    <tr style=\"text-align: right;\">\n",
       "      <th></th>\n",
       "      <th>Unnamed: 0</th>\n",
       "      <th>date</th>\n",
       "      <th>name</th>\n",
       "      <th>team</th>\n",
       "      <th>position</th>\n",
       "      <th>order</th>\n",
       "    </tr>\n",
       "  </thead>\n",
       "  <tbody>\n",
       "    <tr>\n",
       "      <th>0</th>\n",
       "      <td>0</td>\n",
       "      <td>20200505</td>\n",
       "      <td>브리검</td>\n",
       "      <td>키움</td>\n",
       "      <td>선발투수</td>\n",
       "      <td>0</td>\n",
       "    </tr>\n",
       "    <tr>\n",
       "      <th>10</th>\n",
       "      <td>10</td>\n",
       "      <td>20200505</td>\n",
       "      <td>양현종</td>\n",
       "      <td>KIA</td>\n",
       "      <td>선발투수</td>\n",
       "      <td>0</td>\n",
       "    </tr>\n",
       "    <tr>\n",
       "      <th>20</th>\n",
       "      <td>20</td>\n",
       "      <td>20200505</td>\n",
       "      <td>알칸타라</td>\n",
       "      <td>두산</td>\n",
       "      <td>선발투수</td>\n",
       "      <td>0</td>\n",
       "    </tr>\n",
       "    <tr>\n",
       "      <th>30</th>\n",
       "      <td>30</td>\n",
       "      <td>20200505</td>\n",
       "      <td>차우찬</td>\n",
       "      <td>LG</td>\n",
       "      <td>선발투수</td>\n",
       "      <td>0</td>\n",
       "    </tr>\n",
       "    <tr>\n",
       "      <th>40</th>\n",
       "      <td>40</td>\n",
       "      <td>20200505</td>\n",
       "      <td>루친스키</td>\n",
       "      <td>NC</td>\n",
       "      <td>선발투수</td>\n",
       "      <td>0</td>\n",
       "    </tr>\n",
       "    <tr>\n",
       "      <th>...</th>\n",
       "      <td>...</td>\n",
       "      <td>...</td>\n",
       "      <td>...</td>\n",
       "      <td>...</td>\n",
       "      <td>...</td>\n",
       "      <td>...</td>\n",
       "    </tr>\n",
       "    <tr>\n",
       "      <th>26854</th>\n",
       "      <td>26854</td>\n",
       "      <td>20211020</td>\n",
       "      <td>켈리</td>\n",
       "      <td>LG</td>\n",
       "      <td>선발투수</td>\n",
       "      <td>0</td>\n",
       "    </tr>\n",
       "    <tr>\n",
       "      <th>26864</th>\n",
       "      <td>26864</td>\n",
       "      <td>20211020</td>\n",
       "      <td>신민혁</td>\n",
       "      <td>NC</td>\n",
       "      <td>선발투수</td>\n",
       "      <td>0</td>\n",
       "    </tr>\n",
       "    <tr>\n",
       "      <th>26874</th>\n",
       "      <td>26874</td>\n",
       "      <td>20211020</td>\n",
       "      <td>오원석</td>\n",
       "      <td>SSG</td>\n",
       "      <td>선발투수</td>\n",
       "      <td>0</td>\n",
       "    </tr>\n",
       "    <tr>\n",
       "      <th>26884</th>\n",
       "      <td>26884</td>\n",
       "      <td>20211020</td>\n",
       "      <td>소형준</td>\n",
       "      <td>KT</td>\n",
       "      <td>선발투수</td>\n",
       "      <td>0</td>\n",
       "    </tr>\n",
       "    <tr>\n",
       "      <th>26894</th>\n",
       "      <td>26894</td>\n",
       "      <td>20211020</td>\n",
       "      <td>멩덴</td>\n",
       "      <td>KIA</td>\n",
       "      <td>선발투수</td>\n",
       "      <td>0</td>\n",
       "    </tr>\n",
       "  </tbody>\n",
       "</table>\n",
       "<p>2694 rows × 6 columns</p>\n",
       "</div>"
      ],
      "text/plain": [
       "       Unnamed: 0      date  name team position  order\n",
       "0               0  20200505   브리검   키움     선발투수      0\n",
       "10             10  20200505   양현종  KIA     선발투수      0\n",
       "20             20  20200505  알칸타라   두산     선발투수      0\n",
       "30             30  20200505   차우찬   LG     선발투수      0\n",
       "40             40  20200505  루친스키   NC     선발투수      0\n",
       "...           ...       ...   ...  ...      ...    ...\n",
       "26854       26854  20211020    켈리   LG     선발투수      0\n",
       "26864       26864  20211020   신민혁   NC     선발투수      0\n",
       "26874       26874  20211020   오원석  SSG     선발투수      0\n",
       "26884       26884  20211020   소형준   KT     선발투수      0\n",
       "26894       26894  20211020    멩덴  KIA     선발투수      0\n",
       "\n",
       "[2694 rows x 6 columns]"
      ]
     },
     "execution_count": 10,
     "metadata": {},
     "output_type": "execute_result"
    }
   ],
   "source": [
    "df.loc[df['position']=='선발투수']"
   ]
  },
  {
   "cell_type": "code",
   "execution_count": 2,
   "id": "75634ba3-8d9b-4b78-bd8a-d34e778a8d30",
   "metadata": {},
   "outputs": [],
   "source": [
    "import os\n",
    "dir_path = \"/home/se/paper/legacy/player\"\n",
    "file_list = os.listdir(dir_path)"
   ]
  },
  {
   "cell_type": "code",
   "execution_count": 19,
   "id": "62531f0b-1b23-4b45-b710-70fbba3efe68",
   "metadata": {},
   "outputs": [],
   "source": [
    "# for index,file in enumerate(file_list):\n",
    "#     file_path = os.path.join(dir_path,file)\n",
    "#     os.rename(file_path,os.path.join(dir_path,str(index)+'.csv'))"
   ]
  },
  {
   "cell_type": "code",
   "execution_count": 3,
   "id": "cd5a334e-b50d-4843-aefd-2fc92106441d",
   "metadata": {},
   "outputs": [],
   "source": [
    "columns = ['team','name','backNum','birth','position']\n",
    "df = pd.DataFrame(columns=columns)"
   ]
  },
  {
   "cell_type": "code",
   "execution_count": 4,
   "id": "ba27de94-8cd2-44c7-acc5-9a23c5cb6128",
   "metadata": {},
   "outputs": [],
   "source": [
    "for index,file in enumerate(file_list):\n",
    "    if '.csv' in file:\n",
    "        player_data = pd.read_csv(os.path.join(dir_path,file))\n",
    "        df = pd.merge(df, player_data, how='outer')"
   ]
  },
  {
   "cell_type": "code",
   "execution_count": 19,
   "id": "4369fa17-8978-4576-868f-3e4325036914",
   "metadata": {},
   "outputs": [],
   "source": [
    "df = df.drop(labels='Unnamed: 0',axis=1)"
   ]
  },
  {
   "cell_type": "markdown",
   "id": "bdb2f064-637d-44f1-b07f-c74d3395d0aa",
   "metadata": {},
   "source": [
    "### 선발투수"
   ]
  },
  {
   "cell_type": "code",
   "execution_count": null,
   "id": "92eceb22-d0b8-4279-a8e6-e6a70c94b294",
   "metadata": {},
   "outputs": [],
   "source": []
  },
  {
   "cell_type": "code",
   "execution_count": null,
   "id": "568b4700-8595-44cd-a282-c2dd7a2803e6",
   "metadata": {},
   "outputs": [],
   "source": []
  }
 ],
 "metadata": {
  "kernelspec": {
   "display_name": "Python 3",
   "language": "python",
   "name": "python3"
  },
  "language_info": {
   "codemirror_mode": {
    "name": "ipython",
    "version": 3
   },
   "file_extension": ".py",
   "mimetype": "text/x-python",
   "name": "python",
   "nbconvert_exporter": "python",
   "pygments_lexer": "ipython3",
   "version": "3.8.8"
  }
 },
 "nbformat": 4,
 "nbformat_minor": 5
}
