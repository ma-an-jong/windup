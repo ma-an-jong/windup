{
 "cells": [
  {
   "cell_type": "code",
   "execution_count": 1,
   "id": "0e19e54a-c5e0-4347-b517-f38653c5528b",
   "metadata": {},
   "outputs": [],
   "source": [
    "import os\n",
    "import torch\n",
    "from torch import nn\n",
    "import pandas as pd\n",
    "from tqdm.auto import tqdm\n",
    "from sklearn.model_selection import train_test_split\n",
    "from torch.utils.data import Dataset, DataLoader,WeightedRandomSampler\n",
    "from torch.optim import AdamW,Adam\n",
    "import torch.nn.functional as F"
   ]
  },
  {
   "cell_type": "code",
   "execution_count": 2,
   "id": "ec7e22f5-ef44-40fa-8107-c3b6a794f8ba",
   "metadata": {},
   "outputs": [],
   "source": [
    "data_path = '/home/se/paper/legacy/data'"
   ]
  },
  {
   "cell_type": "code",
   "execution_count": 3,
   "id": "5dba68a2-81ce-45ba-be9e-05fca071a49f",
   "metadata": {},
   "outputs": [],
   "source": [
    "from sklearn.preprocessing import LabelEncoder\n",
    "class StatDataset(Dataset):\n",
    "    def __init__(self, match,stat,le):\n",
    "        \n",
    "        tmp = []\n",
    "        label = []\n",
    "        \n",
    "        for home_pitcher,home_team,away_pitcher,away_team,home_result in list(zip(match['home_pitcher'].values,match['home'].values,match['away_pitcher'],match['away'],match['home_result'])):\n",
    "            home_player_stat = stat.loc[(stat['name'] == home_pitcher) & (stat['team'] == home_team)]\n",
    "            away_player_stat = stat.loc[(stat['name'] == away_pitcher) & (stat['team'] == away_team)]\n",
    "\n",
    "            if (len(home_player_stat) != 0) and (len(away_player_stat) != 0):\n",
    "                vector = home_player_stat.values.tolist()[0][2:] + away_player_stat.values.tolist()[0][2:]\n",
    "                tmp.append(vector)\n",
    "                label.append(home_result)\n",
    "        \n",
    "        transform = le.transform(label)\n",
    "        self.label = torch.tensor(list(transform),dtype=torch.long)\n",
    "        self.stat = torch.tensor(tmp)\n",
    "            \n",
    "    def __len__(self):\n",
    "        return len(self.stat)\n",
    "\n",
    "    def __getitem__(self, index):\n",
    "        return {\n",
    "                \"stat\": self.stat[index],\n",
    "                \"label\": self.label[index]\n",
    "                }\n",
    "        \n",
    "    def get_num_batches(self, batch_size):\n",
    "        return len(self) // batch_size"
   ]
  },
  {
   "cell_type": "code",
   "execution_count": 4,
   "id": "72f5c6bc-917b-425f-aec4-31e228e267e2",
   "metadata": {
    "tags": []
   },
   "outputs": [],
   "source": [
    "class legacyClassifier(nn.Module):\n",
    "    def __init__(self, dropout=0.5):\n",
    "        super(legacyClassifier, self).__init__()\n",
    "        self.linear1 = nn.Linear(36, 1024)\n",
    "        self.dropout2 = nn.Dropout(dropout)\n",
    "        self.linear2 = nn.Linear(1024,3)\n",
    "        \n",
    "    def forward(self, input_id):\n",
    "        linear_output = self.linear1(input_id)\n",
    "        dropout_output1 = self.dropout2(linear_output)\n",
    "        linear_output1 = self.linear2(dropout_output1)\n",
    "        output = F.sigmoid(linear_output1)\n",
    "        return output"
   ]
  },
  {
   "cell_type": "code",
   "execution_count": 5,
   "id": "ba62c468-c630-4c1e-ac0f-8dcf900594a1",
   "metadata": {},
   "outputs": [],
   "source": [
    "stat = pd.read_csv(os.path.join(data_path,'average.csv'))\n",
    "match = pd.read_csv(os.path.join(data_path,'match_day.csv'))\n",
    "le = LabelEncoder()\n",
    "_=le.fit(['승','패','무승부'])"
   ]
  },
  {
   "cell_type": "code",
   "execution_count": 24,
   "id": "eb62a444-e32e-4dde-8195-0cd908effdbb",
   "metadata": {},
   "outputs": [],
   "source": [
    "train_match,valid_match = train_test_split(match,shuffle=True,random_state=56)"
   ]
  },
  {
   "cell_type": "code",
   "execution_count": 25,
   "id": "e552d278-37bf-4a7e-9954-7c74bb28dffa",
   "metadata": {},
   "outputs": [
    {
     "name": "stdout",
     "output_type": "stream",
     "text": [
      "576 189\n"
     ]
    }
   ],
   "source": [
    "train_dataset = StatDataset(train_match,stat,le)\n",
    "valid_dataset = StatDataset(valid_match,stat,le)\n",
    "print(len(train_dataset),len(valid_dataset))"
   ]
  },
  {
   "cell_type": "code",
   "execution_count": 26,
   "id": "38f66e82-647b-403d-b781-beab2bf7ec7b",
   "metadata": {},
   "outputs": [],
   "source": [
    "batch_size = 16\n",
    "epochs = 1000\n",
    "device='cuda'"
   ]
  },
  {
   "cell_type": "code",
   "execution_count": 27,
   "id": "9654751a-30f1-43a9-817a-f930b2204e77",
   "metadata": {},
   "outputs": [
    {
     "data": {
      "text/plain": [
       "array(['무승부', '승', '패'], dtype='<U3')"
      ]
     },
     "execution_count": 27,
     "metadata": {},
     "output_type": "execute_result"
    }
   ],
   "source": [
    "le.classes_"
   ]
  },
  {
   "cell_type": "code",
   "execution_count": 28,
   "id": "d6881ca2-0666-4a38-9389-f00cf87f33f2",
   "metadata": {},
   "outputs": [],
   "source": [
    "train_class = pd.DataFrame(train_dataset.label)\n",
    "train_class_counts = [len(train_class.loc[train_class[0] == 0]) , len(train_class.loc[train_class[0] == 1])  , len(train_class.loc[train_class[0] == 2])]\n",
    "train_num_samples = sum(train_class_counts)\n",
    "train_labels = list(train_class.values.reshape(-1))\n",
    "\n",
    "train_class_weights = [train_num_samples / train_class_counts[i] for i in range(len(train_class_counts))] \n",
    "\n",
    "# 해당 데이터의 label에 해당되는 가중치\n",
    "train_weights = [train_class_weights[train_labels[i]] for i in range(int(train_num_samples))] #해당 레이블마다의 가중치 비율\n",
    "train_sampler = WeightedRandomSampler(torch.DoubleTensor(train_weights), int(train_num_samples))"
   ]
  },
  {
   "cell_type": "code",
   "execution_count": 29,
   "id": "58cd0b74-d2b5-48d1-83b6-568a1eea59a8",
   "metadata": {},
   "outputs": [],
   "source": [
    "valid_class = pd.DataFrame(valid_dataset.label)\n",
    "valid_class_counts = [len(valid_class.loc[train_class[0] == 0]) , len(valid_class.loc[train_class[0] == 1])  , len(valid_class.loc[train_class[0] == 2])]\n",
    "valid_num_samples = sum(valid_class_counts)\n",
    "valid_labels = list(valid_class.values.reshape(-1))\n",
    "\n",
    "valid_class_weights = [valid_num_samples / valid_class_counts[i] for i in range(len(valid_class_counts))] \n",
    "\n",
    "# 해당 데이터의 label에 해당되는 가중치\n",
    "valid_weights = [valid_class_weights[valid_labels[i]] for i in range(int(valid_num_samples))] #해당 레이블마다의 가중치 비율\n",
    "valid_sampler = WeightedRandomSampler(torch.DoubleTensor(valid_weights), int(valid_num_samples))"
   ]
  },
  {
   "cell_type": "code",
   "execution_count": 30,
   "id": "40652ddf-771b-4dfd-b19a-c915d5d74843",
   "metadata": {},
   "outputs": [],
   "source": [
    "classifier = legacyClassifier()\n",
    "classifier.cuda()\n",
    "optimizer = AdamW(classifier.parameters(), lr=1e-9)"
   ]
  },
  {
   "cell_type": "code",
   "execution_count": 31,
   "id": "5f1f47b9-45af-4aea-bc6e-b4dde9dee89a",
   "metadata": {},
   "outputs": [],
   "source": [
    "criterion = nn.CrossEntropyLoss()\n",
    "_=criterion.cuda()"
   ]
  },
  {
   "cell_type": "code",
   "execution_count": 32,
   "id": "45cb6267-275b-42d2-ba32-7d13d7e3efee",
   "metadata": {},
   "outputs": [],
   "source": [
    "train_dataloader = DataLoader(train_dataset, batch_size=batch_size, shuffle=False,sampler = train_sampler)\n",
    "val_dataloader = DataLoader(valid_dataset, batch_size=batch_size,shuffle=False,sampler = valid_sampler)"
   ]
  },
  {
   "cell_type": "code",
   "execution_count": 33,
   "id": "5a63dc26-e16f-4c73-8e55-aca9d6daeb27",
   "metadata": {},
   "outputs": [],
   "source": [
    "train_loss = []\n",
    "train_acc = []\n",
    "\n",
    "valid_loss = []\n",
    "valid_acc = []"
   ]
  },
  {
   "cell_type": "code",
   "execution_count": 34,
   "id": "002beafd-819c-4f08-83c6-8cf581251d50",
   "metadata": {},
   "outputs": [
    {
     "data": {
      "application/vnd.jupyter.widget-view+json": {
       "model_id": "2909147d553445f8866532dd1a1fb211",
       "version_major": 2,
       "version_minor": 0
      },
      "text/plain": [
       "  0%|          | 0/1000 [00:00<?, ?it/s]"
      ]
     },
     "metadata": {},
     "output_type": "display_data"
    },
    {
     "name": "stderr",
     "output_type": "stream",
     "text": [
      "/home/se/anaconda3/lib/python3.8/site-packages/torch/nn/functional.py:1709: UserWarning: nn.functional.sigmoid is deprecated. Use torch.sigmoid instead.\n",
      "  warnings.warn(\"nn.functional.sigmoid is deprecated. Use torch.sigmoid instead.\")\n"
     ]
    },
    {
     "name": "stdout",
     "output_type": "stream",
     "text": [
      "Epochs: 1 | Train Loss:  0.070                 | Train Accuracy:  0.021                 | Val Loss:  0.073                 | Val Accuracy:  0.018\n",
      "Epochs: 2 | Train Loss:  0.069                 | Train Accuracy:  0.024                 | Val Loss:  0.072                 | Val Accuracy:  0.021\n",
      "Epochs: 3 | Train Loss:  0.070                 | Train Accuracy:  0.022                 | Val Loss:  0.072                 | Val Accuracy:  0.019\n",
      "Epochs: 4 | Train Loss:  0.070                 | Train Accuracy:  0.021                 | Val Loss:  0.071                 | Val Accuracy:  0.020\n",
      "Epochs: 5 | Train Loss:  0.069                 | Train Accuracy:  0.021                 | Val Loss:  0.073                 | Val Accuracy:  0.020\n",
      "Epochs: 6 | Train Loss:  0.070                 | Train Accuracy:  0.022                 | Val Loss:  0.072                 | Val Accuracy:  0.020\n",
      "Epochs: 7 | Train Loss:  0.070                 | Train Accuracy:  0.021                 | Val Loss:  0.071                 | Val Accuracy:  0.024\n",
      "Epochs: 8 | Train Loss:  0.071                 | Train Accuracy:  0.020                 | Val Loss:  0.073                 | Val Accuracy:  0.020\n",
      "Epochs: 9 | Train Loss:  0.070                 | Train Accuracy:  0.021                 | Val Loss:  0.072                 | Val Accuracy:  0.023\n",
      "Epochs: 10 | Train Loss:  0.069                 | Train Accuracy:  0.023                 | Val Loss:  0.071                 | Val Accuracy:  0.021\n",
      "Epochs: 11 | Train Loss:  0.069                 | Train Accuracy:  0.022                 | Val Loss:  0.072                 | Val Accuracy:  0.022\n",
      "Epochs: 12 | Train Loss:  0.069                 | Train Accuracy:  0.023                 | Val Loss:  0.072                 | Val Accuracy:  0.019\n",
      "Epochs: 13 | Train Loss:  0.069                 | Train Accuracy:  0.023                 | Val Loss:  0.072                 | Val Accuracy:  0.017\n",
      "Epochs: 14 | Train Loss:  0.069                 | Train Accuracy:  0.021                 | Val Loss:  0.073                 | Val Accuracy:  0.016\n",
      "Epochs: 15 | Train Loss:  0.070                 | Train Accuracy:  0.021                 | Val Loss:  0.071                 | Val Accuracy:  0.022\n",
      "Epochs: 16 | Train Loss:  0.070                 | Train Accuracy:  0.022                 | Val Loss:  0.072                 | Val Accuracy:  0.020\n",
      "Epochs: 17 | Train Loss:  0.070                 | Train Accuracy:  0.019                 | Val Loss:  0.072                 | Val Accuracy:  0.018\n",
      "Epochs: 18 | Train Loss:  0.070                 | Train Accuracy:  0.020                 | Val Loss:  0.072                 | Val Accuracy:  0.020\n",
      "Epochs: 19 | Train Loss:  0.070                 | Train Accuracy:  0.021                 | Val Loss:  0.074                 | Val Accuracy:  0.019\n",
      "Epochs: 20 | Train Loss:  0.071                 | Train Accuracy:  0.019                 | Val Loss:  0.074                 | Val Accuracy:  0.016\n",
      "Epochs: 21 | Train Loss:  0.070                 | Train Accuracy:  0.021                 | Val Loss:  0.072                 | Val Accuracy:  0.021\n",
      "Epochs: 22 | Train Loss:  0.070                 | Train Accuracy:  0.024                 | Val Loss:  0.074                 | Val Accuracy:  0.012\n",
      "Epochs: 23 | Train Loss:  0.069                 | Train Accuracy:  0.023                 | Val Loss:  0.072                 | Val Accuracy:  0.016\n",
      "Epochs: 24 | Train Loss:  0.069                 | Train Accuracy:  0.022                 | Val Loss:  0.072                 | Val Accuracy:  0.020\n",
      "Epochs: 25 | Train Loss:  0.070                 | Train Accuracy:  0.021                 | Val Loss:  0.072                 | Val Accuracy:  0.018\n",
      "Epochs: 26 | Train Loss:  0.069                 | Train Accuracy:  0.022                 | Val Loss:  0.071                 | Val Accuracy:  0.023\n",
      "Epochs: 27 | Train Loss:  0.070                 | Train Accuracy:  0.020                 | Val Loss:  0.073                 | Val Accuracy:  0.018\n",
      "Epochs: 28 | Train Loss:  0.069                 | Train Accuracy:  0.023                 | Val Loss:  0.071                 | Val Accuracy:  0.022\n",
      "Epochs: 29 | Train Loss:  0.070                 | Train Accuracy:  0.021                 | Val Loss:  0.072                 | Val Accuracy:  0.022\n",
      "Epochs: 30 | Train Loss:  0.071                 | Train Accuracy:  0.020                 | Val Loss:  0.072                 | Val Accuracy:  0.018\n",
      "Epochs: 31 | Train Loss:  0.070                 | Train Accuracy:  0.021                 | Val Loss:  0.072                 | Val Accuracy:  0.022\n",
      "Epochs: 32 | Train Loss:  0.069                 | Train Accuracy:  0.022                 | Val Loss:  0.072                 | Val Accuracy:  0.019\n",
      "Epochs: 33 | Train Loss:  0.069                 | Train Accuracy:  0.022                 | Val Loss:  0.071                 | Val Accuracy:  0.021\n",
      "Epochs: 34 | Train Loss:  0.070                 | Train Accuracy:  0.020                 | Val Loss:  0.072                 | Val Accuracy:  0.019\n",
      "Epochs: 35 | Train Loss:  0.071                 | Train Accuracy:  0.019                 | Val Loss:  0.071                 | Val Accuracy:  0.021\n",
      "Epochs: 36 | Train Loss:  0.069                 | Train Accuracy:  0.023                 | Val Loss:  0.072                 | Val Accuracy:  0.020\n",
      "Epochs: 37 | Train Loss:  0.070                 | Train Accuracy:  0.020                 | Val Loss:  0.072                 | Val Accuracy:  0.019\n",
      "Epochs: 38 | Train Loss:  0.069                 | Train Accuracy:  0.023                 | Val Loss:  0.072                 | Val Accuracy:  0.020\n",
      "Epochs: 39 | Train Loss:  0.070                 | Train Accuracy:  0.021                 | Val Loss:  0.072                 | Val Accuracy:  0.016\n",
      "Epochs: 40 | Train Loss:  0.070                 | Train Accuracy:  0.022                 | Val Loss:  0.071                 | Val Accuracy:  0.023\n",
      "Epochs: 41 | Train Loss:  0.070                 | Train Accuracy:  0.019                 | Val Loss:  0.073                 | Val Accuracy:  0.020\n",
      "Epochs: 42 | Train Loss:  0.070                 | Train Accuracy:  0.020                 | Val Loss:  0.072                 | Val Accuracy:  0.021\n",
      "Epochs: 43 | Train Loss:  0.070                 | Train Accuracy:  0.022                 | Val Loss:  0.072                 | Val Accuracy:  0.020\n",
      "Epochs: 44 | Train Loss:  0.071                 | Train Accuracy:  0.020                 | Val Loss:  0.071                 | Val Accuracy:  0.024\n",
      "Epochs: 45 | Train Loss:  0.070                 | Train Accuracy:  0.021                 | Val Loss:  0.072                 | Val Accuracy:  0.020\n",
      "Epochs: 46 | Train Loss:  0.070                 | Train Accuracy:  0.021                 | Val Loss:  0.072                 | Val Accuracy:  0.019\n",
      "Epochs: 47 | Train Loss:  0.070                 | Train Accuracy:  0.021                 | Val Loss:  0.072                 | Val Accuracy:  0.021\n",
      "Epochs: 48 | Train Loss:  0.070                 | Train Accuracy:  0.021                 | Val Loss:  0.074                 | Val Accuracy:  0.017\n",
      "Epochs: 49 | Train Loss:  0.070                 | Train Accuracy:  0.021                 | Val Loss:  0.072                 | Val Accuracy:  0.018\n",
      "Epochs: 50 | Train Loss:  0.070                 | Train Accuracy:  0.022                 | Val Loss:  0.071                 | Val Accuracy:  0.022\n",
      "Epochs: 51 | Train Loss:  0.069                 | Train Accuracy:  0.022                 | Val Loss:  0.071                 | Val Accuracy:  0.023\n",
      "Epochs: 52 | Train Loss:  0.070                 | Train Accuracy:  0.020                 | Val Loss:  0.072                 | Val Accuracy:  0.018\n",
      "Epochs: 53 | Train Loss:  0.071                 | Train Accuracy:  0.021                 | Val Loss:  0.071                 | Val Accuracy:  0.021\n",
      "Epochs: 54 | Train Loss:  0.070                 | Train Accuracy:  0.021                 | Val Loss:  0.072                 | Val Accuracy:  0.022\n",
      "Epochs: 55 | Train Loss:  0.069                 | Train Accuracy:  0.024                 | Val Loss:  0.071                 | Val Accuracy:  0.021\n",
      "Epochs: 56 | Train Loss:  0.070                 | Train Accuracy:  0.020                 | Val Loss:  0.072                 | Val Accuracy:  0.018\n",
      "Epochs: 57 | Train Loss:  0.070                 | Train Accuracy:  0.020                 | Val Loss:  0.072                 | Val Accuracy:  0.020\n",
      "Epochs: 58 | Train Loss:  0.070                 | Train Accuracy:  0.018                 | Val Loss:  0.072                 | Val Accuracy:  0.023\n",
      "Epochs: 59 | Train Loss:  0.069                 | Train Accuracy:  0.024                 | Val Loss:  0.073                 | Val Accuracy:  0.019\n",
      "Epochs: 60 | Train Loss:  0.069                 | Train Accuracy:  0.020                 | Val Loss:  0.072                 | Val Accuracy:  0.022\n",
      "Epochs: 61 | Train Loss:  0.069                 | Train Accuracy:  0.022                 | Val Loss:  0.073                 | Val Accuracy:  0.024\n",
      "Epochs: 62 | Train Loss:  0.070                 | Train Accuracy:  0.022                 | Val Loss:  0.070                 | Val Accuracy:  0.020\n",
      "Epochs: 63 | Train Loss:  0.070                 | Train Accuracy:  0.022                 | Val Loss:  0.071                 | Val Accuracy:  0.019\n",
      "Epochs: 64 | Train Loss:  0.070                 | Train Accuracy:  0.023                 | Val Loss:  0.072                 | Val Accuracy:  0.020\n",
      "Epochs: 65 | Train Loss:  0.070                 | Train Accuracy:  0.020                 | Val Loss:  0.073                 | Val Accuracy:  0.018\n",
      "Epochs: 66 | Train Loss:  0.071                 | Train Accuracy:  0.019                 | Val Loss:  0.073                 | Val Accuracy:  0.020\n",
      "Epochs: 67 | Train Loss:  0.071                 | Train Accuracy:  0.021                 | Val Loss:  0.071                 | Val Accuracy:  0.022\n",
      "Epochs: 68 | Train Loss:  0.070                 | Train Accuracy:  0.020                 | Val Loss:  0.072                 | Val Accuracy:  0.018\n",
      "Epochs: 69 | Train Loss:  0.069                 | Train Accuracy:  0.023                 | Val Loss:  0.070                 | Val Accuracy:  0.024\n",
      "Epochs: 70 | Train Loss:  0.070                 | Train Accuracy:  0.020                 | Val Loss:  0.073                 | Val Accuracy:  0.017\n",
      "Epochs: 71 | Train Loss:  0.069                 | Train Accuracy:  0.022                 | Val Loss:  0.073                 | Val Accuracy:  0.017\n",
      "Epochs: 72 | Train Loss:  0.070                 | Train Accuracy:  0.021                 | Val Loss:  0.074                 | Val Accuracy:  0.018\n",
      "Epochs: 73 | Train Loss:  0.071                 | Train Accuracy:  0.019                 | Val Loss:  0.072                 | Val Accuracy:  0.021\n",
      "Epochs: 74 | Train Loss:  0.070                 | Train Accuracy:  0.020                 | Val Loss:  0.071                 | Val Accuracy:  0.019\n",
      "Epochs: 75 | Train Loss:  0.069                 | Train Accuracy:  0.023                 | Val Loss:  0.072                 | Val Accuracy:  0.023\n",
      "Epochs: 76 | Train Loss:  0.069                 | Train Accuracy:  0.022                 | Val Loss:  0.072                 | Val Accuracy:  0.020\n",
      "Epochs: 77 | Train Loss:  0.070                 | Train Accuracy:  0.022                 | Val Loss:  0.073                 | Val Accuracy:  0.017\n",
      "Epochs: 78 | Train Loss:  0.071                 | Train Accuracy:  0.020                 | Val Loss:  0.074                 | Val Accuracy:  0.016\n",
      "Epochs: 79 | Train Loss:  0.070                 | Train Accuracy:  0.021                 | Val Loss:  0.073                 | Val Accuracy:  0.019\n",
      "Epochs: 80 | Train Loss:  0.070                 | Train Accuracy:  0.021                 | Val Loss:  0.073                 | Val Accuracy:  0.017\n",
      "Epochs: 81 | Train Loss:  0.069                 | Train Accuracy:  0.021                 | Val Loss:  0.073                 | Val Accuracy:  0.018\n",
      "Epochs: 82 | Train Loss:  0.070                 | Train Accuracy:  0.022                 | Val Loss:  0.072                 | Val Accuracy:  0.017\n",
      "Epochs: 83 | Train Loss:  0.070                 | Train Accuracy:  0.021                 | Val Loss:  0.072                 | Val Accuracy:  0.021\n",
      "Epochs: 84 | Train Loss:  0.070                 | Train Accuracy:  0.020                 | Val Loss:  0.071                 | Val Accuracy:  0.020\n",
      "Epochs: 85 | Train Loss:  0.070                 | Train Accuracy:  0.019                 | Val Loss:  0.075                 | Val Accuracy:  0.015\n",
      "Epochs: 86 | Train Loss:  0.070                 | Train Accuracy:  0.019                 | Val Loss:  0.072                 | Val Accuracy:  0.019\n",
      "Epochs: 87 | Train Loss:  0.070                 | Train Accuracy:  0.023                 | Val Loss:  0.073                 | Val Accuracy:  0.017\n",
      "Epochs: 88 | Train Loss:  0.070                 | Train Accuracy:  0.021                 | Val Loss:  0.073                 | Val Accuracy:  0.019\n",
      "Epochs: 89 | Train Loss:  0.070                 | Train Accuracy:  0.022                 | Val Loss:  0.072                 | Val Accuracy:  0.023\n",
      "Epochs: 90 | Train Loss:  0.070                 | Train Accuracy:  0.022                 | Val Loss:  0.072                 | Val Accuracy:  0.019\n",
      "Epochs: 91 | Train Loss:  0.071                 | Train Accuracy:  0.018                 | Val Loss:  0.072                 | Val Accuracy:  0.018\n",
      "Epochs: 92 | Train Loss:  0.069                 | Train Accuracy:  0.021                 | Val Loss:  0.072                 | Val Accuracy:  0.017\n",
      "Epochs: 93 | Train Loss:  0.069                 | Train Accuracy:  0.022                 | Val Loss:  0.073                 | Val Accuracy:  0.018\n",
      "Epochs: 94 | Train Loss:  0.069                 | Train Accuracy:  0.021                 | Val Loss:  0.072                 | Val Accuracy:  0.020\n",
      "Epochs: 95 | Train Loss:  0.070                 | Train Accuracy:  0.021                 | Val Loss:  0.073                 | Val Accuracy:  0.019\n",
      "Epochs: 96 | Train Loss:  0.069                 | Train Accuracy:  0.022                 | Val Loss:  0.073                 | Val Accuracy:  0.017\n",
      "Epochs: 97 | Train Loss:  0.070                 | Train Accuracy:  0.022                 | Val Loss:  0.072                 | Val Accuracy:  0.023\n",
      "Epochs: 98 | Train Loss:  0.069                 | Train Accuracy:  0.022                 | Val Loss:  0.072                 | Val Accuracy:  0.019\n",
      "Epochs: 99 | Train Loss:  0.069                 | Train Accuracy:  0.020                 | Val Loss:  0.073                 | Val Accuracy:  0.020\n",
      "Epochs: 100 | Train Loss:  0.070                 | Train Accuracy:  0.021                 | Val Loss:  0.072                 | Val Accuracy:  0.018\n",
      "Epochs: 101 | Train Loss:  0.069                 | Train Accuracy:  0.021                 | Val Loss:  0.071                 | Val Accuracy:  0.021\n",
      "Epochs: 102 | Train Loss:  0.069                 | Train Accuracy:  0.023                 | Val Loss:  0.071                 | Val Accuracy:  0.022\n",
      "Epochs: 103 | Train Loss:  0.070                 | Train Accuracy:  0.020                 | Val Loss:  0.072                 | Val Accuracy:  0.022\n",
      "Epochs: 104 | Train Loss:  0.070                 | Train Accuracy:  0.020                 | Val Loss:  0.071                 | Val Accuracy:  0.021\n",
      "Epochs: 105 | Train Loss:  0.069                 | Train Accuracy:  0.023                 | Val Loss:  0.073                 | Val Accuracy:  0.015\n",
      "Epochs: 106 | Train Loss:  0.070                 | Train Accuracy:  0.021                 | Val Loss:  0.072                 | Val Accuracy:  0.018\n",
      "Epochs: 107 | Train Loss:  0.070                 | Train Accuracy:  0.022                 | Val Loss:  0.073                 | Val Accuracy:  0.018\n",
      "Epochs: 108 | Train Loss:  0.070                 | Train Accuracy:  0.021                 | Val Loss:  0.072                 | Val Accuracy:  0.020\n",
      "Epochs: 109 | Train Loss:  0.069                 | Train Accuracy:  0.022                 | Val Loss:  0.073                 | Val Accuracy:  0.019\n",
      "Epochs: 110 | Train Loss:  0.070                 | Train Accuracy:  0.021                 | Val Loss:  0.072                 | Val Accuracy:  0.020\n",
      "Epochs: 111 | Train Loss:  0.070                 | Train Accuracy:  0.019                 | Val Loss:  0.073                 | Val Accuracy:  0.016\n",
      "Epochs: 112 | Train Loss:  0.070                 | Train Accuracy:  0.022                 | Val Loss:  0.071                 | Val Accuracy:  0.021\n",
      "Epochs: 113 | Train Loss:  0.070                 | Train Accuracy:  0.020                 | Val Loss:  0.072                 | Val Accuracy:  0.021\n",
      "Epochs: 114 | Train Loss:  0.070                 | Train Accuracy:  0.020                 | Val Loss:  0.073                 | Val Accuracy:  0.018\n",
      "Epochs: 115 | Train Loss:  0.070                 | Train Accuracy:  0.020                 | Val Loss:  0.071                 | Val Accuracy:  0.021\n",
      "Epochs: 116 | Train Loss:  0.071                 | Train Accuracy:  0.022                 | Val Loss:  0.072                 | Val Accuracy:  0.018\n",
      "Epochs: 117 | Train Loss:  0.070                 | Train Accuracy:  0.020                 | Val Loss:  0.072                 | Val Accuracy:  0.020\n",
      "Epochs: 118 | Train Loss:  0.070                 | Train Accuracy:  0.020                 | Val Loss:  0.072                 | Val Accuracy:  0.023\n",
      "Epochs: 119 | Train Loss:  0.070                 | Train Accuracy:  0.020                 | Val Loss:  0.072                 | Val Accuracy:  0.020\n",
      "Epochs: 120 | Train Loss:  0.070                 | Train Accuracy:  0.021                 | Val Loss:  0.071                 | Val Accuracy:  0.020\n",
      "Epochs: 121 | Train Loss:  0.069                 | Train Accuracy:  0.023                 | Val Loss:  0.072                 | Val Accuracy:  0.021\n",
      "Epochs: 122 | Train Loss:  0.069                 | Train Accuracy:  0.020                 | Val Loss:  0.072                 | Val Accuracy:  0.019\n",
      "Epochs: 123 | Train Loss:  0.070                 | Train Accuracy:  0.021                 | Val Loss:  0.073                 | Val Accuracy:  0.019\n",
      "Epochs: 124 | Train Loss:  0.070                 | Train Accuracy:  0.021                 | Val Loss:  0.073                 | Val Accuracy:  0.020\n",
      "Epochs: 125 | Train Loss:  0.070                 | Train Accuracy:  0.021                 | Val Loss:  0.072                 | Val Accuracy:  0.018\n",
      "Epochs: 126 | Train Loss:  0.070                 | Train Accuracy:  0.020                 | Val Loss:  0.071                 | Val Accuracy:  0.017\n",
      "Epochs: 127 | Train Loss:  0.069                 | Train Accuracy:  0.022                 | Val Loss:  0.071                 | Val Accuracy:  0.023\n",
      "Epochs: 128 | Train Loss:  0.070                 | Train Accuracy:  0.022                 | Val Loss:  0.070                 | Val Accuracy:  0.021\n",
      "Epochs: 129 | Train Loss:  0.070                 | Train Accuracy:  0.020                 | Val Loss:  0.073                 | Val Accuracy:  0.018\n",
      "Epochs: 130 | Train Loss:  0.070                 | Train Accuracy:  0.021                 | Val Loss:  0.072                 | Val Accuracy:  0.017\n",
      "Epochs: 131 | Train Loss:  0.069                 | Train Accuracy:  0.021                 | Val Loss:  0.071                 | Val Accuracy:  0.023\n",
      "Epochs: 132 | Train Loss:  0.070                 | Train Accuracy:  0.022                 | Val Loss:  0.073                 | Val Accuracy:  0.019\n",
      "Epochs: 133 | Train Loss:  0.069                 | Train Accuracy:  0.021                 | Val Loss:  0.073                 | Val Accuracy:  0.021\n",
      "Epochs: 134 | Train Loss:  0.070                 | Train Accuracy:  0.021                 | Val Loss:  0.073                 | Val Accuracy:  0.019\n",
      "Epochs: 135 | Train Loss:  0.070                 | Train Accuracy:  0.022                 | Val Loss:  0.071                 | Val Accuracy:  0.022\n",
      "Epochs: 136 | Train Loss:  0.070                 | Train Accuracy:  0.021                 | Val Loss:  0.072                 | Val Accuracy:  0.022\n",
      "Epochs: 137 | Train Loss:  0.070                 | Train Accuracy:  0.022                 | Val Loss:  0.073                 | Val Accuracy:  0.020\n",
      "Epochs: 138 | Train Loss:  0.070                 | Train Accuracy:  0.021                 | Val Loss:  0.072                 | Val Accuracy:  0.021\n",
      "Epochs: 139 | Train Loss:  0.069                 | Train Accuracy:  0.022                 | Val Loss:  0.071                 | Val Accuracy:  0.022\n",
      "Epochs: 140 | Train Loss:  0.070                 | Train Accuracy:  0.020                 | Val Loss:  0.071                 | Val Accuracy:  0.021\n",
      "Epochs: 141 | Train Loss:  0.069                 | Train Accuracy:  0.023                 | Val Loss:  0.074                 | Val Accuracy:  0.015\n",
      "Epochs: 142 | Train Loss:  0.070                 | Train Accuracy:  0.023                 | Val Loss:  0.072                 | Val Accuracy:  0.020\n",
      "Epochs: 143 | Train Loss:  0.070                 | Train Accuracy:  0.021                 | Val Loss:  0.072                 | Val Accuracy:  0.020\n",
      "Epochs: 144 | Train Loss:  0.071                 | Train Accuracy:  0.019                 | Val Loss:  0.071                 | Val Accuracy:  0.017\n",
      "Epochs: 145 | Train Loss:  0.069                 | Train Accuracy:  0.021                 | Val Loss:  0.072                 | Val Accuracy:  0.018\n",
      "Epochs: 146 | Train Loss:  0.069                 | Train Accuracy:  0.022                 | Val Loss:  0.070                 | Val Accuracy:  0.027\n",
      "Epochs: 147 | Train Loss:  0.069                 | Train Accuracy:  0.021                 | Val Loss:  0.074                 | Val Accuracy:  0.016\n",
      "Epochs: 148 | Train Loss:  0.068                 | Train Accuracy:  0.024                 | Val Loss:  0.072                 | Val Accuracy:  0.020\n"
     ]
    },
    {
     "ename": "KeyboardInterrupt",
     "evalue": "",
     "output_type": "error",
     "traceback": [
      "\u001b[0;31m---------------------------------------------------------------------------\u001b[0m",
      "\u001b[0;31mKeyboardInterrupt\u001b[0m                         Traceback (most recent call last)",
      "\u001b[0;32m<ipython-input-34-09d641026bda>\u001b[0m in \u001b[0;36m<module>\u001b[0;34m\u001b[0m\n\u001b[1;32m      5\u001b[0m     \u001b[0mtotal_loss_train\u001b[0m \u001b[0;34m=\u001b[0m \u001b[0;36m0\u001b[0m\u001b[0;34m\u001b[0m\u001b[0;34m\u001b[0m\u001b[0m\n\u001b[1;32m      6\u001b[0m     \u001b[0mclassifier\u001b[0m\u001b[0;34m.\u001b[0m\u001b[0mtrain\u001b[0m\u001b[0;34m(\u001b[0m\u001b[0;34m)\u001b[0m\u001b[0;34m\u001b[0m\u001b[0;34m\u001b[0m\u001b[0m\n\u001b[0;32m----> 7\u001b[0;31m     \u001b[0;32mfor\u001b[0m \u001b[0mi\u001b[0m\u001b[0;34m,\u001b[0m\u001b[0mbatch\u001b[0m \u001b[0;32min\u001b[0m \u001b[0menumerate\u001b[0m\u001b[0;34m(\u001b[0m\u001b[0mtrain_dataloader\u001b[0m\u001b[0;34m)\u001b[0m\u001b[0;34m:\u001b[0m\u001b[0;34m\u001b[0m\u001b[0;34m\u001b[0m\u001b[0m\n\u001b[0m\u001b[1;32m      8\u001b[0m \u001b[0;34m\u001b[0m\u001b[0m\n\u001b[1;32m      9\u001b[0m         \u001b[0moptimizer\u001b[0m\u001b[0;34m.\u001b[0m\u001b[0mzero_grad\u001b[0m\u001b[0;34m(\u001b[0m\u001b[0;34m)\u001b[0m\u001b[0;34m\u001b[0m\u001b[0;34m\u001b[0m\u001b[0m\n",
      "\u001b[0;32m/home/se/anaconda3/lib/python3.8/site-packages/torch/utils/data/dataloader.py\u001b[0m in \u001b[0;36m__next__\u001b[0;34m(self)\u001b[0m\n\u001b[1;32m    515\u001b[0m             \u001b[0;32mif\u001b[0m \u001b[0mself\u001b[0m\u001b[0;34m.\u001b[0m\u001b[0m_sampler_iter\u001b[0m \u001b[0;32mis\u001b[0m \u001b[0;32mNone\u001b[0m\u001b[0;34m:\u001b[0m\u001b[0;34m\u001b[0m\u001b[0;34m\u001b[0m\u001b[0m\n\u001b[1;32m    516\u001b[0m                 \u001b[0mself\u001b[0m\u001b[0;34m.\u001b[0m\u001b[0m_reset\u001b[0m\u001b[0;34m(\u001b[0m\u001b[0;34m)\u001b[0m\u001b[0;34m\u001b[0m\u001b[0;34m\u001b[0m\u001b[0m\n\u001b[0;32m--> 517\u001b[0;31m             \u001b[0mdata\u001b[0m \u001b[0;34m=\u001b[0m \u001b[0mself\u001b[0m\u001b[0;34m.\u001b[0m\u001b[0m_next_data\u001b[0m\u001b[0;34m(\u001b[0m\u001b[0;34m)\u001b[0m\u001b[0;34m\u001b[0m\u001b[0;34m\u001b[0m\u001b[0m\n\u001b[0m\u001b[1;32m    518\u001b[0m             \u001b[0mself\u001b[0m\u001b[0;34m.\u001b[0m\u001b[0m_num_yielded\u001b[0m \u001b[0;34m+=\u001b[0m \u001b[0;36m1\u001b[0m\u001b[0;34m\u001b[0m\u001b[0;34m\u001b[0m\u001b[0m\n\u001b[1;32m    519\u001b[0m             \u001b[0;32mif\u001b[0m \u001b[0mself\u001b[0m\u001b[0;34m.\u001b[0m\u001b[0m_dataset_kind\u001b[0m \u001b[0;34m==\u001b[0m \u001b[0m_DatasetKind\u001b[0m\u001b[0;34m.\u001b[0m\u001b[0mIterable\u001b[0m \u001b[0;32mand\u001b[0m\u001b[0;31m \u001b[0m\u001b[0;31m\\\u001b[0m\u001b[0;34m\u001b[0m\u001b[0;34m\u001b[0m\u001b[0m\n",
      "\u001b[0;32m/home/se/anaconda3/lib/python3.8/site-packages/torch/utils/data/dataloader.py\u001b[0m in \u001b[0;36m_next_data\u001b[0;34m(self)\u001b[0m\n\u001b[1;32m    555\u001b[0m     \u001b[0;32mdef\u001b[0m \u001b[0m_next_data\u001b[0m\u001b[0;34m(\u001b[0m\u001b[0mself\u001b[0m\u001b[0;34m)\u001b[0m\u001b[0;34m:\u001b[0m\u001b[0;34m\u001b[0m\u001b[0;34m\u001b[0m\u001b[0m\n\u001b[1;32m    556\u001b[0m         \u001b[0mindex\u001b[0m \u001b[0;34m=\u001b[0m \u001b[0mself\u001b[0m\u001b[0;34m.\u001b[0m\u001b[0m_next_index\u001b[0m\u001b[0;34m(\u001b[0m\u001b[0;34m)\u001b[0m  \u001b[0;31m# may raise StopIteration\u001b[0m\u001b[0;34m\u001b[0m\u001b[0;34m\u001b[0m\u001b[0m\n\u001b[0;32m--> 557\u001b[0;31m         \u001b[0mdata\u001b[0m \u001b[0;34m=\u001b[0m \u001b[0mself\u001b[0m\u001b[0;34m.\u001b[0m\u001b[0m_dataset_fetcher\u001b[0m\u001b[0;34m.\u001b[0m\u001b[0mfetch\u001b[0m\u001b[0;34m(\u001b[0m\u001b[0mindex\u001b[0m\u001b[0;34m)\u001b[0m  \u001b[0;31m# may raise StopIteration\u001b[0m\u001b[0;34m\u001b[0m\u001b[0;34m\u001b[0m\u001b[0m\n\u001b[0m\u001b[1;32m    558\u001b[0m         \u001b[0;32mif\u001b[0m \u001b[0mself\u001b[0m\u001b[0;34m.\u001b[0m\u001b[0m_pin_memory\u001b[0m\u001b[0;34m:\u001b[0m\u001b[0;34m\u001b[0m\u001b[0;34m\u001b[0m\u001b[0m\n\u001b[1;32m    559\u001b[0m             \u001b[0mdata\u001b[0m \u001b[0;34m=\u001b[0m \u001b[0m_utils\u001b[0m\u001b[0;34m.\u001b[0m\u001b[0mpin_memory\u001b[0m\u001b[0;34m.\u001b[0m\u001b[0mpin_memory\u001b[0m\u001b[0;34m(\u001b[0m\u001b[0mdata\u001b[0m\u001b[0;34m)\u001b[0m\u001b[0;34m\u001b[0m\u001b[0;34m\u001b[0m\u001b[0m\n",
      "\u001b[0;32m/home/se/anaconda3/lib/python3.8/site-packages/torch/utils/data/_utils/fetch.py\u001b[0m in \u001b[0;36mfetch\u001b[0;34m(self, possibly_batched_index)\u001b[0m\n\u001b[1;32m     42\u001b[0m     \u001b[0;32mdef\u001b[0m \u001b[0mfetch\u001b[0m\u001b[0;34m(\u001b[0m\u001b[0mself\u001b[0m\u001b[0;34m,\u001b[0m \u001b[0mpossibly_batched_index\u001b[0m\u001b[0;34m)\u001b[0m\u001b[0;34m:\u001b[0m\u001b[0;34m\u001b[0m\u001b[0;34m\u001b[0m\u001b[0m\n\u001b[1;32m     43\u001b[0m         \u001b[0;32mif\u001b[0m \u001b[0mself\u001b[0m\u001b[0;34m.\u001b[0m\u001b[0mauto_collation\u001b[0m\u001b[0;34m:\u001b[0m\u001b[0;34m\u001b[0m\u001b[0;34m\u001b[0m\u001b[0m\n\u001b[0;32m---> 44\u001b[0;31m             \u001b[0mdata\u001b[0m \u001b[0;34m=\u001b[0m \u001b[0;34m[\u001b[0m\u001b[0mself\u001b[0m\u001b[0;34m.\u001b[0m\u001b[0mdataset\u001b[0m\u001b[0;34m[\u001b[0m\u001b[0midx\u001b[0m\u001b[0;34m]\u001b[0m \u001b[0;32mfor\u001b[0m \u001b[0midx\u001b[0m \u001b[0;32min\u001b[0m \u001b[0mpossibly_batched_index\u001b[0m\u001b[0;34m]\u001b[0m\u001b[0;34m\u001b[0m\u001b[0;34m\u001b[0m\u001b[0m\n\u001b[0m\u001b[1;32m     45\u001b[0m         \u001b[0;32melse\u001b[0m\u001b[0;34m:\u001b[0m\u001b[0;34m\u001b[0m\u001b[0;34m\u001b[0m\u001b[0m\n\u001b[1;32m     46\u001b[0m             \u001b[0mdata\u001b[0m \u001b[0;34m=\u001b[0m \u001b[0mself\u001b[0m\u001b[0;34m.\u001b[0m\u001b[0mdataset\u001b[0m\u001b[0;34m[\u001b[0m\u001b[0mpossibly_batched_index\u001b[0m\u001b[0;34m]\u001b[0m\u001b[0;34m\u001b[0m\u001b[0;34m\u001b[0m\u001b[0m\n",
      "\u001b[0;32m/home/se/anaconda3/lib/python3.8/site-packages/torch/utils/data/_utils/fetch.py\u001b[0m in \u001b[0;36m<listcomp>\u001b[0;34m(.0)\u001b[0m\n\u001b[1;32m     42\u001b[0m     \u001b[0;32mdef\u001b[0m \u001b[0mfetch\u001b[0m\u001b[0;34m(\u001b[0m\u001b[0mself\u001b[0m\u001b[0;34m,\u001b[0m \u001b[0mpossibly_batched_index\u001b[0m\u001b[0;34m)\u001b[0m\u001b[0;34m:\u001b[0m\u001b[0;34m\u001b[0m\u001b[0;34m\u001b[0m\u001b[0m\n\u001b[1;32m     43\u001b[0m         \u001b[0;32mif\u001b[0m \u001b[0mself\u001b[0m\u001b[0;34m.\u001b[0m\u001b[0mauto_collation\u001b[0m\u001b[0;34m:\u001b[0m\u001b[0;34m\u001b[0m\u001b[0;34m\u001b[0m\u001b[0m\n\u001b[0;32m---> 44\u001b[0;31m             \u001b[0mdata\u001b[0m \u001b[0;34m=\u001b[0m \u001b[0;34m[\u001b[0m\u001b[0mself\u001b[0m\u001b[0;34m.\u001b[0m\u001b[0mdataset\u001b[0m\u001b[0;34m[\u001b[0m\u001b[0midx\u001b[0m\u001b[0;34m]\u001b[0m \u001b[0;32mfor\u001b[0m \u001b[0midx\u001b[0m \u001b[0;32min\u001b[0m \u001b[0mpossibly_batched_index\u001b[0m\u001b[0;34m]\u001b[0m\u001b[0;34m\u001b[0m\u001b[0;34m\u001b[0m\u001b[0m\n\u001b[0m\u001b[1;32m     45\u001b[0m         \u001b[0;32melse\u001b[0m\u001b[0;34m:\u001b[0m\u001b[0;34m\u001b[0m\u001b[0;34m\u001b[0m\u001b[0m\n\u001b[1;32m     46\u001b[0m             \u001b[0mdata\u001b[0m \u001b[0;34m=\u001b[0m \u001b[0mself\u001b[0m\u001b[0;34m.\u001b[0m\u001b[0mdataset\u001b[0m\u001b[0;34m[\u001b[0m\u001b[0mpossibly_batched_index\u001b[0m\u001b[0;34m]\u001b[0m\u001b[0;34m\u001b[0m\u001b[0;34m\u001b[0m\u001b[0m\n",
      "\u001b[0;32m<ipython-input-3-16665781c5b7>\u001b[0m in \u001b[0;36m__getitem__\u001b[0;34m(self, index)\u001b[0m\n\u001b[1;32m     24\u001b[0m     \u001b[0;32mdef\u001b[0m \u001b[0m__getitem__\u001b[0m\u001b[0;34m(\u001b[0m\u001b[0mself\u001b[0m\u001b[0;34m,\u001b[0m \u001b[0mindex\u001b[0m\u001b[0;34m)\u001b[0m\u001b[0;34m:\u001b[0m\u001b[0;34m\u001b[0m\u001b[0;34m\u001b[0m\u001b[0m\n\u001b[1;32m     25\u001b[0m         return {\n\u001b[0;32m---> 26\u001b[0;31m                 \u001b[0;34m\"stat\"\u001b[0m\u001b[0;34m:\u001b[0m \u001b[0mself\u001b[0m\u001b[0;34m.\u001b[0m\u001b[0mstat\u001b[0m\u001b[0;34m[\u001b[0m\u001b[0mindex\u001b[0m\u001b[0;34m]\u001b[0m\u001b[0;34m,\u001b[0m\u001b[0;34m\u001b[0m\u001b[0;34m\u001b[0m\u001b[0m\n\u001b[0m\u001b[1;32m     27\u001b[0m                 \u001b[0;34m\"label\"\u001b[0m\u001b[0;34m:\u001b[0m \u001b[0mself\u001b[0m\u001b[0;34m.\u001b[0m\u001b[0mlabel\u001b[0m\u001b[0;34m[\u001b[0m\u001b[0mindex\u001b[0m\u001b[0;34m]\u001b[0m\u001b[0;34m\u001b[0m\u001b[0;34m\u001b[0m\u001b[0m\n\u001b[1;32m     28\u001b[0m                 }\n",
      "\u001b[0;31mKeyboardInterrupt\u001b[0m: "
     ]
    }
   ],
   "source": [
    "classifier.zero_grad()\n",
    "for epoch in tqdm(range(epochs),total=epochs):\n",
    "\n",
    "    total_acc_train = 0\n",
    "    total_loss_train = 0\n",
    "    classifier.train()\n",
    "    for i,batch in enumerate(train_dataloader):\n",
    "\n",
    "        optimizer.zero_grad()\n",
    "        train_label = batch['label'].to(device)\n",
    "        train_stat = batch['stat'].to(device)\n",
    "        \n",
    "        output = classifier(train_stat)\n",
    "        output = output.squeeze(1)\n",
    "        \n",
    "        batch_loss = criterion(output.float(), train_label)\n",
    "        batch_loss.backward()\n",
    "        optimizer.step()\n",
    "        \n",
    "        total_loss_train += batch_loss.item()\n",
    "        correct_prediction = torch.argmax(output, 1) == train_label\n",
    "\n",
    "        acc = correct_prediction.float().mean()\n",
    "#        acc = (output.round() == train_label).sum().item()\n",
    "\n",
    "        total_acc_train += acc\n",
    "        \n",
    "    train_loss.append(total_loss_train/ len(train_dataset))\n",
    "    train_acc.append(total_acc_train/ len(train_dataset))\n",
    "            \n",
    "    total_acc_val = 0\n",
    "    total_loss_val = 0\n",
    "    classifier.eval()\n",
    "    with  torch.no_grad():\n",
    "        for i,batch in enumerate(val_dataloader):\n",
    "            \n",
    "            val_label = batch['label'].to(device)\n",
    "            val_stat = batch['stat'].to(device)\n",
    "\n",
    "            output = classifier(val_stat)\n",
    "            output = output.squeeze(1)\n",
    "            batch_loss = criterion(output.float(), val_label)\n",
    "            \n",
    "            total_loss_val += batch_loss.item()\n",
    "\n",
    "            correct_prediction = torch.argmax(output, 1) == val_label\n",
    "            acc = correct_prediction.float().mean()\n",
    "            #            acc = (output.round() == val_label).sum().item()\n",
    "            \n",
    "            total_acc_val += acc\n",
    "\n",
    "        valid_loss.append(total_loss_val/ len(valid_dataset))\n",
    "        valid_acc.append(total_acc_val/ len(valid_dataset))\n",
    "#         torch.save(classifier.state_dict(), './model{}.pt'.format(epoch))\n",
    " \n",
    "        print(\n",
    "                f'Epochs: {epoch + 1} | Train Loss: {total_loss_train / len(train_dataset): .3f} \\\n",
    "                | Train Accuracy: {total_acc_train / len(train_dataset): .3f} \\\n",
    "                | Val Loss: {total_loss_val / len(valid_dataset): .3f} \\\n",
    "                | Val Accuracy: {total_acc_val / len(valid_dataset): .3f}')"
   ]
  },
  {
   "cell_type": "code",
   "execution_count": null,
   "id": "a8c58a54-4013-46b3-a157-c368a838e9a1",
   "metadata": {},
   "outputs": [],
   "source": []
  }
 ],
 "metadata": {
  "kernelspec": {
   "display_name": "Python 3",
   "language": "python",
   "name": "python3"
  },
  "language_info": {
   "codemirror_mode": {
    "name": "ipython",
    "version": 3
   },
   "file_extension": ".py",
   "mimetype": "text/x-python",
   "name": "python",
   "nbconvert_exporter": "python",
   "pygments_lexer": "ipython3",
   "version": "3.8.8"
  }
 },
 "nbformat": 4,
 "nbformat_minor": 5
}
