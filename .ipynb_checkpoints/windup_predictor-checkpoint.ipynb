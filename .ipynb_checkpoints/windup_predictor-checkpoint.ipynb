{
 "cells": [
  {
   "cell_type": "code",
   "execution_count": 96,
   "id": "0e19e54a-c5e0-4347-b517-f38653c5528b",
   "metadata": {},
   "outputs": [],
   "source": [
    "import os\n",
    "import torch\n",
    "from torch import nn\n",
    "import pandas as pd\n",
    "from tqdm.auto import tqdm\n",
    "from sklearn.model_selection import train_test_split\n",
    "from torch.utils.data import Dataset, DataLoader,WeightedRandomSampler\n",
    "from torch.optim import AdamW,Adam\n",
    "import torch.nn.functional as F\n",
    "import re"
   ]
  },
  {
   "cell_type": "code",
   "execution_count": 8,
   "id": "1a846df8-dd84-4d0b-9d8a-ceec46f925fc",
   "metadata": {},
   "outputs": [],
   "source": [
    "from transformers import AutoModel,AutoTokenizer,BertModel\n",
    "from kobert_tokenizer import KoBERTTokenizer"
   ]
  },
  {
   "cell_type": "code",
   "execution_count": 10,
   "id": "fd9303b0-6582-481c-a91c-c66e19bf26b7",
   "metadata": {},
   "outputs": [],
   "source": [
    "model_path = 'skt/kobert-base-v1' #multilingual"
   ]
  },
  {
   "cell_type": "code",
   "execution_count": 83,
   "id": "f4d5c78b-6fdd-4c06-a1a8-7d0a5c435728",
   "metadata": {},
   "outputs": [],
   "source": [
    "class BertClassifier(nn.Module):\n",
    "\n",
    "    def __init__(self, dropout=0.5):\n",
    "\n",
    "        super(BertClassifier, self).__init__()\n",
    "\n",
    "        self.bert = AutoModel.from_pretrained(model_path)\n",
    "        self.dropout1 = nn.Dropout(dropout)\n",
    "        self.linear1 = nn.Linear(768, 1024)\n",
    "        self.dropout2 = nn.Dropout(dropout)\n",
    "        self.linear2 = nn.Linear(1024,1)\n",
    "        \n",
    "    def forward(self, input_id, mask):\n",
    "        last_hidden_state,_ = self.bert(input_ids= input_id, attention_mask=mask,return_dict=False)\n",
    "        dropout_output = self.dropout1(last_hidden_state)\n",
    "        linear_output = self.linear1(dropout_output)\n",
    "        dropout_output1 = self.dropout2(linear_output)\n",
    "        linear_output1 = self.linear2(dropout_output1)\n",
    "        sigmoid_output = torch.sigmoid(linear_output1)\n",
    "        return sigmoid_output[:,0,:]"
   ]
  },
  {
   "cell_type": "code",
   "execution_count": 84,
   "id": "5bf48687-4f1e-4fc1-9de1-8667f0be32ba",
   "metadata": {},
   "outputs": [
    {
     "data": {
      "text/plain": [
       "<All keys matched successfully>"
      ]
     },
     "execution_count": 84,
     "metadata": {},
     "output_type": "execute_result"
    }
   ],
   "source": [
    "tokenizer = KoBERTTokenizer.from_pretrained('skt/kobert-base-v1')\n",
    "classifier = BertClassifier()\n",
    "classifier.load_state_dict(torch.load('/home/se/paper/classifier/kobert_base_model/model.pt'))"
   ]
  },
  {
   "cell_type": "code",
   "execution_count": 85,
   "id": "2a30f331-caec-45cb-9bcc-fc4ff0520995",
   "metadata": {},
   "outputs": [],
   "source": [
    "def preprocess(context,null_char='',space_char=' '):\n",
    "    bracket_removed_context = re.sub(r'\\([^)]*\\)', null_char, context)\n",
    "    square_bracket_removed_context = re.sub(r'\\[[^]]*\\]', null_char, bracket_removed_context)\n",
    "    punc_removed_context = re.sub(r'[^\\w\\s]',space_char,square_bracket_removed_context)\n",
    "    repeated_space_removed_context = re.sub(r'[\\n]{2,}','\\n',punc_removed_context)\n",
    "    repeated_space_removed_context.upper()\n",
    "            \n",
    "    return repeated_space_removed_context"
   ]
  },
  {
   "cell_type": "code",
   "execution_count": 86,
   "id": "7c2ae5de-ae53-4af2-8e0e-90b6415db8e1",
   "metadata": {},
   "outputs": [],
   "source": [
    "def predict(contents):\n",
    "    model_input = tokenizer(preprocess(contents),padding='max_length', max_length = 512, truncation=True,return_tensors=\"pt\")\n",
    "    mask = model_input['attention_mask']\n",
    "    input_ids = model_input['input_ids']\n",
    "    label = classifier(input_ids,mask)\n",
    "    return round(label.item())"
   ]
  },
  {
   "cell_type": "code",
   "execution_count": 87,
   "id": "dbf7ab5e-1ad9-4b85-9287-9feb7f3f9e7a",
   "metadata": {},
   "outputs": [
    {
     "data": {
      "text/plain": [
       "1"
      ]
     },
     "execution_count": 87,
     "metadata": {},
     "output_type": "execute_result"
    }
   ],
   "source": [
    "predict(target.contents)"
   ]
  },
  {
   "cell_type": "code",
   "execution_count": 3,
   "id": "ec7e22f5-ef44-40fa-8107-c3b6a794f8ba",
   "metadata": {},
   "outputs": [],
   "source": [
    "data_path = '/home/se/paper/legacy/data'"
   ]
  },
  {
   "cell_type": "code",
   "execution_count": 7,
   "id": "62c04458-02e2-420d-975d-9df527652b9b",
   "metadata": {},
   "outputs": [
    {
     "data": {
      "text/html": [
       "<div>\n",
       "<style scoped>\n",
       "    .dataframe tbody tr th:only-of-type {\n",
       "        vertical-align: middle;\n",
       "    }\n",
       "\n",
       "    .dataframe tbody tr th {\n",
       "        vertical-align: top;\n",
       "    }\n",
       "\n",
       "    .dataframe thead th {\n",
       "        text-align: right;\n",
       "    }\n",
       "</style>\n",
       "<table border=\"1\" class=\"dataframe\">\n",
       "  <thead>\n",
       "    <tr style=\"text-align: right;\">\n",
       "      <th></th>\n",
       "      <th>date</th>\n",
       "      <th>state_game</th>\n",
       "      <th>home</th>\n",
       "      <th>home_score</th>\n",
       "      <th>home_result</th>\n",
       "      <th>home_time</th>\n",
       "      <th>away</th>\n",
       "      <th>away_score</th>\n",
       "      <th>away_result</th>\n",
       "      <th>away_time</th>\n",
       "      <th>stadium</th>\n",
       "      <th>home_pitcher</th>\n",
       "      <th>away_pitcher</th>\n",
       "    </tr>\n",
       "  </thead>\n",
       "  <tbody>\n",
       "    <tr>\n",
       "      <th>0</th>\n",
       "      <td>20200505</td>\n",
       "      <td>종료</td>\n",
       "      <td>KIA</td>\n",
       "      <td>2</td>\n",
       "      <td>패</td>\n",
       "      <td>18:30</td>\n",
       "      <td>키움</td>\n",
       "      <td>11</td>\n",
       "      <td>승</td>\n",
       "      <td>18:30</td>\n",
       "      <td>광주</td>\n",
       "      <td>양현종</td>\n",
       "      <td>브리검</td>\n",
       "    </tr>\n",
       "    <tr>\n",
       "      <th>1</th>\n",
       "      <td>20200505</td>\n",
       "      <td>종료</td>\n",
       "      <td>LG</td>\n",
       "      <td>8</td>\n",
       "      <td>승</td>\n",
       "      <td>18:30</td>\n",
       "      <td>두산</td>\n",
       "      <td>2</td>\n",
       "      <td>패</td>\n",
       "      <td>18:30</td>\n",
       "      <td>잠실</td>\n",
       "      <td>차우찬</td>\n",
       "      <td>알칸타라</td>\n",
       "    </tr>\n",
       "    <tr>\n",
       "      <th>2</th>\n",
       "      <td>20200505</td>\n",
       "      <td>종료</td>\n",
       "      <td>삼성</td>\n",
       "      <td>0</td>\n",
       "      <td>패</td>\n",
       "      <td>18:30</td>\n",
       "      <td>NC</td>\n",
       "      <td>4</td>\n",
       "      <td>승</td>\n",
       "      <td>18:30</td>\n",
       "      <td>대구</td>\n",
       "      <td>백정현</td>\n",
       "      <td>루친스키</td>\n",
       "    </tr>\n",
       "    <tr>\n",
       "      <th>3</th>\n",
       "      <td>20200505</td>\n",
       "      <td>종료</td>\n",
       "      <td>KT</td>\n",
       "      <td>2</td>\n",
       "      <td>패</td>\n",
       "      <td>18:30</td>\n",
       "      <td>롯데</td>\n",
       "      <td>7</td>\n",
       "      <td>승</td>\n",
       "      <td>18:30</td>\n",
       "      <td>수원</td>\n",
       "      <td>데스파이네</td>\n",
       "      <td>스트레일리</td>\n",
       "    </tr>\n",
       "    <tr>\n",
       "      <th>4</th>\n",
       "      <td>20200505</td>\n",
       "      <td>종료</td>\n",
       "      <td>SSG</td>\n",
       "      <td>0</td>\n",
       "      <td>패</td>\n",
       "      <td>18:30</td>\n",
       "      <td>한화</td>\n",
       "      <td>3</td>\n",
       "      <td>승</td>\n",
       "      <td>18:30</td>\n",
       "      <td>인천</td>\n",
       "      <td>킹엄</td>\n",
       "      <td>서폴드</td>\n",
       "    </tr>\n",
       "  </tbody>\n",
       "</table>\n",
       "</div>"
      ],
      "text/plain": [
       "       date state_game home  home_score home_result home_time away  \\\n",
       "0  20200505         종료  KIA           2           패     18:30   키움   \n",
       "1  20200505         종료   LG           8           승     18:30   두산   \n",
       "2  20200505         종료   삼성           0           패     18:30   NC   \n",
       "3  20200505         종료   KT           2           패     18:30   롯데   \n",
       "4  20200505         종료  SSG           0           패     18:30   한화   \n",
       "\n",
       "   away_score away_result away_time stadium home_pitcher away_pitcher  \n",
       "0          11           승     18:30      광주          양현종          브리검  \n",
       "1           2           패     18:30      잠실          차우찬         알칸타라  \n",
       "2           4           승     18:30      대구          백정현         루친스키  \n",
       "3           7           승     18:30      수원        데스파이네        스트레일리  \n",
       "4           3           승     18:30      인천           킹엄          서폴드  "
      ]
     },
     "execution_count": 7,
     "metadata": {},
     "output_type": "execute_result"
    }
   ],
   "source": [
    "match.head()"
   ]
  },
  {
   "cell_type": "code",
   "execution_count": 6,
   "id": "ac557f64-7b79-4321-835c-0b3f86b48386",
   "metadata": {},
   "outputs": [
    {
     "data": {
      "text/html": [
       "<div>\n",
       "<style scoped>\n",
       "    .dataframe tbody tr th:only-of-type {\n",
       "        vertical-align: middle;\n",
       "    }\n",
       "\n",
       "    .dataframe tbody tr th {\n",
       "        vertical-align: top;\n",
       "    }\n",
       "\n",
       "    .dataframe thead th {\n",
       "        text-align: right;\n",
       "    }\n",
       "</style>\n",
       "<table border=\"1\" class=\"dataframe\">\n",
       "  <thead>\n",
       "    <tr style=\"text-align: right;\">\n",
       "      <th></th>\n",
       "      <th>team</th>\n",
       "      <th>date</th>\n",
       "      <th>time</th>\n",
       "      <th>image</th>\n",
       "      <th>contents</th>\n",
       "    </tr>\n",
       "  </thead>\n",
       "  <tbody>\n",
       "    <tr>\n",
       "      <th>0</th>\n",
       "      <td>키움</td>\n",
       "      <td>20160101</td>\n",
       "      <td>오전 09:16</td>\n",
       "      <td>https://imgnews.pstatic.net/image/421/2016/01/...</td>\n",
       "      <td>'단일 경기사용구·비디오판독·돔구장' 새해, 달라지는 것들 2016시즌 처음으로 ...</td>\n",
       "    </tr>\n",
       "    <tr>\n",
       "      <th>1</th>\n",
       "      <td>키움</td>\n",
       "      <td>20160101</td>\n",
       "      <td>오전 05:51</td>\n",
       "      <td>https://imgnews.pstatic.net/image/109/2016/01/...</td>\n",
       "      <td>넥센 히어로즈의 2016시즌은 유망주들에게 달려 있다. 넥센은 2016년 새해를 ...</td>\n",
       "    </tr>\n",
       "    <tr>\n",
       "      <th>2</th>\n",
       "      <td>키움</td>\n",
       "      <td>20160103</td>\n",
       "      <td>오후 03:09</td>\n",
       "      <td>https://imgnews.pstatic.net/image/396/2016/01/...</td>\n",
       "      <td>염경엽·이택근 ‘원숭이띠 리더’, 넥센 이끄는 힘 〔정정욱 기자〕 2016년 ‘원숭...</td>\n",
       "    </tr>\n",
       "    <tr>\n",
       "      <th>3</th>\n",
       "      <td>키움</td>\n",
       "      <td>20160103</td>\n",
       "      <td>오후 12:26</td>\n",
       "      <td>https://imgnews.pstatic.net/image/477/2016/01/...</td>\n",
       "      <td>창단 후 8년을 살던 목동에서 고척동으로 이사 가며 뚜껑을 '득템'했다. 그런데 ...</td>\n",
       "    </tr>\n",
       "    <tr>\n",
       "      <th>4</th>\n",
       "      <td>키움</td>\n",
       "      <td>20160103</td>\n",
       "      <td>오전 06:04</td>\n",
       "      <td>https://imgnews.pstatic.net/image/109/2016/01/...</td>\n",
       "      <td>넥센 히어로즈 외야수 허정협이 팀의 장타력 약화를 막을 수 있을까. 넥센은 최근 ...</td>\n",
       "    </tr>\n",
       "  </tbody>\n",
       "</table>\n",
       "</div>"
      ],
      "text/plain": [
       "  team      date      time                                              image  \\\n",
       "0   키움  20160101  오전 09:16  https://imgnews.pstatic.net/image/421/2016/01/...   \n",
       "1   키움  20160101  오전 05:51  https://imgnews.pstatic.net/image/109/2016/01/...   \n",
       "2   키움  20160103  오후 03:09  https://imgnews.pstatic.net/image/396/2016/01/...   \n",
       "3   키움  20160103  오후 12:26  https://imgnews.pstatic.net/image/477/2016/01/...   \n",
       "4   키움  20160103  오전 06:04  https://imgnews.pstatic.net/image/109/2016/01/...   \n",
       "\n",
       "                                            contents  \n",
       "0   '단일 경기사용구·비디오판독·돔구장' 새해, 달라지는 것들 2016시즌 처음으로 ...  \n",
       "1   넥센 히어로즈의 2016시즌은 유망주들에게 달려 있다. 넥센은 2016년 새해를 ...  \n",
       "2  염경엽·이택근 ‘원숭이띠 리더’, 넥센 이끄는 힘 〔정정욱 기자〕 2016년 ‘원숭...  \n",
       "3   창단 후 8년을 살던 목동에서 고척동으로 이사 가며 뚜껑을 '득템'했다. 그런데 ...  \n",
       "4   넥센 히어로즈 외야수 허정협이 팀의 장타력 약화를 막을 수 있을까. 넥센은 최근 ...  "
      ]
     },
     "execution_count": 6,
     "metadata": {},
     "output_type": "execute_result"
    }
   ],
   "source": [
    "article.head()"
   ]
  },
  {
   "cell_type": "code",
   "execution_count": 88,
   "id": "5dba68a2-81ce-45ba-be9e-05fca071a49f",
   "metadata": {},
   "outputs": [],
   "source": [
    "from sklearn.preprocessing import LabelEncoder\n",
    "class StatDataset(Dataset):\n",
    "    def __init__(self, match,stat,article,le):\n",
    "        \n",
    "        tmp = []\n",
    "        label = []\n",
    "        \n",
    "        for home_pitcher,home_team,away_pitcher,away_team,home_result,date in \\\n",
    "        list(zip(match['home_pitcher'].values,match['home'].values,match['away_pitcher'],match['away'],match['home_result'],match['date'])):\n",
    "            home_player_stat = stat.loc[(stat['name'] == home_pitcher) & (stat['team'] == home_team)]\n",
    "            away_player_stat = stat.loc[(stat['name'] == away_pitcher) & (stat['team'] == away_team)]\n",
    "\n",
    "            if (len(home_player_stat) != 0) and (len(away_player_stat) != 0):\n",
    "                vector = home_player_stat.values.tolist()[0][2:] + away_player_stat.values.tolist()[0][2:]\n",
    "                home_article = article.loc[(article['team'] == home_team) & (article['date'] == date)]\n",
    "                away_article = article.loc[(article['team'] == away_team) & (article['date'] == date)]\n",
    "                if (len(home_article) != 0) and (len(away_article) != 0):\n",
    "                    home_sum = 0\n",
    "                    for index,document in home_article.iterrows():\n",
    "                        home_sum += predict(document.contents)\n",
    "\n",
    "                    away_sum = 0\n",
    "                    for index,document in away_article.iterrows():\n",
    "                        away_sum += predict(document.contents)\n",
    "\n",
    "                    vector.append(home_sum / len(home_article))\n",
    "                    vector.append(away_sum / len(away_article))\n",
    "\n",
    "                    tmp.append(vector)\n",
    "                    label.append(home_result)\n",
    "        \n",
    "        transform = le.transform(label)\n",
    "        self.label = torch.tensor(list(transform),dtype=torch.long)\n",
    "        self.stat = torch.tensor(tmp)\n",
    "        \n",
    "        \n",
    "    def __len__(self):\n",
    "        return len(self.stat)\n",
    "\n",
    "    def __getitem__(self, index):\n",
    "        return {\n",
    "                \"stat\": self.stat[index],\n",
    "                \"label\": self.label[index]\n",
    "                }\n",
    "        \n",
    "    def get_num_batches(self, batch_size):\n",
    "        return len(self) // batch_size"
   ]
  },
  {
   "cell_type": "code",
   "execution_count": 90,
   "id": "ba62c468-c630-4c1e-ac0f-8dcf900594a1",
   "metadata": {},
   "outputs": [],
   "source": [
    "stat = pd.read_csv(os.path.join(data_path,'average.csv'))\n",
    "match = pd.read_csv(os.path.join(data_path,'match_day.csv'))\n",
    "article = pd.read_csv(os.path.join(data_path,'article.csv'))"
   ]
  },
  {
   "cell_type": "code",
   "execution_count": 91,
   "id": "72b008c8-d1dc-4322-85bd-542f43b66ed0",
   "metadata": {},
   "outputs": [],
   "source": [
    "le = LabelEncoder()\n",
    "_=le.fit(['승','패','무승부'])"
   ]
  },
  {
   "cell_type": "code",
   "execution_count": 92,
   "id": "eb62a444-e32e-4dde-8195-0cd908effdbb",
   "metadata": {},
   "outputs": [],
   "source": [
    "train_match,valid_match = train_test_split(match,shuffle=True,random_state=56)"
   ]
  },
  {
   "cell_type": "code",
   "execution_count": 94,
   "id": "2ccd2fbd-fd16-45f3-8460-52938a39e415",
   "metadata": {},
   "outputs": [],
   "source": [
    "train_dataset = StatDataset(train_match,stat,article,le)"
   ]
  },
  {
   "cell_type": "code",
   "execution_count": 93,
   "id": "6d5e67b8-607e-4e2d-b7cf-e85aa48797a5",
   "metadata": {},
   "outputs": [],
   "source": [
    "valid_dataset = StatDataset(valid_match,stat,article,le)"
   ]
  },
  {
   "cell_type": "code",
   "execution_count": 95,
   "id": "71ea6ae2-edac-412a-aab4-8ea1b21d10ac",
   "metadata": {},
   "outputs": [
    {
     "name": "stdout",
     "output_type": "stream",
     "text": [
      "327 100\n"
     ]
    }
   ],
   "source": [
    "print(len(train_dataset),len(valid_dataset))"
   ]
  }
 ],
 "metadata": {
  "kernelspec": {
   "display_name": "Python 3",
   "language": "python",
   "name": "python3"
  },
  "language_info": {
   "codemirror_mode": {
    "name": "ipython",
    "version": 3
   },
   "file_extension": ".py",
   "mimetype": "text/x-python",
   "name": "python",
   "nbconvert_exporter": "python",
   "pygments_lexer": "ipython3",
   "version": "3.8.8"
  }
 },
 "nbformat": 4,
 "nbformat_minor": 5
}
