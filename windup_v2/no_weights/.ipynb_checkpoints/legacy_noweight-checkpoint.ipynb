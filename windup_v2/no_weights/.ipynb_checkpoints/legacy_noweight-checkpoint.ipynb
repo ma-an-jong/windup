{
 "cells": [
  {
   "cell_type": "code",
   "execution_count": 1,
   "id": "0e19e54a-c5e0-4347-b517-f38653c5528b",
   "metadata": {},
   "outputs": [],
   "source": [
    "import os\n",
    "import torch\n",
    "from torch import nn\n",
    "import pandas as pd\n",
    "from tqdm.auto import tqdm\n",
    "from sklearn.model_selection import train_test_split\n",
    "from torch.utils.data import Dataset, DataLoader,WeightedRandomSampler\n",
    "from torch.optim import AdamW,Adam\n",
    "import torch.nn.functional as F\n",
    "from matplotlib import pyplot as plt"
   ]
  },
  {
   "cell_type": "code",
   "execution_count": 2,
   "id": "ec7e22f5-ef44-40fa-8107-c3b6a794f8ba",
   "metadata": {},
   "outputs": [],
   "source": [
    "data_path = '/home/se/paper/legacy/data'"
   ]
  },
  {
   "cell_type": "code",
   "execution_count": 3,
   "id": "5dba68a2-81ce-45ba-be9e-05fca071a49f",
   "metadata": {},
   "outputs": [],
   "source": [
    "from sklearn.preprocessing import LabelEncoder\n",
    "class StatDataset(Dataset):\n",
    "    def __init__(self, match,stat,le):\n",
    "        \n",
    "        tmp = []\n",
    "        label = []\n",
    "        \n",
    "        for home_pitcher,home_team,away_pitcher,away_team,home_result in list(zip(match['home_pitcher'].values,match['home'].values,match['away_pitcher'],match['away'],match['home_result'])):\n",
    "            home_player_stat = stat.loc[(stat['name'] == home_pitcher) & (stat['team'] == home_team)]\n",
    "            away_player_stat = stat.loc[(stat['name'] == away_pitcher) & (stat['team'] == away_team)]\n",
    "\n",
    "            if (len(home_player_stat) != 0) and (len(away_player_stat) != 0):\n",
    "                vector = home_player_stat.values.tolist()[0][2:] + away_player_stat.values.tolist()[0][2:]\n",
    "                tmp.append(vector)\n",
    "                label.append(home_result)\n",
    "        \n",
    "        transform = le.transform(label)\n",
    "        self.label = torch.tensor(list(transform),dtype=torch.long)\n",
    "        self.stat = torch.tensor(tmp)\n",
    "            \n",
    "    def __len__(self):\n",
    "        return len(self.stat)\n",
    "\n",
    "    def __getitem__(self, index):\n",
    "        return {\n",
    "                \"stat\": self.stat[index],\n",
    "                \"label\": self.label[index]\n",
    "                }\n",
    "        \n",
    "    def get_num_batches(self, batch_size):\n",
    "        return len(self) // batch_size"
   ]
  },
  {
   "cell_type": "code",
   "execution_count": 4,
   "id": "72f5c6bc-917b-425f-aec4-31e228e267e2",
   "metadata": {
    "tags": []
   },
   "outputs": [],
   "source": [
    "class legacyClassifier(nn.Module):\n",
    "    def __init__(self, dropout=0.5):\n",
    "        super(legacyClassifier, self).__init__()\n",
    "        self.linear1 = nn.Linear(36, 1024)\n",
    "        self.dropout2 = nn.Dropout(dropout)\n",
    "        self.linear2 = nn.Linear(1024,3)\n",
    "        \n",
    "    def forward(self, input_id):\n",
    "        linear_output = self.linear1(input_id)\n",
    "        dropout_output1 = self.dropout2(linear_output)\n",
    "        linear_output1 = self.linear2(dropout_output1)\n",
    "        return linear_output1"
   ]
  },
  {
   "cell_type": "code",
   "execution_count": 5,
   "id": "ba62c468-c630-4c1e-ac0f-8dcf900594a1",
   "metadata": {},
   "outputs": [],
   "source": [
    "stat = pd.read_csv(os.path.join(data_path,'average.csv'))\n",
    "match = pd.read_csv(os.path.join(data_path,'match_day.csv'))\n",
    "le = LabelEncoder()\n",
    "_=le.fit(['승','패','무승부'])"
   ]
  },
  {
   "cell_type": "code",
   "execution_count": 6,
   "id": "eb62a444-e32e-4dde-8195-0cd908effdbb",
   "metadata": {},
   "outputs": [],
   "source": [
    "train_match,valid_match = train_test_split(match,shuffle=True,random_state=56)"
   ]
  },
  {
   "cell_type": "code",
   "execution_count": 7,
   "id": "e552d278-37bf-4a7e-9954-7c74bb28dffa",
   "metadata": {},
   "outputs": [
    {
     "name": "stdout",
     "output_type": "stream",
     "text": [
      "576 189\n"
     ]
    }
   ],
   "source": [
    "train_dataset = StatDataset(train_match,stat,le)\n",
    "valid_dataset = StatDataset(valid_match,stat,le)\n",
    "print(len(train_dataset),len(valid_dataset))"
   ]
  },
  {
   "cell_type": "code",
   "execution_count": 8,
   "id": "38f66e82-647b-403d-b781-beab2bf7ec7b",
   "metadata": {},
   "outputs": [],
   "source": [
    "batch_size = 16\n",
    "epochs = 100\n",
    "device='cuda'"
   ]
  },
  {
   "cell_type": "code",
   "execution_count": 9,
   "id": "9654751a-30f1-43a9-817a-f930b2204e77",
   "metadata": {},
   "outputs": [
    {
     "data": {
      "text/plain": [
       "array(['무승부', '승', '패'], dtype='<U3')"
      ]
     },
     "execution_count": 9,
     "metadata": {},
     "output_type": "execute_result"
    }
   ],
   "source": [
    "le.classes_"
   ]
  },
  {
   "cell_type": "markdown",
   "id": "386c5ea4-35a5-4012-a914-729fdb9430bf",
   "metadata": {},
   "source": [
    "train_class = pd.DataFrame(train_dataset.label)\n",
    "train_class_counts = [len(train_class.loc[train_class[0] == 0]) , len(train_class.loc[train_class[0] == 1])  , len(train_class.loc[train_class[0] == 2])]\n",
    "train_num_samples = sum(train_class_counts)\n",
    "train_labels = list(train_class.values.reshape(-1))\n",
    "\n",
    "train_class_weights = [train_num_samples / train_class_counts[i] for i in range(len(train_class_counts))] \n",
    "\n",
    "# 해당 데이터의 label에 해당되는 가중치\n",
    "train_weights = [train_class_weights[train_labels[i]] for i in range(int(train_num_samples))] #해당 레이블마다의 가중치 비율\n",
    "train_sampler = WeightedRandomSampler(torch.DoubleTensor(train_weights), int(train_num_samples))"
   ]
  },
  {
   "cell_type": "markdown",
   "id": "6d1b895c-0d6a-47ef-8333-53d6713cff3d",
   "metadata": {},
   "source": [
    "valid_class = pd.DataFrame(valid_dataset.label)\n",
    "valid_class_counts = [len(valid_class.loc[train_class[0] == 0]) , len(valid_class.loc[train_class[0] == 1])  , len(valid_class.loc[train_class[0] == 2])]\n",
    "valid_num_samples = sum(valid_class_counts)\n",
    "valid_labels = list(valid_class.values.reshape(-1))\n",
    "\n",
    "valid_class_weights = [valid_num_samples / valid_class_counts[i] for i in range(len(valid_class_counts))] \n",
    "\n",
    "# 해당 데이터의 label에 해당되는 가중치\n",
    "valid_weights = [valid_class_weights[valid_labels[i]] for i in range(int(valid_num_samples))] #해당 레이블마다의 가중치 비율\n",
    "valid_sampler = WeightedRandomSampler(torch.DoubleTensor(valid_weights), int(valid_num_samples))"
   ]
  },
  {
   "cell_type": "markdown",
   "id": "4c60d8f3-a93e-4bf1-8464-0d1f0fe2d616",
   "metadata": {},
   "source": [
    "train_class_weights"
   ]
  },
  {
   "cell_type": "markdown",
   "id": "0b569987-3841-446c-afc8-656e9f1f6405",
   "metadata": {},
   "source": [
    "valid_class_weights"
   ]
  },
  {
   "cell_type": "code",
   "execution_count": 10,
   "id": "40652ddf-771b-4dfd-b19a-c915d5d74843",
   "metadata": {},
   "outputs": [],
   "source": [
    "classifier = legacyClassifier()\n",
    "classifier.cuda()\n",
    "optimizer = torch.optim.AdamW(classifier.parameters(), lr=1e-3)"
   ]
  },
  {
   "cell_type": "code",
   "execution_count": 11,
   "id": "5f1f47b9-45af-4aea-bc6e-b4dde9dee89a",
   "metadata": {},
   "outputs": [],
   "source": [
    "criterion = nn.CrossEntropyLoss()\n",
    "_=criterion.cuda()"
   ]
  },
  {
   "cell_type": "code",
   "execution_count": 12,
   "id": "45cb6267-275b-42d2-ba32-7d13d7e3efee",
   "metadata": {},
   "outputs": [],
   "source": [
    "train_dataloader = DataLoader(train_dataset, batch_size=batch_size)\n",
    "val_dataloader = DataLoader(valid_dataset, batch_size=batch_size)"
   ]
  },
  {
   "cell_type": "code",
   "execution_count": 13,
   "id": "5a63dc26-e16f-4c73-8e55-aca9d6daeb27",
   "metadata": {},
   "outputs": [],
   "source": [
    "train_loss = []\n",
    "train_acc = []\n",
    "\n",
    "valid_loss = []\n",
    "valid_acc = []"
   ]
  },
  {
   "cell_type": "code",
   "execution_count": 14,
   "id": "2e0db1a8-977d-464e-9208-89b4f527358d",
   "metadata": {},
   "outputs": [
    {
     "data": {
      "text/plain": [
       "legacyClassifier(\n",
       "  (linear1): Linear(in_features=36, out_features=1024, bias=True)\n",
       "  (dropout2): Dropout(p=0.5, inplace=False)\n",
       "  (linear2): Linear(in_features=1024, out_features=3, bias=True)\n",
       ")"
      ]
     },
     "execution_count": 14,
     "metadata": {},
     "output_type": "execute_result"
    }
   ],
   "source": [
    "classifier"
   ]
  },
  {
   "cell_type": "code",
   "execution_count": 15,
   "id": "425e40f5-32f0-4a48-aba6-0ad7d81b744d",
   "metadata": {},
   "outputs": [],
   "source": [
    "count = []"
   ]
  },
  {
   "cell_type": "code",
   "execution_count": 57,
   "id": "002beafd-819c-4f08-83c6-8cf581251d50",
   "metadata": {
    "tags": []
   },
   "outputs": [
    {
     "data": {
      "application/vnd.jupyter.widget-view+json": {
       "model_id": "2a8770dff346461e95f4ac4d75f16221",
       "version_major": 2,
       "version_minor": 0
      },
      "text/plain": [
       "  0%|          | 0/100 [00:00<?, ?it/s]"
      ]
     },
     "metadata": {},
     "output_type": "display_data"
    },
    {
     "name": "stdout",
     "output_type": "stream",
     "text": [
      "Epochs: 1 | Train Loss:  1.215                 | Train Accuracy:  0.483                 | Val Loss:  0.729                 | Val Accuracy:  0.522\n",
      "Epochs: 2 | Train Loss:  0.945                 | Train Accuracy:  0.510                 | Val Loss:  0.804                 | Val Accuracy:  0.516\n",
      "Epochs: 3 | Train Loss:  0.960                 | Train Accuracy:  0.524                 | Val Loss:  0.819                 | Val Accuracy:  0.511\n",
      "Epochs: 4 | Train Loss:  0.931                 | Train Accuracy:  0.516                 | Val Loss:  0.730                 | Val Accuracy:  0.581\n",
      "Epochs: 5 | Train Loss:  0.886                 | Train Accuracy:  0.502                 | Val Loss:  0.764                 | Val Accuracy:  0.567\n",
      "Epochs: 6 | Train Loss:  0.944                 | Train Accuracy:  0.481                 | Val Loss:  0.756                 | Val Accuracy:  0.566\n",
      "Epochs: 7 | Train Loss:  0.902                 | Train Accuracy:  0.507                 | Val Loss:  0.724                 | Val Accuracy:  0.518\n",
      "Epochs: 8 | Train Loss:  0.897                 | Train Accuracy:  0.516                 | Val Loss:  0.772                 | Val Accuracy:  0.528\n",
      "Epochs: 9 | Train Loss:  0.941                 | Train Accuracy:  0.469                 | Val Loss:  0.731                 | Val Accuracy:  0.567\n",
      "Epochs: 10 | Train Loss:  0.966                 | Train Accuracy:  0.507                 | Val Loss:  0.785                 | Val Accuracy:  0.515\n",
      "Epochs: 11 | Train Loss:  0.869                 | Train Accuracy:  0.519                 | Val Loss:  0.809                 | Val Accuracy:  0.522\n",
      "Epochs: 12 | Train Loss:  0.911                 | Train Accuracy:  0.498                 | Val Loss:  0.832                 | Val Accuracy:  0.522\n",
      "Epochs: 13 | Train Loss:  0.894                 | Train Accuracy:  0.535                 | Val Loss:  0.816                 | Val Accuracy:  0.527\n",
      "Epochs: 14 | Train Loss:  0.902                 | Train Accuracy:  0.516                 | Val Loss:  0.752                 | Val Accuracy:  0.528\n",
      "Epochs: 15 | Train Loss:  0.873                 | Train Accuracy:  0.517                 | Val Loss:  0.739                 | Val Accuracy:  0.571\n",
      "Epochs: 16 | Train Loss:  0.903                 | Train Accuracy:  0.530                 | Val Loss:  0.781                 | Val Accuracy:  0.511\n",
      "Epochs: 17 | Train Loss:  0.840                 | Train Accuracy:  0.547                 | Val Loss:  0.752                 | Val Accuracy:  0.526\n",
      "Epochs: 18 | Train Loss:  0.885                 | Train Accuracy:  0.514                 | Val Loss:  0.727                 | Val Accuracy:  0.524\n",
      "Epochs: 19 | Train Loss:  0.839                 | Train Accuracy:  0.530                 | Val Loss:  0.748                 | Val Accuracy:  0.530\n",
      "Epochs: 20 | Train Loss:  0.870                 | Train Accuracy:  0.538                 | Val Loss:  0.730                 | Val Accuracy:  0.508\n",
      "Epochs: 21 | Train Loss:  0.841                 | Train Accuracy:  0.526                 | Val Loss:  0.759                 | Val Accuracy:  0.571\n",
      "Epochs: 22 | Train Loss:  0.888                 | Train Accuracy:  0.497                 | Val Loss:  0.738                 | Val Accuracy:  0.507\n",
      "Epochs: 23 | Train Loss:  0.847                 | Train Accuracy:  0.505                 | Val Loss:  0.750                 | Val Accuracy:  0.525\n",
      "Epochs: 24 | Train Loss:  0.820                 | Train Accuracy:  0.526                 | Val Loss:  0.747                 | Val Accuracy:  0.512\n",
      "Epochs: 25 | Train Loss:  0.886                 | Train Accuracy:  0.519                 | Val Loss:  0.732                 | Val Accuracy:  0.523\n",
      "Epochs: 26 | Train Loss:  0.844                 | Train Accuracy:  0.524                 | Val Loss:  0.733                 | Val Accuracy:  0.545\n",
      "Epochs: 27 | Train Loss:  0.853                 | Train Accuracy:  0.528                 | Val Loss:  0.725                 | Val Accuracy:  0.562\n",
      "Epochs: 28 | Train Loss:  0.874                 | Train Accuracy:  0.507                 | Val Loss:  0.738                 | Val Accuracy:  0.552\n",
      "Epochs: 29 | Train Loss:  0.886                 | Train Accuracy:  0.507                 | Val Loss:  0.712                 | Val Accuracy:  0.504\n",
      "Epochs: 30 | Train Loss:  0.885                 | Train Accuracy:  0.481                 | Val Loss:  0.757                 | Val Accuracy:  0.524\n",
      "Epochs: 31 | Train Loss:  0.878                 | Train Accuracy:  0.510                 | Val Loss:  0.762                 | Val Accuracy:  0.518\n",
      "Epochs: 32 | Train Loss:  0.858                 | Train Accuracy:  0.516                 | Val Loss:  0.712                 | Val Accuracy:  0.503\n",
      "Epochs: 33 | Train Loss:  0.836                 | Train Accuracy:  0.531                 | Val Loss:  0.758                 | Val Accuracy:  0.528\n",
      "Epochs: 34 | Train Loss:  0.819                 | Train Accuracy:  0.556                 | Val Loss:  0.728                 | Val Accuracy:  0.525\n",
      "Epochs: 35 | Train Loss:  0.862                 | Train Accuracy:  0.523                 | Val Loss:  0.782                 | Val Accuracy:  0.492\n",
      "Epochs: 36 | Train Loss:  0.847                 | Train Accuracy:  0.545                 | Val Loss:  0.771                 | Val Accuracy:  0.507\n",
      "Epochs: 37 | Train Loss:  0.807                 | Train Accuracy:  0.535                 | Val Loss:  0.751                 | Val Accuracy:  0.492\n",
      "Epochs: 38 | Train Loss:  0.838                 | Train Accuracy:  0.533                 | Val Loss:  0.705                 | Val Accuracy:  0.537\n",
      "Epochs: 39 | Train Loss:  0.808                 | Train Accuracy:  0.526                 | Val Loss:  0.750                 | Val Accuracy:  0.523\n",
      "Epochs: 40 | Train Loss:  0.839                 | Train Accuracy:  0.535                 | Val Loss:  0.714                 | Val Accuracy:  0.523\n",
      "Epochs: 41 | Train Loss:  0.854                 | Train Accuracy:  0.503                 | Val Loss:  0.759                 | Val Accuracy:  0.524\n",
      "Epochs: 42 | Train Loss:  0.845                 | Train Accuracy:  0.510                 | Val Loss:  0.768                 | Val Accuracy:  0.538\n",
      "Epochs: 43 | Train Loss:  0.856                 | Train Accuracy:  0.538                 | Val Loss:  0.760                 | Val Accuracy:  0.538\n",
      "Epochs: 44 | Train Loss:  0.811                 | Train Accuracy:  0.530                 | Val Loss:  0.747                 | Val Accuracy:  0.540\n",
      "Epochs: 45 | Train Loss:  0.807                 | Train Accuracy:  0.531                 | Val Loss:  0.744                 | Val Accuracy:  0.524\n",
      "Epochs: 46 | Train Loss:  0.824                 | Train Accuracy:  0.533                 | Val Loss:  0.752                 | Val Accuracy:  0.528\n",
      "Epochs: 47 | Train Loss:  0.804                 | Train Accuracy:  0.519                 | Val Loss:  0.733                 | Val Accuracy:  0.536\n",
      "Epochs: 48 | Train Loss:  0.775                 | Train Accuracy:  0.556                 | Val Loss:  0.738                 | Val Accuracy:  0.470\n",
      "Epochs: 49 | Train Loss:  0.795                 | Train Accuracy:  0.514                 | Val Loss:  0.712                 | Val Accuracy:  0.530\n",
      "Epochs: 50 | Train Loss:  0.821                 | Train Accuracy:  0.533                 | Val Loss:  0.720                 | Val Accuracy:  0.503\n",
      "Epochs: 51 | Train Loss:  0.805                 | Train Accuracy:  0.535                 | Val Loss:  0.740                 | Val Accuracy:  0.540\n",
      "Epochs: 52 | Train Loss:  0.785                 | Train Accuracy:  0.538                 | Val Loss:  0.724                 | Val Accuracy:  0.581\n",
      "Epochs: 53 | Train Loss:  0.834                 | Train Accuracy:  0.523                 | Val Loss:  0.771                 | Val Accuracy:  0.550\n",
      "Epochs: 54 | Train Loss:  0.810                 | Train Accuracy:  0.497                 | Val Loss:  0.750                 | Val Accuracy:  0.523\n",
      "Epochs: 55 | Train Loss:  0.782                 | Train Accuracy:  0.533                 | Val Loss:  0.741                 | Val Accuracy:  0.545\n",
      "Epochs: 56 | Train Loss:  0.794                 | Train Accuracy:  0.540                 | Val Loss:  0.719                 | Val Accuracy:  0.518\n",
      "Epochs: 57 | Train Loss:  0.806                 | Train Accuracy:  0.531                 | Val Loss:  0.773                 | Val Accuracy:  0.497\n",
      "Epochs: 58 | Train Loss:  0.824                 | Train Accuracy:  0.514                 | Val Loss:  0.730                 | Val Accuracy:  0.507\n",
      "Epochs: 59 | Train Loss:  0.824                 | Train Accuracy:  0.521                 | Val Loss:  0.764                 | Val Accuracy:  0.519\n",
      "Epochs: 60 | Train Loss:  0.819                 | Train Accuracy:  0.530                 | Val Loss:  0.756                 | Val Accuracy:  0.533\n",
      "Epochs: 61 | Train Loss:  0.841                 | Train Accuracy:  0.505                 | Val Loss:  0.766                 | Val Accuracy:  0.549\n",
      "Epochs: 62 | Train Loss:  0.815                 | Train Accuracy:  0.536                 | Val Loss:  0.746                 | Val Accuracy:  0.545\n",
      "Epochs: 63 | Train Loss:  0.792                 | Train Accuracy:  0.528                 | Val Loss:  0.710                 | Val Accuracy:  0.528\n",
      "Epochs: 64 | Train Loss:  0.761                 | Train Accuracy:  0.545                 | Val Loss:  0.750                 | Val Accuracy:  0.556\n",
      "Epochs: 65 | Train Loss:  0.794                 | Train Accuracy:  0.528                 | Val Loss:  0.749                 | Val Accuracy:  0.554\n",
      "Epochs: 66 | Train Loss:  0.794                 | Train Accuracy:  0.531                 | Val Loss:  0.746                 | Val Accuracy:  0.559\n",
      "Epochs: 67 | Train Loss:  0.797                 | Train Accuracy:  0.521                 | Val Loss:  0.740                 | Val Accuracy:  0.549\n",
      "Epochs: 68 | Train Loss:  0.820                 | Train Accuracy:  0.509                 | Val Loss:  0.729                 | Val Accuracy:  0.533\n",
      "Epochs: 69 | Train Loss:  0.787                 | Train Accuracy:  0.531                 | Val Loss:  0.735                 | Val Accuracy:  0.524\n",
      "Epochs: 70 | Train Loss:  0.793                 | Train Accuracy:  0.536                 | Val Loss:  0.762                 | Val Accuracy:  0.554\n",
      "Epochs: 71 | Train Loss:  0.765                 | Train Accuracy:  0.536                 | Val Loss:  0.710                 | Val Accuracy:  0.503\n",
      "Epochs: 72 | Train Loss:  0.777                 | Train Accuracy:  0.540                 | Val Loss:  0.759                 | Val Accuracy:  0.547\n",
      "Epochs: 73 | Train Loss:  0.796                 | Train Accuracy:  0.523                 | Val Loss:  0.741                 | Val Accuracy:  0.554\n",
      "Epochs: 74 | Train Loss:  0.824                 | Train Accuracy:  0.528                 | Val Loss:  0.765                 | Val Accuracy:  0.533\n",
      "Epochs: 75 | Train Loss:  0.797                 | Train Accuracy:  0.514                 | Val Loss:  0.740                 | Val Accuracy:  0.571\n",
      "Epochs: 76 | Train Loss:  0.782                 | Train Accuracy:  0.547                 | Val Loss:  0.739                 | Val Accuracy:  0.554\n",
      "Epochs: 77 | Train Loss:  0.788                 | Train Accuracy:  0.559                 | Val Loss:  0.744                 | Val Accuracy:  0.499\n",
      "Epochs: 78 | Train Loss:  0.768                 | Train Accuracy:  0.526                 | Val Loss:  0.732                 | Val Accuracy:  0.566\n",
      "Epochs: 79 | Train Loss:  0.811                 | Train Accuracy:  0.530                 | Val Loss:  0.733                 | Val Accuracy:  0.549\n",
      "Epochs: 80 | Train Loss:  0.779                 | Train Accuracy:  0.517                 | Val Loss:  0.740                 | Val Accuracy:  0.570\n",
      "Epochs: 81 | Train Loss:  0.761                 | Train Accuracy:  0.528                 | Val Loss:  0.721                 | Val Accuracy:  0.524\n",
      "Epochs: 82 | Train Loss:  0.776                 | Train Accuracy:  0.542                 | Val Loss:  0.730                 | Val Accuracy:  0.538\n",
      "Epochs: 83 | Train Loss:  0.793                 | Train Accuracy:  0.566                 | Val Loss:  0.740                 | Val Accuracy:  0.497\n",
      "Epochs: 84 | Train Loss:  0.799                 | Train Accuracy:  0.521                 | Val Loss:  0.753                 | Val Accuracy:  0.550\n",
      "Epochs: 85 | Train Loss:  0.828                 | Train Accuracy:  0.498                 | Val Loss:  0.754                 | Val Accuracy:  0.554\n",
      "Epochs: 86 | Train Loss:  0.818                 | Train Accuracy:  0.530                 | Val Loss:  0.781                 | Val Accuracy:  0.524\n",
      "Epochs: 87 | Train Loss:  0.775                 | Train Accuracy:  0.543                 | Val Loss:  0.747                 | Val Accuracy:  0.544\n",
      "Epochs: 88 | Train Loss:  0.779                 | Train Accuracy:  0.538                 | Val Loss:  0.715                 | Val Accuracy:  0.536\n",
      "Epochs: 89 | Train Loss:  0.788                 | Train Accuracy:  0.536                 | Val Loss:  0.787                 | Val Accuracy:  0.540\n",
      "Epochs: 90 | Train Loss:  0.794                 | Train Accuracy:  0.526                 | Val Loss:  0.735                 | Val Accuracy:  0.507\n",
      "Epochs: 91 | Train Loss:  0.771                 | Train Accuracy:  0.547                 | Val Loss:  0.743                 | Val Accuracy:  0.524\n",
      "Epochs: 92 | Train Loss:  0.777                 | Train Accuracy:  0.545                 | Val Loss:  0.726                 | Val Accuracy:  0.525\n",
      "Epochs: 93 | Train Loss:  0.760                 | Train Accuracy:  0.526                 | Val Loss:  0.773                 | Val Accuracy:  0.538\n",
      "Epochs: 94 | Train Loss:  0.790                 | Train Accuracy:  0.542                 | Val Loss:  0.708                 | Val Accuracy:  0.497\n",
      "Epochs: 95 | Train Loss:  0.782                 | Train Accuracy:  0.533                 | Val Loss:  0.746                 | Val Accuracy:  0.504\n",
      "Epochs: 96 | Train Loss:  0.779                 | Train Accuracy:  0.507                 | Val Loss:  0.727                 | Val Accuracy:  0.528\n",
      "Epochs: 97 | Train Loss:  0.754                 | Train Accuracy:  0.533                 | Val Loss:  0.742                 | Val Accuracy:  0.530\n",
      "Epochs: 98 | Train Loss:  0.783                 | Train Accuracy:  0.542                 | Val Loss:  0.727                 | Val Accuracy:  0.485\n",
      "Epochs: 99 | Train Loss:  0.767                 | Train Accuracy:  0.538                 | Val Loss:  0.743                 | Val Accuracy:  0.510\n",
      "Epochs: 100 | Train Loss:  0.782                 | Train Accuracy:  0.514                 | Val Loss:  0.737                 | Val Accuracy:  0.580\n"
     ]
    }
   ],
   "source": [
    "classifier.zero_grad()\n",
    "for epoch in tqdm(range(epochs),total=epochs):\n",
    "    \n",
    "    total_acc_train = 0\n",
    "    total_loss_train = 0\n",
    "    classifier.train()\n",
    "    for i,batch in enumerate(train_dataloader):\n",
    "\n",
    "        train_label = batch['label'].to(device)\n",
    "        train_stat = batch['stat'].to(device)\n",
    "        \n",
    "        output = classifier(train_stat)\n",
    "        output = output.squeeze(1)\n",
    "        batch_loss = criterion(output.float(), train_label)\n",
    "        \n",
    "        optimizer.zero_grad()\n",
    "        batch_loss.backward()\n",
    "        optimizer.step()\n",
    "        \n",
    "        total_loss_train += batch_loss.item()\n",
    "        \n",
    "        correct_prediction = torch.argmax(F.softmax(output, dim=1), 1) == train_label\n",
    "\n",
    "        acc = correct_prediction.float().mean()\n",
    "#         acc = (output.round() == train_label).sum().item()\n",
    "        total_acc_train += acc.item()\n",
    "        \n",
    "    train_loss.append(total_loss_train/len(train_dataloader))\n",
    "    train_acc.append(total_acc_train/len(train_dataloader))\n",
    "            \n",
    "    total_acc_val = 0\n",
    "    total_loss_val = 0\n",
    "    \n",
    "    with  torch.no_grad():\n",
    "        classifier.eval()\n",
    "        cnt = [0,0,0]\n",
    "        for i,batch in enumerate(val_dataloader):\n",
    "            \n",
    "            val_label = batch['label'].to(device)\n",
    "            val_stat = batch['stat'].to(device)\n",
    "\n",
    "            output = classifier(val_stat)\n",
    "            output = output.squeeze(1)\n",
    "            batch_loss = criterion(output.float(), val_label)\n",
    "            \n",
    "            total_loss_val += batch_loss.item()\n",
    "            correct_prediction = torch.argmax(F.softmax(output, dim=1), 1) == val_label\n",
    "            acc = correct_prediction.float().mean()\n",
    "#             acc = (output.round() == val_label).sum().item()\n",
    "            total_acc_val += acc.item()\n",
    "            for value in torch.argmax(F.softmax(output, dim=1), 1):\n",
    "                cnt[int(value.item())] += 1\n",
    "        count.append(cnt)\n",
    "        valid_loss.append(total_loss_val/ len(val_dataloader))\n",
    "        valid_acc.append(total_acc_val/ len(val_dataloader))\n",
    "#         torch.save(classifier.state_dict(), './model{}.pt'.format(epoch))\n",
    " \n",
    "        print(\n",
    "                f'Epochs: {epoch + 1} | Train Loss: {total_loss_train / len(train_dataloader): .3f} \\\n",
    "                | Train Accuracy: {total_acc_train / len(train_dataloader): .3f} \\\n",
    "                | Val Loss: {total_loss_val / len(val_dataloader): .3f} \\\n",
    "                | Val Accuracy: {total_acc_val / len(val_dataloader): .3f}')"
   ]
  },
  {
   "cell_type": "code",
   "execution_count": 58,
   "id": "a8c58a54-4013-46b3-a157-c368a838e9a1",
   "metadata": {},
   "outputs": [
    {
     "data": {
      "image/png": "[encoded data removed]",
      "text/plain": [
       "<Figure size 432x288 with 1 Axes>"
      ]
     },
     "metadata": {
      "needs_background": "light"
     },
     "output_type": "display_data"
    }
   ],
   "source": [
    "plt.plot(valid_loss,color='red',label = 'valid')\n",
    "plt.plot(train_loss,color='blue',label = 'train')\n",
    "plt.show()"
   ]
  },
  {
   "cell_type": "code",
   "execution_count": 59,
   "id": "78932c1d-1b08-4d70-8bea-621a2c1c526c",
   "metadata": {},
   "outputs": [
    {
     "data": {
      "image/png": "[encoded data removed]",
      "text/plain": [
       "<Figure size 432x288 with 1 Axes>"
      ]
     },
     "metadata": {
      "needs_background": "light"
     },
     "output_type": "display_data"
    }
   ],
   "source": [
    "plt.plot(valid_acc,color='red',label = 'valid')\n",
    "plt.plot(train_acc,color='blue',label = 'train')\n",
    "plt.show()"
   ]
  },
  {
   "cell_type": "code",
   "execution_count": 60,
   "id": "10c82d7b-70eb-4ec9-9dd6-85f9d5dd61c1",
   "metadata": {},
   "outputs": [
    {
     "data": {
      "text/plain": [
       "[1, 9065, 9834]"
      ]
     },
     "execution_count": 60,
     "metadata": {},
     "output_type": "execute_result"
    }
   ],
   "source": [
    "cnt"
   ]
  },
  {
   "cell_type": "code",
   "execution_count": null,
   "id": "774343a9-799a-41e3-bf04-39c8589b86fa",
   "metadata": {},
   "outputs": [],
   "source": []
  }
 ],
 "metadata": {
  "kernelspec": {
   "display_name": "Python 3",
   "language": "python",
   "name": "python3"
  },
  "language_info": {
   "codemirror_mode": {
    "name": "ipython",
    "version": 3
   },
   "file_extension": ".py",
   "mimetype": "text/x-python",
   "name": "python",
   "nbconvert_exporter": "python",
   "pygments_lexer": "ipython3",
   "version": "3.8.8"
  }
 },
 "nbformat": 4,
 "nbformat_minor": 5
}
