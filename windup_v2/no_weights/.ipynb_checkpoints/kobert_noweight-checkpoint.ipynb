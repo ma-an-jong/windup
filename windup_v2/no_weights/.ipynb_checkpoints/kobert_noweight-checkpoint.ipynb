{
 "cells": [
  {
   "cell_type": "code",
   "execution_count": 1,
   "id": "9dc2b074-5252-4410-a328-eb5706ceff40",
   "metadata": {},
   "outputs": [],
   "source": [
    "from transformers import AutoModel,AutoTokenizer,BertModel\n",
    "import torch\n",
    "from torch import nn\n",
    "import pandas as pd\n",
    "import re\n",
    "from tqdm.auto import tqdm\n",
    "from sklearn.model_selection import train_test_split\n",
    "from torch.utils.data import Dataset, DataLoader,WeightedRandomSampler\n",
    "from torch.optim import AdamW,Adam\n",
    "import torch.nn.functional as F   \n",
    "import gc\n",
    "import matplotlib.pyplot as plt\n",
    "from kobert_tokenizer import KoBERTTokenizer\n",
    "from sklearn.metrics import accuracy_score"
   ]
  },
  {
   "cell_type": "code",
   "execution_count": 2,
   "id": "0a48e038-50e2-4637-afd5-489c55a44b41",
   "metadata": {},
   "outputs": [],
   "source": [
    "model_path = 'skt/kobert-base-v1' #multilingual"
   ]
  },
  {
   "cell_type": "code",
   "execution_count": 3,
   "id": "3eaa270e-d871-45e9-86d2-901312eb5c05",
   "metadata": {},
   "outputs": [],
   "source": [
    "tokenizer = KoBERTTokenizer.from_pretrained('skt/kobert-base-v1')"
   ]
  },
  {
   "cell_type": "code",
   "execution_count": 4,
   "id": "11639ee2-5429-4e55-aef2-8a02268214db",
   "metadata": {
    "tags": []
   },
   "outputs": [],
   "source": [
    "class ClassifierDataset(Dataset):\n",
    "    def __init__(self, df):\n",
    "        self.labels = list(df['label'])\n",
    "        self.documents = [tokenizer(context,padding='max_length', max_length = 512, truncation=True,return_tensors=\"pt\") for context in df['context']]\n",
    "\n",
    "    def __len__(self):\n",
    "        return len(self.documents)\n",
    "\n",
    "    def __getitem__(self, index):\n",
    "        return {\"document\": self.documents[index],\n",
    "                \"label\": self.labels[index]\n",
    "                }\n",
    "        \n",
    "    def get_num_batches(self, batch_size):\n",
    "        return len(self) // batch_size"
   ]
  },
  {
   "cell_type": "code",
   "execution_count": 5,
   "id": "865b0f0d-e7c4-409e-ba84-ec50d84dfd84",
   "metadata": {},
   "outputs": [],
   "source": [
    "class BertClassifier(nn.Module):\n",
    "\n",
    "    def __init__(self, dropout=0.5):\n",
    "\n",
    "        super(BertClassifier, self).__init__()\n",
    "\n",
    "        self.bert = AutoModel.from_pretrained(model_path)\n",
    "        self.dropout1 = nn.Dropout(dropout)\n",
    "        self.linear1 = nn.Linear(768, 1024)\n",
    "        self.dropout2 = nn.Dropout(dropout)\n",
    "        self.linear2 = nn.Linear(1024,1)\n",
    "        \n",
    "    def forward(self, input_id, mask):\n",
    "        last_hidden_state,_ = self.bert(input_ids= input_id, attention_mask=mask,return_dict=False)\n",
    "        dropout_output = self.dropout1(last_hidden_state)\n",
    "        linear_output = self.linear1(dropout_output)\n",
    "        dropout_output1 = self.dropout2(linear_output)\n",
    "        linear_output1 = self.linear2(dropout_output1)\n",
    "        sigmoid_output = F.sigmoid(linear_output1)\n",
    "        return sigmoid_output[:,0,:]\n"
   ]
  },
  {
   "cell_type": "code",
   "execution_count": 6,
   "id": "47d66eb6-b5b1-481d-a76f-f114bd78b227",
   "metadata": {},
   "outputs": [],
   "source": [
    "batch_size = 16\n",
    "epochs = 10\n",
    "device='cuda'"
   ]
  },
  {
   "cell_type": "code",
   "execution_count": 7,
   "id": "1bb4ef36-c01d-4cdb-b95c-6dedf82fe494",
   "metadata": {},
   "outputs": [],
   "source": [
    "dataset = pd.read_csv('/home/se/paper/classifier/refined_dataset.csv')"
   ]
  },
  {
   "cell_type": "code",
   "execution_count": 8,
   "id": "0b1da5ca-5c27-4b1c-81f8-a773ab16ab9d",
   "metadata": {},
   "outputs": [
    {
     "name": "stdout",
     "output_type": "stream",
     "text": [
      "17394 5799\n"
     ]
    }
   ],
   "source": [
    "train,valid = train_test_split(dataset,shuffle=True)\n",
    "print(len(train),len(valid))"
   ]
  },
  {
   "cell_type": "code",
   "execution_count": 9,
   "id": "1bd6e5d8-0df8-4c4a-9a7a-b4b4431f13b8",
   "metadata": {},
   "outputs": [],
   "source": [
    "train_dataset = ClassifierDataset(pd.DataFrame(train,columns = ['context','label']))\n",
    "valid_dataset = ClassifierDataset(pd.DataFrame(valid,columns = ['context','label']))"
   ]
  },
  {
   "cell_type": "markdown",
   "id": "d2860998-c06a-44df-a504-802ce4cc1c9f",
   "metadata": {},
   "source": [
    "train_class_counts = train['label'].value_counts().to_list()\n",
    "train_num_samples = sum(train_class_counts)\n",
    "train_labels = train['label'].to_list()\n",
    "\n",
    "train_class_weights = [train_num_samples / train_class_counts[i] for i in range(len(train_class_counts))] \n",
    "\n",
    "# 해당 데이터의 label에 해당되는 가중치\n",
    "train_weights = [train_class_weights[train_labels[i]] for i in range(int(train_num_samples))] #해당 레이블마다의 가중치 비율\n",
    "train_sampler = WeightedRandomSampler(torch.DoubleTensor(train_weights), int(train_num_samples))"
   ]
  },
  {
   "cell_type": "markdown",
   "id": "b0e5723a-3bf0-455d-a1e3-8980119816dd",
   "metadata": {},
   "source": [
    "valid_class_counts = valid['label'].value_counts().to_list()\n",
    "valid_num_samples = sum(valid_class_counts)\n",
    "valid_labels = valid['label'].to_list()\n",
    "\n",
    "valid_class_weights = [valid_num_samples / valid_class_counts[i] for i in range(len(valid_class_counts))] \n",
    "\n",
    "# 해당 데이터의 label에 해당되는 가중치\n",
    "valid_weights = [valid_class_weights[valid_labels[i]] for i in range(int(valid_num_samples))] #해당 레이블마다의 가중치 비율\n",
    "valid_sampler = WeightedRandomSampler(torch.DoubleTensor(valid_weights), int(valid_num_samples))"
   ]
  },
  {
   "cell_type": "code",
   "execution_count": 10,
   "id": "99ac3b15-3baa-46b9-a0a3-0f78714985a5",
   "metadata": {},
   "outputs": [],
   "source": [
    "classifier = BertClassifier()\n",
    "classifier.cuda()\n",
    "optimizer = AdamW(classifier.parameters(), lr=1e-5)"
   ]
  },
  {
   "cell_type": "code",
   "execution_count": 11,
   "id": "bab6cfa5-c202-4132-90b9-c01aeff884bb",
   "metadata": {},
   "outputs": [
    {
     "data": {
      "text/plain": [
       "BCELoss()"
      ]
     },
     "execution_count": 11,
     "metadata": {},
     "output_type": "execute_result"
    }
   ],
   "source": [
    "criterion = nn.BCELoss()\n",
    "criterion.cuda()"
   ]
  },
  {
   "cell_type": "code",
   "execution_count": 12,
   "id": "1750df4f-454f-4077-b6bd-33b325662980",
   "metadata": {},
   "outputs": [],
   "source": [
    "train_dataloader = DataLoader(train_dataset, batch_size=batch_size)\n",
    "val_dataloader = DataLoader(valid_dataset, batch_size=batch_size)\n",
    "\n",
    "# train_dataloader = DataLoader(train_dataset, batch_size=batch_size, shuffle=True)\n",
    "# val_dataloader = DataLoader(valid_dataset, batch_size=batch_size,shuffle=True)"
   ]
  },
  {
   "cell_type": "code",
   "execution_count": 13,
   "id": "677f414b-0e37-47da-9cdb-623acc629d11",
   "metadata": {},
   "outputs": [],
   "source": [
    "train_loss = []\n",
    "train_acc = []\n",
    "\n",
    "valid_loss = []\n",
    "valid_acc = []"
   ]
  },
  {
   "cell_type": "code",
   "execution_count": 14,
   "id": "e05b4156-ce82-44a9-b6d2-0b94c72b0dff",
   "metadata": {},
   "outputs": [],
   "source": [
    "count = []"
   ]
  },
  {
   "cell_type": "code",
   "execution_count": 17,
   "id": "aa9ec07e-fe99-472c-921f-07856ab2b462",
   "metadata": {
    "tags": []
   },
   "outputs": [
    {
     "data": {
      "application/vnd.jupyter.widget-view+json": {
       "model_id": "744bcb9de2534336aaaa114c261d4f6c",
       "version_major": 2,
       "version_minor": 0
      },
      "text/plain": [
       "  0%|          | 0/10 [00:00<?, ?it/s]"
      ]
     },
     "metadata": {},
     "output_type": "display_data"
    },
    {
     "name": "stdout",
     "output_type": "stream",
     "text": [
      "Epochs: 1 | Train Loss:  0.019                 | Train Accuracy:  0.872                 | Val Loss:  0.021                 | Val Accuracy:  0.855\n",
      "Epochs: 2 | Train Loss:  0.017                 | Train Accuracy:  0.895                 | Val Loss:  0.021                 | Val Accuracy:  0.860\n",
      "Epochs: 3 | Train Loss:  0.014                 | Train Accuracy:  0.915                 | Val Loss:  0.022                 | Val Accuracy:  0.861\n",
      "Epochs: 4 | Train Loss:  0.012                 | Train Accuracy:  0.933                 | Val Loss:  0.023                 | Val Accuracy:  0.852\n",
      "Epochs: 5 | Train Loss:  0.010                 | Train Accuracy:  0.943                 | Val Loss:  0.023                 | Val Accuracy:  0.856\n",
      "Epochs: 6 | Train Loss:  0.009                 | Train Accuracy:  0.955                 | Val Loss:  0.025                 | Val Accuracy:  0.857\n",
      "Epochs: 7 | Train Loss:  0.007                 | Train Accuracy:  0.962                 | Val Loss:  0.026                 | Val Accuracy:  0.850\n",
      "Epochs: 8 | Train Loss:  0.006                 | Train Accuracy:  0.967                 | Val Loss:  0.028                 | Val Accuracy:  0.840\n",
      "Epochs: 9 | Train Loss:  0.005                 | Train Accuracy:  0.973                 | Val Loss:  0.032                 | Val Accuracy:  0.854\n",
      "Epochs: 10 | Train Loss:  0.005                 | Train Accuracy:  0.977                 | Val Loss:  0.033                 | Val Accuracy:  0.847\n"
     ]
    }
   ],
   "source": [
    "classifier.zero_grad()\n",
    "for epoch in tqdm(range(epochs),total=epochs):\n",
    "\n",
    "    total_acc_train = 0\n",
    "    total_loss_train = 0\n",
    "    classifier.train()\n",
    "    for i,batch in enumerate(train_dataloader):\n",
    "\n",
    "        optimizer.zero_grad()\n",
    "        train_label = batch['label'].to(device)\n",
    "        \n",
    "        document = batch['document']\n",
    "        \n",
    "        mask = document['attention_mask'].to(device)\n",
    "        input_id = document['input_ids'].squeeze(1).to(device)\n",
    "        \n",
    "        output = classifier(input_id,mask)\n",
    "        output = output.squeeze(1)\n",
    "        batch_loss = criterion(output.float(), train_label.float())\n",
    "        batch_loss.backward()\n",
    "        optimizer.step()\n",
    "        \n",
    "        total_loss_train += batch_loss.item()\n",
    "        \n",
    "        acc = (output.round() == train_label).sum().item()\n",
    "        total_acc_train += acc\n",
    "        \n",
    "    train_loss.append(total_loss_train/ len(train_dataset))\n",
    "    train_acc.append(total_acc_train/ len(train_dataset))\n",
    "            \n",
    "    total_acc_val = 0\n",
    "    total_loss_val = 0\n",
    "    classifier.eval()\n",
    "    cnt = [0,0]\n",
    "    with  torch.no_grad():\n",
    "        for i,batch in enumerate(val_dataloader):\n",
    "            \n",
    "            val_label = batch['label'].to(device)\n",
    "            document = batch['document']\n",
    "            \n",
    "            mask = document['attention_mask'].to(device)\n",
    "            input_id = document['input_ids'].squeeze(1).to(device)\n",
    "\n",
    "            output = classifier(input_id,mask)\n",
    "            output = output.squeeze(1)\n",
    "            batch_loss = criterion(output.float(), val_label.float())\n",
    "            \n",
    "            total_loss_val += batch_loss.item()\n",
    "            acc = (output.round() == val_label).sum().item()\n",
    "            total_acc_val += acc\n",
    "            \n",
    "            for value in output.round():\n",
    "                cnt[int(value.item())] += 1\n",
    "        count.append(cnt)\n",
    "        valid_loss.append(total_loss_val/ len(valid_dataset))\n",
    "        valid_acc.append(total_acc_val/ len(valid_dataset))\n",
    "\n",
    "#       torch.save(classifier.state_dict(), './model{}.pt'.format(epoch))\n",
    " \n",
    "        print(\n",
    "                f'Epochs: {epoch + 1} | Train Loss: {total_loss_train / len(train_dataset): .3f} \\\n",
    "                | Train Accuracy: {total_acc_train / len(train_dataset): .3f} \\\n",
    "                | Val Loss: {total_loss_val / len(valid_dataset): .3f} \\\n",
    "                | Val Accuracy: {total_acc_val / len(valid_dataset): .3f}')\n",
    "\n",
    "#             # 조기 종료 여부 확인\n",
    "#         if early_stopping_step >= early_stopping_criteria:\n",
    "#             break"
   ]
  },
  {
   "cell_type": "code",
   "execution_count": 18,
   "id": "737b1638-75be-493d-b05f-4dedb8117e80",
   "metadata": {},
   "outputs": [
    {
     "data": {
      "image/png": "[encoded data removed]",
      "text/plain": [
       "<Figure size 432x288 with 1 Axes>"
      ]
     },
     "metadata": {
      "needs_background": "light"
     },
     "output_type": "display_data"
    }
   ],
   "source": [
    "plt.plot(valid_loss,color='red')\n",
    "plt.plot(train_loss,color='blue')\n",
    "#plt.savefig('sampling_base_kobert_loss',dpi = 100)\n",
    "plt.show()"
   ]
  },
  {
   "cell_type": "code",
   "execution_count": 19,
   "id": "1c2ac325-0df8-48e5-a548-bd3ef29ea29d",
   "metadata": {},
   "outputs": [
    {
     "data": {
      "image/png": "[encoded data removed]",
      "text/plain": [
       "<Figure size 432x288 with 1 Axes>"
      ]
     },
     "metadata": {
      "needs_background": "light"
     },
     "output_type": "display_data"
    }
   ],
   "source": [
    "plt.plot(valid_acc,color='red')\n",
    "plt.plot(train_acc,color='blue')\n",
    "#plt.savefig('sampling_base_kobert_acc',dpi = 100)\n",
    "plt.show()"
   ]
  },
  {
   "cell_type": "code",
   "execution_count": 22,
   "id": "cccd6fc0-9a6f-4268-b08b-16f28ec10de4",
   "metadata": {},
   "outputs": [
    {
     "data": {
      "text/plain": [
       "[[1566, 4233],\n",
       " [1293, 4506],\n",
       " [1294, 4505],\n",
       " [1174, 4625],\n",
       " [1293, 4506],\n",
       " [1318, 4481],\n",
       " [1352, 4447],\n",
       " [1642, 4157],\n",
       " [1447, 4352],\n",
       " [1360, 4439]]"
      ]
     },
     "execution_count": 22,
     "metadata": {},
     "output_type": "execute_result"
    }
   ],
   "source": [
    "count"
   ]
  },
  {
   "cell_type": "code",
   "execution_count": 21,
   "id": "e3d890e6-65a0-480e-b602-5c36f14573fc",
   "metadata": {},
   "outputs": [
    {
     "data": {
      "image/png": "[encoded data removed]",
      "text/plain": [
       "<Figure size 432x288 with 1 Axes>"
      ]
     },
     "metadata": {
      "needs_background": "light"
     },
     "output_type": "display_data"
    }
   ],
   "source": [
    "plt.plot(count)\n",
    "plt.show()"
   ]
  },
  {
   "cell_type": "code",
   "execution_count": null,
   "id": "1806bae5-94d6-4ec7-bc27-d4acd6fc8ea5",
   "metadata": {},
   "outputs": [],
   "source": []
  }
 ],
 "metadata": {
  "kernelspec": {
   "display_name": "Python 3",
   "language": "python",
   "name": "python3"
  },
  "language_info": {
   "codemirror_mode": {
    "name": "ipython",
    "version": 3
   },
   "file_extension": ".py",
   "mimetype": "text/x-python",
   "name": "python",
   "nbconvert_exporter": "python",
   "pygments_lexer": "ipython3",
   "version": "3.8.8"
  }
 },
 "nbformat": 4,
 "nbformat_minor": 5
}
