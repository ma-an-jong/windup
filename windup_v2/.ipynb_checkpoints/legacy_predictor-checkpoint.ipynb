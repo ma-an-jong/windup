{
 "cells": [
  {
   "cell_type": "code",
   "execution_count": 1,
   "id": "0e19e54a-c5e0-4347-b517-f38653c5528b",
   "metadata": {},
   "outputs": [],
   "source": [
    "import os\n",
    "import torch\n",
    "from torch import nn\n",
    "import pandas as pd\n",
    "from tqdm.auto import tqdm\n",
    "from sklearn.model_selection import train_test_split\n",
    "from torch.utils.data import Dataset, DataLoader,WeightedRandomSampler\n",
    "from torch.optim import AdamW,Adam\n",
    "import torch.nn.functional as F\n",
    "from matplotlib import pyplot as plt"
   ]
  },
  {
   "cell_type": "code",
   "execution_count": 2,
   "id": "ec7e22f5-ef44-40fa-8107-c3b6a794f8ba",
   "metadata": {},
   "outputs": [],
   "source": [
    "data_path = '/home/se/paper/legacy/data'"
   ]
  },
  {
   "cell_type": "code",
   "execution_count": 3,
   "id": "5dba68a2-81ce-45ba-be9e-05fca071a49f",
   "metadata": {},
   "outputs": [],
   "source": [
    "from sklearn.preprocessing import LabelEncoder\n",
    "class StatDataset(Dataset):\n",
    "    def __init__(self, match,stat,le):\n",
    "        \n",
    "        tmp = []\n",
    "        label = []\n",
    "        \n",
    "        for home_pitcher,home_team,away_pitcher,away_team,home_result in list(zip(match['home_pitcher'].values,match['home'].values,match['away_pitcher'],match['away'],match['home_result'])):\n",
    "            home_player_stat = stat.loc[(stat['name'] == home_pitcher) & (stat['team'] == home_team)]\n",
    "            away_player_stat = stat.loc[(stat['name'] == away_pitcher) & (stat['team'] == away_team)]\n",
    "\n",
    "            if (len(home_player_stat) != 0) and (len(away_player_stat) != 0):\n",
    "                vector = home_player_stat.values.tolist()[0][2:] + away_player_stat.values.tolist()[0][2:]\n",
    "                tmp.append(vector)\n",
    "                label.append(home_result)\n",
    "        \n",
    "        transform = le.transform(label)\n",
    "        self.label = torch.tensor(list(transform),dtype=torch.long)\n",
    "        self.stat = torch.tensor(tmp)\n",
    "            \n",
    "    def __len__(self):\n",
    "        return len(self.stat)\n",
    "\n",
    "    def __getitem__(self, index):\n",
    "        return {\n",
    "                \"stat\": self.stat[index],\n",
    "                \"label\": self.label[index]\n",
    "                }\n",
    "        \n",
    "    def get_num_batches(self, batch_size):\n",
    "        return len(self) // batch_size"
   ]
  },
  {
   "cell_type": "code",
   "execution_count": 4,
   "id": "72f5c6bc-917b-425f-aec4-31e228e267e2",
   "metadata": {
    "tags": []
   },
   "outputs": [],
   "source": [
    "class legacyClassifier(nn.Module):\n",
    "    def __init__(self, dropout=0.5):\n",
    "        super(legacyClassifier, self).__init__()\n",
    "        self.linear1 = nn.Linear(36, 1024)\n",
    "        self.dropout2 = nn.Dropout(dropout)\n",
    "        self.linear2 = nn.Linear(1024,3)\n",
    "        \n",
    "    def forward(self, input_id):\n",
    "        linear_output = self.linear1(input_id)\n",
    "        dropout_output1 = self.dropout2(linear_output)\n",
    "        linear_output1 = self.linear2(dropout_output1)\n",
    "        return linear_output1"
   ]
  },
  {
   "cell_type": "code",
   "execution_count": 5,
   "id": "ba62c468-c630-4c1e-ac0f-8dcf900594a1",
   "metadata": {},
   "outputs": [],
   "source": [
    "stat = pd.read_csv(os.path.join(data_path,'average.csv'))\n",
    "match = pd.read_csv(os.path.join(data_path,'match_day.csv'))\n",
    "le = LabelEncoder()\n",
    "_=le.fit(['승','패','무승부'])"
   ]
  },
  {
   "cell_type": "code",
   "execution_count": 6,
   "id": "eb62a444-e32e-4dde-8195-0cd908effdbb",
   "metadata": {},
   "outputs": [],
   "source": [
    "train_match,valid_match = train_test_split(match,shuffle=True,random_state=56)"
   ]
  },
  {
   "cell_type": "code",
   "execution_count": 7,
   "id": "e552d278-37bf-4a7e-9954-7c74bb28dffa",
   "metadata": {},
   "outputs": [
    {
     "name": "stdout",
     "output_type": "stream",
     "text": [
      "576 189\n"
     ]
    }
   ],
   "source": [
    "train_dataset = StatDataset(train_match,stat,le)\n",
    "valid_dataset = StatDataset(valid_match,stat,le)\n",
    "print(len(train_dataset),len(valid_dataset))"
   ]
  },
  {
   "cell_type": "code",
   "execution_count": 8,
   "id": "38f66e82-647b-403d-b781-beab2bf7ec7b",
   "metadata": {},
   "outputs": [],
   "source": [
    "batch_size = 16\n",
    "epochs = 100\n",
    "device='cuda'"
   ]
  },
  {
   "cell_type": "code",
   "execution_count": 9,
   "id": "9654751a-30f1-43a9-817a-f930b2204e77",
   "metadata": {},
   "outputs": [
    {
     "data": {
      "text/plain": [
       "array(['무승부', '승', '패'], dtype='<U3')"
      ]
     },
     "execution_count": 9,
     "metadata": {},
     "output_type": "execute_result"
    }
   ],
   "source": [
    "le.classes_"
   ]
  },
  {
   "cell_type": "code",
   "execution_count": 10,
   "id": "d6881ca2-0666-4a38-9389-f00cf87f33f2",
   "metadata": {},
   "outputs": [],
   "source": [
    "train_class = pd.DataFrame(train_dataset.label)\n",
    "train_class_counts = [len(train_class.loc[train_class[0] == 0]) , len(train_class.loc[train_class[0] == 1])  , len(train_class.loc[train_class[0] == 2])]\n",
    "train_num_samples = sum(train_class_counts)\n",
    "train_labels = list(train_class.values.reshape(-1))\n",
    "\n",
    "train_class_weights = [train_num_samples / train_class_counts[i] for i in range(len(train_class_counts))] \n",
    "\n",
    "# 해당 데이터의 label에 해당되는 가중치\n",
    "train_weights = [train_class_weights[train_labels[i]] for i in range(int(train_num_samples))] #해당 레이블마다의 가중치 비율\n",
    "train_sampler = WeightedRandomSampler(torch.DoubleTensor(train_weights), int(train_num_samples))"
   ]
  },
  {
   "cell_type": "code",
   "execution_count": 11,
   "id": "58cd0b74-d2b5-48d1-83b6-568a1eea59a8",
   "metadata": {},
   "outputs": [],
   "source": [
    "valid_class = pd.DataFrame(valid_dataset.label)\n",
    "valid_class_counts = [len(valid_class.loc[train_class[0] == 0]) , len(valid_class.loc[train_class[0] == 1])  , len(valid_class.loc[train_class[0] == 2])]\n",
    "valid_num_samples = sum(valid_class_counts)\n",
    "valid_labels = list(valid_class.values.reshape(-1))\n",
    "\n",
    "valid_class_weights = [valid_num_samples / valid_class_counts[i] for i in range(len(valid_class_counts))] \n",
    "\n",
    "# 해당 데이터의 label에 해당되는 가중치\n",
    "valid_weights = [valid_class_weights[valid_labels[i]] for i in range(int(valid_num_samples))] #해당 레이블마다의 가중치 비율\n",
    "valid_sampler = WeightedRandomSampler(torch.DoubleTensor(valid_weights), int(valid_num_samples))"
   ]
  },
  {
   "cell_type": "code",
   "execution_count": 17,
   "id": "e951046a-7a6f-4cc2-bfe4-635e69a8c3a5",
   "metadata": {},
   "outputs": [
    {
     "data": {
      "text/plain": [
       "[72.0, 1.8640776699029127, 2.223938223938224]"
      ]
     },
     "execution_count": 17,
     "metadata": {},
     "output_type": "execute_result"
    }
   ],
   "source": [
    "train_class_weights"
   ]
  },
  {
   "cell_type": "code",
   "execution_count": 16,
   "id": "edeb0035-4221-40a1-80e1-3b1f28f2e444",
   "metadata": {},
   "outputs": [
    {
     "data": {
      "text/plain": [
       "[94.5, 1.7830188679245282, 2.3333333333333335]"
      ]
     },
     "execution_count": 16,
     "metadata": {},
     "output_type": "execute_result"
    }
   ],
   "source": [
    "valid_class_weights"
   ]
  },
  {
   "cell_type": "code",
   "execution_count": 12,
   "id": "40652ddf-771b-4dfd-b19a-c915d5d74843",
   "metadata": {},
   "outputs": [],
   "source": [
    "classifier = legacyClassifier()\n",
    "classifier.cuda()\n",
    "optimizer = torch.optim.AdamW(classifier.parameters(), lr=1e-3)"
   ]
  },
  {
   "cell_type": "code",
   "execution_count": 13,
   "id": "5f1f47b9-45af-4aea-bc6e-b4dde9dee89a",
   "metadata": {},
   "outputs": [],
   "source": [
    "criterion = nn.CrossEntropyLoss()\n",
    "_=criterion.cuda()"
   ]
  },
  {
   "cell_type": "code",
   "execution_count": 14,
   "id": "45cb6267-275b-42d2-ba32-7d13d7e3efee",
   "metadata": {},
   "outputs": [],
   "source": [
    "train_dataloader = DataLoader(train_dataset, batch_size=batch_size, shuffle=False,sampler = train_sampler)\n",
    "val_dataloader = DataLoader(valid_dataset, batch_size=batch_size,shuffle=False,sampler = valid_sampler)"
   ]
  },
  {
   "cell_type": "code",
   "execution_count": 15,
   "id": "5a63dc26-e16f-4c73-8e55-aca9d6daeb27",
   "metadata": {},
   "outputs": [],
   "source": [
    "train_loss = []\n",
    "train_acc = []\n",
    "\n",
    "valid_loss = []\n",
    "valid_acc = []"
   ]
  },
  {
   "cell_type": "code",
   "execution_count": 19,
   "id": "2e0db1a8-977d-464e-9208-89b4f527358d",
   "metadata": {},
   "outputs": [
    {
     "data": {
      "text/plain": [
       "legacyClassifier(\n",
       "  (linear1): Linear(in_features=36, out_features=1024, bias=True)\n",
       "  (dropout2): Dropout(p=0.5, inplace=False)\n",
       "  (linear2): Linear(in_features=1024, out_features=3, bias=True)\n",
       ")"
      ]
     },
     "execution_count": 19,
     "metadata": {},
     "output_type": "execute_result"
    }
   ],
   "source": [
    "classifier"
   ]
  },
  {
   "cell_type": "code",
   "execution_count": 16,
   "id": "002beafd-819c-4f08-83c6-8cf581251d50",
   "metadata": {
    "tags": []
   },
   "outputs": [
    {
     "data": {
      "application/vnd.jupyter.widget-view+json": {
       "model_id": "6e60cebf125944b39f5cc50c62825cf9",
       "version_major": 2,
       "version_minor": 0
      },
      "text/plain": [
       "  0%|          | 0/100 [00:00<?, ?it/s]"
      ]
     },
     "metadata": {},
     "output_type": "display_data"
    },
    {
     "name": "stdout",
     "output_type": "stream",
     "text": [
      "Epochs: 1 | Train Loss:  1.507                 | Train Accuracy:  0.373                 | Val Loss:  1.394                 | Val Accuracy:  0.183\n",
      "Epochs: 2 | Train Loss:  1.364                 | Train Accuracy:  0.396                 | Val Loss:  1.148                 | Val Accuracy:  0.519\n",
      "Epochs: 3 | Train Loss:  1.295                 | Train Accuracy:  0.384                 | Val Loss:  1.019                 | Val Accuracy:  0.498\n",
      "Epochs: 4 | Train Loss:  1.254                 | Train Accuracy:  0.398                 | Val Loss:  1.181                 | Val Accuracy:  0.457\n",
      "Epochs: 5 | Train Loss:  1.216                 | Train Accuracy:  0.415                 | Val Loss:  1.305                 | Val Accuracy:  0.347\n",
      "Epochs: 6 | Train Loss:  1.256                 | Train Accuracy:  0.453                 | Val Loss:  1.021                 | Val Accuracy:  0.415\n",
      "Epochs: 7 | Train Loss:  1.291                 | Train Accuracy:  0.431                 | Val Loss:  0.914                 | Val Accuracy:  0.494\n",
      "Epochs: 8 | Train Loss:  1.237                 | Train Accuracy:  0.425                 | Val Loss:  1.739                 | Val Accuracy:  0.134\n",
      "Epochs: 9 | Train Loss:  1.146                 | Train Accuracy:  0.427                 | Val Loss:  1.273                 | Val Accuracy:  0.335\n",
      "Epochs: 10 | Train Loss:  1.092                 | Train Accuracy:  0.486                 | Val Loss:  1.098                 | Val Accuracy:  0.395\n",
      "Epochs: 11 | Train Loss:  1.267                 | Train Accuracy:  0.470                 | Val Loss:  0.874                 | Val Accuracy:  0.571\n",
      "Epochs: 12 | Train Loss:  1.146                 | Train Accuracy:  0.481                 | Val Loss:  1.125                 | Val Accuracy:  0.427\n",
      "Epochs: 13 | Train Loss:  1.103                 | Train Accuracy:  0.453                 | Val Loss:  1.128                 | Val Accuracy:  0.386\n",
      "Epochs: 14 | Train Loss:  1.076                 | Train Accuracy:  0.488                 | Val Loss:  1.065                 | Val Accuracy:  0.401\n",
      "Epochs: 15 | Train Loss:  1.096                 | Train Accuracy:  0.479                 | Val Loss:  1.142                 | Val Accuracy:  0.438\n",
      "Epochs: 16 | Train Loss:  1.082                 | Train Accuracy:  0.514                 | Val Loss:  0.933                 | Val Accuracy:  0.514\n",
      "Epochs: 17 | Train Loss:  1.082                 | Train Accuracy:  0.503                 | Val Loss:  1.171                 | Val Accuracy:  0.387\n",
      "Epochs: 18 | Train Loss:  1.074                 | Train Accuracy:  0.488                 | Val Loss:  1.014                 | Val Accuracy:  0.394\n",
      "Epochs: 19 | Train Loss:  1.034                 | Train Accuracy:  0.479                 | Val Loss:  1.269                 | Val Accuracy:  0.390\n",
      "Epochs: 20 | Train Loss:  1.018                 | Train Accuracy:  0.519                 | Val Loss:  0.935                 | Val Accuracy:  0.575\n",
      "Epochs: 21 | Train Loss:  0.973                 | Train Accuracy:  0.505                 | Val Loss:  1.167                 | Val Accuracy:  0.408\n",
      "Epochs: 22 | Train Loss:  1.014                 | Train Accuracy:  0.503                 | Val Loss:  1.042                 | Val Accuracy:  0.394\n",
      "Epochs: 23 | Train Loss:  0.951                 | Train Accuracy:  0.538                 | Val Loss:  1.170                 | Val Accuracy:  0.383\n",
      "Epochs: 24 | Train Loss:  0.942                 | Train Accuracy:  0.576                 | Val Loss:  1.021                 | Val Accuracy:  0.471\n",
      "Epochs: 25 | Train Loss:  0.967                 | Train Accuracy:  0.526                 | Val Loss:  1.271                 | Val Accuracy:  0.390\n",
      "Epochs: 26 | Train Loss:  1.111                 | Train Accuracy:  0.502                 | Val Loss:  0.892                 | Val Accuracy:  0.533\n",
      "Epochs: 27 | Train Loss:  0.955                 | Train Accuracy:  0.547                 | Val Loss:  0.922                 | Val Accuracy:  0.622\n",
      "Epochs: 28 | Train Loss:  0.931                 | Train Accuracy:  0.569                 | Val Loss:  1.036                 | Val Accuracy:  0.430\n",
      "Epochs: 29 | Train Loss:  0.981                 | Train Accuracy:  0.562                 | Val Loss:  1.153                 | Val Accuracy:  0.502\n",
      "Epochs: 30 | Train Loss:  0.962                 | Train Accuracy:  0.524                 | Val Loss:  1.022                 | Val Accuracy:  0.450\n",
      "Epochs: 31 | Train Loss:  0.873                 | Train Accuracy:  0.557                 | Val Loss:  0.835                 | Val Accuracy:  0.575\n",
      "Epochs: 32 | Train Loss:  0.882                 | Train Accuracy:  0.545                 | Val Loss:  1.134                 | Val Accuracy:  0.377\n",
      "Epochs: 33 | Train Loss:  0.906                 | Train Accuracy:  0.580                 | Val Loss:  0.985                 | Val Accuracy:  0.380\n",
      "Epochs: 34 | Train Loss:  0.871                 | Train Accuracy:  0.568                 | Val Loss:  1.142                 | Val Accuracy:  0.380\n",
      "Epochs: 35 | Train Loss:  0.894                 | Train Accuracy:  0.580                 | Val Loss:  1.074                 | Val Accuracy:  0.433\n",
      "Epochs: 36 | Train Loss:  0.941                 | Train Accuracy:  0.589                 | Val Loss:  1.361                 | Val Accuracy:  0.490\n",
      "Epochs: 37 | Train Loss:  0.915                 | Train Accuracy:  0.585                 | Val Loss:  0.926                 | Val Accuracy:  0.528\n",
      "Epochs: 38 | Train Loss:  0.830                 | Train Accuracy:  0.622                 | Val Loss:  0.995                 | Val Accuracy:  0.467\n",
      "Epochs: 39 | Train Loss:  0.861                 | Train Accuracy:  0.562                 | Val Loss:  0.932                 | Val Accuracy:  0.546\n",
      "Epochs: 40 | Train Loss:  0.862                 | Train Accuracy:  0.604                 | Val Loss:  1.077                 | Val Accuracy:  0.461\n",
      "Epochs: 41 | Train Loss:  0.858                 | Train Accuracy:  0.583                 | Val Loss:  0.916                 | Val Accuracy:  0.504\n",
      "Epochs: 42 | Train Loss:  0.923                 | Train Accuracy:  0.552                 | Val Loss:  1.038                 | Val Accuracy:  0.444\n",
      "Epochs: 43 | Train Loss:  0.859                 | Train Accuracy:  0.585                 | Val Loss:  0.978                 | Val Accuracy:  0.481\n",
      "Epochs: 44 | Train Loss:  0.866                 | Train Accuracy:  0.611                 | Val Loss:  1.004                 | Val Accuracy:  0.427\n",
      "Epochs: 45 | Train Loss:  0.856                 | Train Accuracy:  0.620                 | Val Loss:  1.123                 | Val Accuracy:  0.455\n",
      "Epochs: 46 | Train Loss:  0.826                 | Train Accuracy:  0.602                 | Val Loss:  0.944                 | Val Accuracy:  0.480\n",
      "Epochs: 47 | Train Loss:  0.799                 | Train Accuracy:  0.649                 | Val Loss:  0.985                 | Val Accuracy:  0.518\n",
      "Epochs: 48 | Train Loss:  0.886                 | Train Accuracy:  0.646                 | Val Loss:  0.906                 | Val Accuracy:  0.550\n",
      "Epochs: 49 | Train Loss:  0.819                 | Train Accuracy:  0.630                 | Val Loss:  0.963                 | Val Accuracy:  0.475\n",
      "Epochs: 50 | Train Loss:  0.874                 | Train Accuracy:  0.575                 | Val Loss:  0.986                 | Val Accuracy:  0.458\n",
      "Epochs: 51 | Train Loss:  0.890                 | Train Accuracy:  0.630                 | Val Loss:  1.069                 | Val Accuracy:  0.398\n",
      "Epochs: 52 | Train Loss:  0.793                 | Train Accuracy:  0.628                 | Val Loss:  0.859                 | Val Accuracy:  0.518\n",
      "Epochs: 53 | Train Loss:  0.797                 | Train Accuracy:  0.637                 | Val Loss:  1.143                 | Val Accuracy:  0.376\n",
      "Epochs: 54 | Train Loss:  0.823                 | Train Accuracy:  0.628                 | Val Loss:  1.011                 | Val Accuracy:  0.438\n",
      "Epochs: 55 | Train Loss:  0.813                 | Train Accuracy:  0.627                 | Val Loss:  0.974                 | Val Accuracy:  0.529\n",
      "Epochs: 56 | Train Loss:  0.869                 | Train Accuracy:  0.606                 | Val Loss:  0.977                 | Val Accuracy:  0.445\n",
      "Epochs: 57 | Train Loss:  0.841                 | Train Accuracy:  0.590                 | Val Loss:  1.181                 | Val Accuracy:  0.315\n",
      "Epochs: 58 | Train Loss:  0.901                 | Train Accuracy:  0.602                 | Val Loss:  0.959                 | Val Accuracy:  0.499\n",
      "Epochs: 59 | Train Loss:  0.873                 | Train Accuracy:  0.561                 | Val Loss:  1.237                 | Val Accuracy:  0.371\n",
      "Epochs: 60 | Train Loss:  0.798                 | Train Accuracy:  0.623                 | Val Loss:  1.265                 | Val Accuracy:  0.367\n",
      "Epochs: 61 | Train Loss:  0.810                 | Train Accuracy:  0.616                 | Val Loss:  1.018                 | Val Accuracy:  0.454\n",
      "Epochs: 62 | Train Loss:  0.822                 | Train Accuracy:  0.615                 | Val Loss:  0.888                 | Val Accuracy:  0.533\n",
      "Epochs: 63 | Train Loss:  0.801                 | Train Accuracy:  0.637                 | Val Loss:  0.920                 | Val Accuracy:  0.476\n",
      "Epochs: 64 | Train Loss:  0.739                 | Train Accuracy:  0.609                 | Val Loss:  0.973                 | Val Accuracy:  0.546\n",
      "Epochs: 65 | Train Loss:  0.823                 | Train Accuracy:  0.637                 | Val Loss:  1.119                 | Val Accuracy:  0.486\n",
      "Epochs: 66 | Train Loss:  0.751                 | Train Accuracy:  0.616                 | Val Loss:  0.872                 | Val Accuracy:  0.486\n",
      "Epochs: 67 | Train Loss:  0.746                 | Train Accuracy:  0.656                 | Val Loss:  0.878                 | Val Accuracy:  0.536\n",
      "Epochs: 68 | Train Loss:  0.839                 | Train Accuracy:  0.609                 | Val Loss:  1.195                 | Val Accuracy:  0.454\n",
      "Epochs: 69 | Train Loss:  0.794                 | Train Accuracy:  0.627                 | Val Loss:  0.897                 | Val Accuracy:  0.492\n",
      "Epochs: 70 | Train Loss:  0.805                 | Train Accuracy:  0.656                 | Val Loss:  0.985                 | Val Accuracy:  0.456\n",
      "Epochs: 71 | Train Loss:  0.838                 | Train Accuracy:  0.604                 | Val Loss:  1.141                 | Val Accuracy:  0.431\n",
      "Epochs: 72 | Train Loss:  0.775                 | Train Accuracy:  0.630                 | Val Loss:  0.923                 | Val Accuracy:  0.498\n",
      "Epochs: 73 | Train Loss:  0.734                 | Train Accuracy:  0.660                 | Val Loss:  1.066                 | Val Accuracy:  0.479\n",
      "Epochs: 74 | Train Loss:  0.760                 | Train Accuracy:  0.660                 | Val Loss:  1.135                 | Val Accuracy:  0.387\n",
      "Epochs: 75 | Train Loss:  0.742                 | Train Accuracy:  0.656                 | Val Loss:  1.032                 | Val Accuracy:  0.445\n",
      "Epochs: 76 | Train Loss:  0.812                 | Train Accuracy:  0.615                 | Val Loss:  1.240                 | Val Accuracy:  0.391\n",
      "Epochs: 77 | Train Loss:  0.875                 | Train Accuracy:  0.602                 | Val Loss:  0.852                 | Val Accuracy:  0.577\n",
      "Epochs: 78 | Train Loss:  0.844                 | Train Accuracy:  0.613                 | Val Loss:  1.168                 | Val Accuracy:  0.449\n",
      "Epochs: 79 | Train Loss:  0.845                 | Train Accuracy:  0.602                 | Val Loss:  0.853                 | Val Accuracy:  0.484\n",
      "Epochs: 80 | Train Loss:  0.809                 | Train Accuracy:  0.630                 | Val Loss:  0.857                 | Val Accuracy:  0.528\n",
      "Epochs: 81 | Train Loss:  0.794                 | Train Accuracy:  0.615                 | Val Loss:  0.847                 | Val Accuracy:  0.480\n",
      "Epochs: 82 | Train Loss:  0.789                 | Train Accuracy:  0.616                 | Val Loss:  0.941                 | Val Accuracy:  0.467\n",
      "Epochs: 83 | Train Loss:  0.757                 | Train Accuracy:  0.667                 | Val Loss:  1.056                 | Val Accuracy:  0.391\n",
      "Epochs: 84 | Train Loss:  0.727                 | Train Accuracy:  0.672                 | Val Loss:  0.964                 | Val Accuracy:  0.506\n",
      "Epochs: 85 | Train Loss:  0.734                 | Train Accuracy:  0.660                 | Val Loss:  1.158                 | Val Accuracy:  0.471\n",
      "Epochs: 86 | Train Loss:  0.761                 | Train Accuracy:  0.639                 | Val Loss:  1.073                 | Val Accuracy:  0.458\n",
      "Epochs: 87 | Train Loss:  0.740                 | Train Accuracy:  0.634                 | Val Loss:  1.179                 | Val Accuracy:  0.386\n",
      "Epochs: 88 | Train Loss:  0.822                 | Train Accuracy:  0.602                 | Val Loss:  0.964                 | Val Accuracy:  0.453\n",
      "Epochs: 89 | Train Loss:  0.745                 | Train Accuracy:  0.635                 | Val Loss:  0.927                 | Val Accuracy:  0.529\n",
      "Epochs: 90 | Train Loss:  0.797                 | Train Accuracy:  0.615                 | Val Loss:  1.041                 | Val Accuracy:  0.487\n",
      "Epochs: 91 | Train Loss:  0.737                 | Train Accuracy:  0.653                 | Val Loss:  0.971                 | Val Accuracy:  0.400\n",
      "Epochs: 92 | Train Loss:  0.749                 | Train Accuracy:  0.627                 | Val Loss:  1.052                 | Val Accuracy:  0.471\n",
      "Epochs: 93 | Train Loss:  0.808                 | Train Accuracy:  0.606                 | Val Loss:  0.930                 | Val Accuracy:  0.495\n",
      "Epochs: 94 | Train Loss:  0.759                 | Train Accuracy:  0.592                 | Val Loss:  0.898                 | Val Accuracy:  0.498\n",
      "Epochs: 95 | Train Loss:  0.785                 | Train Accuracy:  0.644                 | Val Loss:  0.873                 | Val Accuracy:  0.467\n",
      "Epochs: 96 | Train Loss:  0.792                 | Train Accuracy:  0.644                 | Val Loss:  0.847                 | Val Accuracy:  0.441\n",
      "Epochs: 97 | Train Loss:  0.854                 | Train Accuracy:  0.604                 | Val Loss:  0.951                 | Val Accuracy:  0.450\n",
      "Epochs: 98 | Train Loss:  0.753                 | Train Accuracy:  0.635                 | Val Loss:  1.014                 | Val Accuracy:  0.503\n",
      "Epochs: 99 | Train Loss:  0.711                 | Train Accuracy:  0.674                 | Val Loss:  0.899                 | Val Accuracy:  0.501\n",
      "Epochs: 100 | Train Loss:  0.731                 | Train Accuracy:  0.648                 | Val Loss:  0.854                 | Val Accuracy:  0.494\n"
     ]
    }
   ],
   "source": [
    "classifier.zero_grad()\n",
    "for epoch in tqdm(range(epochs),total=epochs):\n",
    "\n",
    "    total_acc_train = 0\n",
    "    total_loss_train = 0\n",
    "    classifier.train()\n",
    "    for i,batch in enumerate(train_dataloader):\n",
    "\n",
    "        train_label = batch['label'].to(device)\n",
    "        train_stat = batch['stat'].to(device)\n",
    "        \n",
    "        output = classifier(train_stat)\n",
    "        output = output.squeeze(1)\n",
    "        batch_loss = criterion(output.float(), train_label)\n",
    "        \n",
    "        optimizer.zero_grad()\n",
    "        batch_loss.backward()\n",
    "        optimizer.step()\n",
    "        \n",
    "        total_loss_train += batch_loss.item()\n",
    "        \n",
    "        correct_prediction = torch.argmax(F.softmax(output, dim=1), 1) == train_label\n",
    "\n",
    "        acc = correct_prediction.float().mean()\n",
    "#         acc = (output.round() == train_label).sum().item()\n",
    "        total_acc_train += acc.item()\n",
    "        \n",
    "    train_loss.append(total_loss_train/len(train_dataloader))\n",
    "    train_acc.append(total_acc_train/len(train_dataloader))\n",
    "            \n",
    "    total_acc_val = 0\n",
    "    total_loss_val = 0\n",
    "    \n",
    "    with  torch.no_grad():\n",
    "        classifier.eval()\n",
    "        for i,batch in enumerate(val_dataloader):\n",
    "            \n",
    "            val_label = batch['label'].to(device)\n",
    "            val_stat = batch['stat'].to(device)\n",
    "\n",
    "            output = classifier(val_stat)\n",
    "            output = output.squeeze(1)\n",
    "            batch_loss = criterion(output.float(), val_label)\n",
    "            \n",
    "            total_loss_val += batch_loss.item()\n",
    "            correct_prediction = torch.argmax(F.softmax(output, dim=1), 1) == val_label\n",
    "            acc = correct_prediction.float().mean()\n",
    "#             acc = (output.round() == val_label).sum().item()\n",
    "            \n",
    "            total_acc_val += acc.item()\n",
    "\n",
    "        valid_loss.append(total_loss_val/ len(val_dataloader))\n",
    "        valid_acc.append(total_acc_val/ len(val_dataloader))\n",
    "#         torch.save(classifier.state_dict(), './model{}.pt'.format(epoch))\n",
    " \n",
    "        print(\n",
    "                f'Epochs: {epoch + 1} | Train Loss: {total_loss_train / len(train_dataloader): .3f} \\\n",
    "                | Train Accuracy: {total_acc_train / len(train_dataloader): .3f} \\\n",
    "                | Val Loss: {total_loss_val / len(val_dataloader): .3f} \\\n",
    "                | Val Accuracy: {total_acc_val / len(val_dataloader): .3f}')"
   ]
  },
  {
   "cell_type": "code",
   "execution_count": 17,
   "id": "a8c58a54-4013-46b3-a157-c368a838e9a1",
   "metadata": {},
   "outputs": [
    {
     "data": {
      "image/png": "[encoded data removed]",
      "text/plain": [
       "<Figure size 432x288 with 1 Axes>"
      ]
     },
     "metadata": {
      "needs_background": "light"
     },
     "output_type": "display_data"
    }
   ],
   "source": [
    "plt.plot(valid_loss,color='red',label = 'valid')\n",
    "plt.plot(train_loss,color='blue',label = 'train')\n",
    "plt.show()"
   ]
  },
  {
   "cell_type": "code",
   "execution_count": 18,
   "id": "78932c1d-1b08-4d70-8bea-621a2c1c526c",
   "metadata": {},
   "outputs": [
    {
     "data": {
      "image/png": "[encoded data removed]",
      "text/plain": [
       "<Figure size 432x288 with 1 Axes>"
      ]
     },
     "metadata": {
      "needs_background": "light"
     },
     "output_type": "display_data"
    }
   ],
   "source": [
    "plt.plot(valid_acc,color='red',label = 'valid')\n",
    "plt.plot(train_acc,color='blue',label = 'train')\n",
    "plt.show()"
   ]
  },
  {
   "cell_type": "code",
   "execution_count": null,
   "id": "10c82d7b-70eb-4ec9-9dd6-85f9d5dd61c1",
   "metadata": {},
   "outputs": [],
   "source": []
  }
 ],
 "metadata": {
  "kernelspec": {
   "display_name": "Python 3",
   "language": "python",
   "name": "python3"
  },
  "language_info": {
   "codemirror_mode": {
    "name": "ipython",
    "version": 3
   },
   "file_extension": ".py",
   "mimetype": "text/x-python",
   "name": "python",
   "nbconvert_exporter": "python",
   "pygments_lexer": "ipython3",
   "version": "3.8.8"
  }
 },
 "nbformat": 4,
 "nbformat_minor": 5
}
