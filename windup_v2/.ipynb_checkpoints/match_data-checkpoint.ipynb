{
 "cells": [
  {
   "cell_type": "code",
   "execution_count": 1,
   "id": "7319d3bc-b916-4611-b7f7-cedfb9f2935d",
   "metadata": {},
   "outputs": [],
   "source": [
    "import pandas as pd"
   ]
  },
  {
   "cell_type": "code",
   "execution_count": 3,
   "id": "6314a950-df00-41df-a597-35866b31ac36",
   "metadata": {},
   "outputs": [],
   "source": [
    "lineup = pd.read_csv('lineup_past_v1.csv')\n",
    "match_date = list(lineup['date'].unique())\n",
    "match = pd.read_csv('match.csv')\n",
    "pitcher = lineup[lineup['position']=='선발투수']"
   ]
  },
  {
   "cell_type": "code",
   "execution_count": 16,
   "id": "7a7de4de-fbba-441f-9e6c-f5865d96fb03",
   "metadata": {},
   "outputs": [],
   "source": [
    "columns = list(match.columns[1:])\n",
    "columns.append('home_pitcher')\n",
    "columns.append('away_pitcher')"
   ]
  },
  {
   "cell_type": "code",
   "execution_count": 19,
   "id": "9cd4b153-cd56-4617-86ce-d1c17e55312a",
   "metadata": {},
   "outputs": [
    {
     "data": {
      "text/plain": [
       "['date',\n",
       " 'state_game',\n",
       " 'home',\n",
       " 'home_score',\n",
       " 'home_result',\n",
       " 'home_time',\n",
       " 'away',\n",
       " 'away_score',\n",
       " 'away_result',\n",
       " 'away_time',\n",
       " 'stadium',\n",
       " 'home_pitcher',\n",
       " 'away_pitcher']"
      ]
     },
     "execution_count": 19,
     "metadata": {},
     "output_type": "execute_result"
    }
   ],
   "source": [
    "columns"
   ]
  },
  {
   "cell_type": "code",
   "execution_count": 33,
   "id": "131fd5e5-944f-4ffe-9d9a-04bb53528b6d",
   "metadata": {},
   "outputs": [],
   "source": [
    "df = pd.DataFrame(columns=columns)"
   ]
  },
  {
   "cell_type": "code",
   "execution_count": null,
   "id": "5cd3ad61-3979-4731-91ca-5ba3c1ebfead",
   "metadata": {
    "tags": []
   },
   "outputs": [],
   "source": [
    "for date in match_date:\n",
    "    print(date)\n",
    "    now_pitcher = pitcher.loc[pitcher['date'] == date]\n",
    "    now_match = match.loc[match['date']==date]\n",
    "    for index,row in now_match.iterrows():\n",
    "        home_pitcher = now_pitcher.loc[now_pitcher['team'] == row['home']]\n",
    "        away_pitcher = now_pitcher.loc[now_pitcher['team'] == row['away']]\n",
    "        entity = list(row[1:])\n",
    "        if (len(home_pitcher['name'].values) > 0) and (len(away_pitcher['name'].values) > 0):\n",
    "            entity.append(home_pitcher['name'].values[0])\n",
    "            entity.append(away_pitcher['name'].values[0])\n",
    "            df.loc[len(df)] = entity"
   ]
  },
  {
   "cell_type": "code",
   "execution_count": 37,
   "id": "c8975d9d-a955-4860-a628-e6dd93ca8ee9",
   "metadata": {},
   "outputs": [],
   "source": [
    "df.to_csv('match_day.csv',index=False)"
   ]
  },
  {
   "cell_type": "code",
   "execution_count": null,
   "id": "5be380f6-a6f4-4b6b-99cf-d64ddd473386",
   "metadata": {},
   "outputs": [],
   "source": []
  }
 ],
 "metadata": {
  "kernelspec": {
   "display_name": "Python 3",
   "language": "python",
   "name": "python3"
  },
  "language_info": {
   "codemirror_mode": {
    "name": "ipython",
    "version": 3
   },
   "file_extension": ".py",
   "mimetype": "text/x-python",
   "name": "python",
   "nbconvert_exporter": "python",
   "pygments_lexer": "ipython3",
   "version": "3.8.8"
  }
 },
 "nbformat": 4,
 "nbformat_minor": 5
}
