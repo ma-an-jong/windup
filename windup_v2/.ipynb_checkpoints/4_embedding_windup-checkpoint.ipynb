{
 "cells": [
  {
   "cell_type": "code",
   "execution_count": 1,
   "id": "0e19e54a-c5e0-4347-b517-f38653c5528b",
   "metadata": {},
   "outputs": [],
   "source": [
    "import os\n",
    "import torch\n",
    "from torch import nn\n",
    "import pandas as pd\n",
    "from tqdm.auto import tqdm\n",
    "from sklearn.model_selection import train_test_split\n",
    "from torch.utils.data import Dataset, DataLoader,WeightedRandomSampler\n",
    "from torch.optim import AdamW,Adam\n",
    "import torch.nn.functional as F\n",
    "import re\n",
    "from sklearn.preprocessing import LabelEncoder\n",
    "from datetime import datetime,timedelta"
   ]
  },
  {
   "cell_type": "code",
   "execution_count": 2,
   "id": "1a846df8-dd84-4d0b-9d8a-ceec46f925fc",
   "metadata": {},
   "outputs": [],
   "source": [
    "from transformers import AutoModel,AutoTokenizer,BertModel\n",
    "from kobert_tokenizer import KoBERTTokenizer"
   ]
  },
  {
   "cell_type": "code",
   "execution_count": 3,
   "id": "fd9303b0-6582-481c-a91c-c66e19bf26b7",
   "metadata": {},
   "outputs": [],
   "source": [
    "model_path = 'skt/kobert-base-v1' #multilingual"
   ]
  },
  {
   "cell_type": "code",
   "execution_count": 4,
   "id": "5bf48687-4f1e-4fc1-9de1-8667f0be32ba",
   "metadata": {},
   "outputs": [],
   "source": [
    "tokenizer = KoBERTTokenizer.from_pretrained('skt/kobert-base-v1')"
   ]
  },
  {
   "cell_type": "code",
   "execution_count": 5,
   "id": "2a30f331-caec-45cb-9bcc-fc4ff0520995",
   "metadata": {},
   "outputs": [],
   "source": [
    "def preprocess(context,null_char='',space_char=' '):\n",
    "    bracket_removed_context = re.sub(r'\\([^)]*\\)', null_char, context)\n",
    "    square_bracket_removed_context = re.sub(r'\\[[^]]*\\]', null_char, bracket_removed_context)\n",
    "    punc_removed_context = re.sub(r'[^\\w\\s]',space_char,square_bracket_removed_context)\n",
    "    repeated_space_removed_context = re.sub(r'[\\n]{2,}','\\n',punc_removed_context)\n",
    "    repeated_space_removed_context.upper()\n",
    "            \n",
    "    return repeated_space_removed_context"
   ]
  },
  {
   "cell_type": "code",
   "execution_count": 6,
   "id": "7c2ae5de-ae53-4af2-8e0e-90b6415db8e1",
   "metadata": {},
   "outputs": [],
   "source": [
    "def get_embeddings(bert,contents):\n",
    "    model_input = tokenizer(preprocess(contents),padding='max_length', max_length = 512, truncation=True,return_tensors=\"pt\")\n",
    "    mask = model_input['attention_mask']\n",
    "    input_ids = model_input['input_ids']\n",
    "    last_hidden_state,_ = bert(input_ids= input_ids, attention_mask=mask,return_dict=False)\n",
    "    return last_hidden_state"
   ]
  },
  {
   "cell_type": "code",
   "execution_count": 16,
   "id": "ec7e22f5-ef44-40fa-8107-c3b6a794f8ba",
   "metadata": {},
   "outputs": [],
   "source": [
    "data_path = '/home/se/paper/legacy/data'"
   ]
  },
  {
   "cell_type": "code",
   "execution_count": 18,
   "id": "5dba68a2-81ce-45ba-be9e-05fca071a49f",
   "metadata": {},
   "outputs": [],
   "source": [
    "class StatDataset(Dataset):\n",
    "    def __init__(self, match,stat,article,le):\n",
    "        \n",
    "        tmp = []\n",
    "        label = []\n",
    "        bert = AutoModel.from_pretrained(model_path)\n",
    "        \n",
    "        for home_pitcher,home_team,away_pitcher,away_team,home_result,date in \\\n",
    "        list(zip(match['home_pitcher'].values,match['home'].values,match['away_pitcher'],match['away'],match['home_result'],match['date'])):\n",
    "            home_player_stat = stat.loc[(stat['name'] == home_pitcher) & (stat['team'] == home_team)]\n",
    "            away_player_stat = stat.loc[(stat['name'] == away_pitcher) & (stat['team'] == away_team)]\n",
    "\n",
    "            #메모리 폭발....\n",
    "            if (len(home_player_stat) != 0) and (len(away_player_stat) != 0):\n",
    "                vector = home_player_stat.values.tolist()[0][2:] + away_player_stat.values.tolist()[0][2:]\n",
    "                str_date = datetime.strptime(str(date),\"%Y%m%d\")\n",
    "                home_article = article.loc[(article['team'] == home_team) & (article['date'] > int((str_date - timedelta(days=3)).strftime(\"%Y%m%d\"))) & (article['date'] < date)]\n",
    "                away_article = article.loc[(article['team'] == away_team) & (article['date'] > int((str_date - timedelta(days=3)).strftime(\"%Y%m%d\"))) & (article['date'] < date)]\n",
    "                if (len(home_article) != 0) and (len(away_article) != 0):\n",
    "                    home_sum = torch.zeros((1,512,768),dtype=torch.float32)\n",
    "                    away_sum = torch.zeros((1,512,768),dtype=torch.float32)\n",
    "                    \n",
    "                    for content in home_article['contents']:\n",
    "                        home_sum += get_embeddings(bert,content) / len(home_article)\n",
    "                        \n",
    "                    for content in away_article['contents']:\n",
    "                        away_sum += get_embeddings(bert,content) / len(away_article)\n",
    "                    \n",
    "                    vector.append(home_sum)\n",
    "                    vector.append(away_sum)\n",
    "\n",
    "                    tmp.append(vector)\n",
    "                    label.append(home_result)\n",
    "        \n",
    "        transform = le.transform(label)\n",
    "        self.label = torch.tensor(list(transform),dtype=torch.long)\n",
    "        self.stat = torch.tensor(tmp)\n",
    "        \n",
    "        \n",
    "    def __len__(self):\n",
    "        return len(self.stat)\n",
    "\n",
    "    def __getitem__(self, index):\n",
    "        return {\n",
    "                \"stat\": self.stat[index],\n",
    "                \"label\": self.label[index]\n",
    "                }\n",
    "        \n",
    "    def get_num_batches(self, batch_size):\n",
    "        return len(self) // batch_size"
   ]
  },
  {
   "cell_type": "code",
   "execution_count": 19,
   "id": "e5a96e28-2f37-4c4d-8ef8-4c2636b215cd",
   "metadata": {},
   "outputs": [],
   "source": [
    "class WindupClassifier(nn.Module):\n",
    "    def __init__(self, dropout=0.5):\n",
    "        super(WindupClassifier, self).__init__()\n",
    "        self.linear1 = nn.Linear(38, 1024)\n",
    "        self.dropout2 = nn.Dropout(dropout)\n",
    "        self.linear2 = nn.Linear(1024,3)\n",
    "        \n",
    "    def forward(self, input_id):\n",
    "        linear_output = self.linear1(input_id)\n",
    "        dropout_output1 = self.dropout2(linear_output)\n",
    "        linear_output1 = self.linear2(dropout_output1)\n",
    "        return linear_output1"
   ]
  },
  {
   "cell_type": "code",
   "execution_count": 20,
   "id": "ba62c468-c630-4c1e-ac0f-8dcf900594a1",
   "metadata": {},
   "outputs": [],
   "source": [
    "stat = pd.read_csv(os.path.join(data_path,'average.csv'))\n",
    "match = pd.read_csv(os.path.join(data_path,'match_day.csv'))\n",
    "article = pd.read_csv(os.path.join(data_path,'article.csv'))"
   ]
  },
  {
   "cell_type": "code",
   "execution_count": 21,
   "id": "72b008c8-d1dc-4322-85bd-542f43b66ed0",
   "metadata": {},
   "outputs": [],
   "source": [
    "le = LabelEncoder()\n",
    "_=le.fit(['승','패','무승부'])"
   ]
  },
  {
   "cell_type": "code",
   "execution_count": 22,
   "id": "eb62a444-e32e-4dde-8195-0cd908effdbb",
   "metadata": {},
   "outputs": [],
   "source": [
    "train_match,valid_match = train_test_split(match,shuffle=True,random_state=56)"
   ]
  },
  {
   "cell_type": "code",
   "execution_count": 23,
   "id": "2ccd2fbd-fd16-45f3-8460-52938a39e415",
   "metadata": {},
   "outputs": [
    {
     "ename": "KeyboardInterrupt",
     "evalue": "",
     "output_type": "error",
     "traceback": [
      "\u001b[0;31m---------------------------------------------------------------------------\u001b[0m",
      "\u001b[0;31mKeyboardInterrupt\u001b[0m                         Traceback (most recent call last)",
      "\u001b[0;32m<ipython-input-23-d60f890b0768>\u001b[0m in \u001b[0;36m<module>\u001b[0;34m\u001b[0m\n\u001b[0;32m----> 1\u001b[0;31m \u001b[0mtrain_dataset\u001b[0m \u001b[0;34m=\u001b[0m \u001b[0mStatDataset\u001b[0m\u001b[0;34m(\u001b[0m\u001b[0mtrain_match\u001b[0m\u001b[0;34m,\u001b[0m\u001b[0mstat\u001b[0m\u001b[0;34m,\u001b[0m\u001b[0marticle\u001b[0m\u001b[0;34m,\u001b[0m\u001b[0mle\u001b[0m\u001b[0;34m)\u001b[0m\u001b[0;34m\u001b[0m\u001b[0;34m\u001b[0m\u001b[0m\n\u001b[0m",
      "\u001b[0;32m<ipython-input-18-5b039490c77d>\u001b[0m in \u001b[0;36m__init__\u001b[0;34m(self, match, stat, article, le)\u001b[0m\n\u001b[1;32m     25\u001b[0m \u001b[0;34m\u001b[0m\u001b[0m\n\u001b[1;32m     26\u001b[0m                     \u001b[0;32mfor\u001b[0m \u001b[0mcontent\u001b[0m \u001b[0;32min\u001b[0m \u001b[0maway_article\u001b[0m\u001b[0;34m[\u001b[0m\u001b[0;34m'contents'\u001b[0m\u001b[0;34m]\u001b[0m\u001b[0;34m:\u001b[0m\u001b[0;34m\u001b[0m\u001b[0;34m\u001b[0m\u001b[0m\n\u001b[0;32m---> 27\u001b[0;31m                         \u001b[0maway_sum\u001b[0m \u001b[0;34m+=\u001b[0m \u001b[0mget_embeddings\u001b[0m\u001b[0;34m(\u001b[0m\u001b[0mbert\u001b[0m\u001b[0;34m,\u001b[0m\u001b[0mcontent\u001b[0m\u001b[0;34m)\u001b[0m\u001b[0;34m\u001b[0m\u001b[0;34m\u001b[0m\u001b[0m\n\u001b[0m\u001b[1;32m     28\u001b[0m \u001b[0;34m\u001b[0m\u001b[0m\n\u001b[1;32m     29\u001b[0m                     \u001b[0mvector\u001b[0m\u001b[0;34m.\u001b[0m\u001b[0mappend\u001b[0m\u001b[0;34m(\u001b[0m\u001b[0mhome_sum\u001b[0m \u001b[0;34m/\u001b[0m \u001b[0mlen\u001b[0m\u001b[0;34m(\u001b[0m\u001b[0mhome_article\u001b[0m\u001b[0;34m)\u001b[0m\u001b[0;34m)\u001b[0m\u001b[0;34m\u001b[0m\u001b[0;34m\u001b[0m\u001b[0m\n",
      "\u001b[0;32m<ipython-input-6-af1863768564>\u001b[0m in \u001b[0;36mget_embeddings\u001b[0;34m(bert, contents)\u001b[0m\n\u001b[1;32m      3\u001b[0m     \u001b[0mmask\u001b[0m \u001b[0;34m=\u001b[0m \u001b[0mmodel_input\u001b[0m\u001b[0;34m[\u001b[0m\u001b[0;34m'attention_mask'\u001b[0m\u001b[0;34m]\u001b[0m\u001b[0;34m\u001b[0m\u001b[0;34m\u001b[0m\u001b[0m\n\u001b[1;32m      4\u001b[0m     \u001b[0minput_ids\u001b[0m \u001b[0;34m=\u001b[0m \u001b[0mmodel_input\u001b[0m\u001b[0;34m[\u001b[0m\u001b[0;34m'input_ids'\u001b[0m\u001b[0;34m]\u001b[0m\u001b[0;34m\u001b[0m\u001b[0;34m\u001b[0m\u001b[0m\n\u001b[0;32m----> 5\u001b[0;31m     \u001b[0mlast_hidden_state\u001b[0m\u001b[0;34m,\u001b[0m\u001b[0m_\u001b[0m \u001b[0;34m=\u001b[0m \u001b[0mbert\u001b[0m\u001b[0;34m(\u001b[0m\u001b[0minput_ids\u001b[0m\u001b[0;34m=\u001b[0m \u001b[0minput_ids\u001b[0m\u001b[0;34m,\u001b[0m \u001b[0mattention_mask\u001b[0m\u001b[0;34m=\u001b[0m\u001b[0mmask\u001b[0m\u001b[0;34m,\u001b[0m\u001b[0mreturn_dict\u001b[0m\u001b[0;34m=\u001b[0m\u001b[0;32mFalse\u001b[0m\u001b[0;34m)\u001b[0m\u001b[0;34m\u001b[0m\u001b[0;34m\u001b[0m\u001b[0m\n\u001b[0m\u001b[1;32m      6\u001b[0m     \u001b[0;32mreturn\u001b[0m \u001b[0mlast_hidden_state\u001b[0m\u001b[0;34m\u001b[0m\u001b[0;34m\u001b[0m\u001b[0m\n",
      "\u001b[0;32m/home/se/anaconda3/lib/python3.8/site-packages/torch/nn/modules/module.py\u001b[0m in \u001b[0;36m_call_impl\u001b[0;34m(self, *input, **kwargs)\u001b[0m\n\u001b[1;32m    887\u001b[0m             \u001b[0mresult\u001b[0m \u001b[0;34m=\u001b[0m \u001b[0mself\u001b[0m\u001b[0;34m.\u001b[0m\u001b[0m_slow_forward\u001b[0m\u001b[0;34m(\u001b[0m\u001b[0;34m*\u001b[0m\u001b[0minput\u001b[0m\u001b[0;34m,\u001b[0m \u001b[0;34m**\u001b[0m\u001b[0mkwargs\u001b[0m\u001b[0;34m)\u001b[0m\u001b[0;34m\u001b[0m\u001b[0;34m\u001b[0m\u001b[0m\n\u001b[1;32m    888\u001b[0m         \u001b[0;32melse\u001b[0m\u001b[0;34m:\u001b[0m\u001b[0;34m\u001b[0m\u001b[0;34m\u001b[0m\u001b[0m\n\u001b[0;32m--> 889\u001b[0;31m             \u001b[0mresult\u001b[0m \u001b[0;34m=\u001b[0m \u001b[0mself\u001b[0m\u001b[0;34m.\u001b[0m\u001b[0mforward\u001b[0m\u001b[0;34m(\u001b[0m\u001b[0;34m*\u001b[0m\u001b[0minput\u001b[0m\u001b[0;34m,\u001b[0m \u001b[0;34m**\u001b[0m\u001b[0mkwargs\u001b[0m\u001b[0;34m)\u001b[0m\u001b[0;34m\u001b[0m\u001b[0;34m\u001b[0m\u001b[0m\n\u001b[0m\u001b[1;32m    890\u001b[0m         for hook in itertools.chain(\n\u001b[1;32m    891\u001b[0m                 \u001b[0m_global_forward_hooks\u001b[0m\u001b[0;34m.\u001b[0m\u001b[0mvalues\u001b[0m\u001b[0;34m(\u001b[0m\u001b[0;34m)\u001b[0m\u001b[0;34m,\u001b[0m\u001b[0;34m\u001b[0m\u001b[0;34m\u001b[0m\u001b[0m\n",
      "\u001b[0;32m/home/se/anaconda3/lib/python3.8/site-packages/transformers/models/bert/modeling_bert.py\u001b[0m in \u001b[0;36mforward\u001b[0;34m(self, input_ids, attention_mask, token_type_ids, position_ids, head_mask, inputs_embeds, encoder_hidden_states, encoder_attention_mask, past_key_values, use_cache, output_attentions, output_hidden_states, return_dict)\u001b[0m\n\u001b[1;32m    964\u001b[0m             \u001b[0mpast_key_values_length\u001b[0m\u001b[0;34m=\u001b[0m\u001b[0mpast_key_values_length\u001b[0m\u001b[0;34m,\u001b[0m\u001b[0;34m\u001b[0m\u001b[0;34m\u001b[0m\u001b[0m\n\u001b[1;32m    965\u001b[0m         )\n\u001b[0;32m--> 966\u001b[0;31m         encoder_outputs = self.encoder(\n\u001b[0m\u001b[1;32m    967\u001b[0m             \u001b[0membedding_output\u001b[0m\u001b[0;34m,\u001b[0m\u001b[0;34m\u001b[0m\u001b[0;34m\u001b[0m\u001b[0m\n\u001b[1;32m    968\u001b[0m             \u001b[0mattention_mask\u001b[0m\u001b[0;34m=\u001b[0m\u001b[0mextended_attention_mask\u001b[0m\u001b[0;34m,\u001b[0m\u001b[0;34m\u001b[0m\u001b[0;34m\u001b[0m\u001b[0m\n",
      "\u001b[0;32m/home/se/anaconda3/lib/python3.8/site-packages/torch/nn/modules/module.py\u001b[0m in \u001b[0;36m_call_impl\u001b[0;34m(self, *input, **kwargs)\u001b[0m\n\u001b[1;32m    887\u001b[0m             \u001b[0mresult\u001b[0m \u001b[0;34m=\u001b[0m \u001b[0mself\u001b[0m\u001b[0;34m.\u001b[0m\u001b[0m_slow_forward\u001b[0m\u001b[0;34m(\u001b[0m\u001b[0;34m*\u001b[0m\u001b[0minput\u001b[0m\u001b[0;34m,\u001b[0m \u001b[0;34m**\u001b[0m\u001b[0mkwargs\u001b[0m\u001b[0;34m)\u001b[0m\u001b[0;34m\u001b[0m\u001b[0;34m\u001b[0m\u001b[0m\n\u001b[1;32m    888\u001b[0m         \u001b[0;32melse\u001b[0m\u001b[0;34m:\u001b[0m\u001b[0;34m\u001b[0m\u001b[0;34m\u001b[0m\u001b[0m\n\u001b[0;32m--> 889\u001b[0;31m             \u001b[0mresult\u001b[0m \u001b[0;34m=\u001b[0m \u001b[0mself\u001b[0m\u001b[0;34m.\u001b[0m\u001b[0mforward\u001b[0m\u001b[0;34m(\u001b[0m\u001b[0;34m*\u001b[0m\u001b[0minput\u001b[0m\u001b[0;34m,\u001b[0m \u001b[0;34m**\u001b[0m\u001b[0mkwargs\u001b[0m\u001b[0;34m)\u001b[0m\u001b[0;34m\u001b[0m\u001b[0;34m\u001b[0m\u001b[0m\n\u001b[0m\u001b[1;32m    890\u001b[0m         for hook in itertools.chain(\n\u001b[1;32m    891\u001b[0m                 \u001b[0m_global_forward_hooks\u001b[0m\u001b[0;34m.\u001b[0m\u001b[0mvalues\u001b[0m\u001b[0;34m(\u001b[0m\u001b[0;34m)\u001b[0m\u001b[0;34m,\u001b[0m\u001b[0;34m\u001b[0m\u001b[0;34m\u001b[0m\u001b[0m\n",
      "\u001b[0;32m/home/se/anaconda3/lib/python3.8/site-packages/transformers/models/bert/modeling_bert.py\u001b[0m in \u001b[0;36mforward\u001b[0;34m(self, hidden_states, attention_mask, head_mask, encoder_hidden_states, encoder_attention_mask, past_key_values, use_cache, output_attentions, output_hidden_states, return_dict)\u001b[0m\n\u001b[1;32m    565\u001b[0m                 )\n\u001b[1;32m    566\u001b[0m             \u001b[0;32melse\u001b[0m\u001b[0;34m:\u001b[0m\u001b[0;34m\u001b[0m\u001b[0;34m\u001b[0m\u001b[0m\n\u001b[0;32m--> 567\u001b[0;31m                 layer_outputs = layer_module(\n\u001b[0m\u001b[1;32m    568\u001b[0m                     \u001b[0mhidden_states\u001b[0m\u001b[0;34m,\u001b[0m\u001b[0;34m\u001b[0m\u001b[0;34m\u001b[0m\u001b[0m\n\u001b[1;32m    569\u001b[0m                     \u001b[0mattention_mask\u001b[0m\u001b[0;34m,\u001b[0m\u001b[0;34m\u001b[0m\u001b[0;34m\u001b[0m\u001b[0m\n",
      "\u001b[0;32m/home/se/anaconda3/lib/python3.8/site-packages/torch/nn/modules/module.py\u001b[0m in \u001b[0;36m_call_impl\u001b[0;34m(self, *input, **kwargs)\u001b[0m\n\u001b[1;32m    887\u001b[0m             \u001b[0mresult\u001b[0m \u001b[0;34m=\u001b[0m \u001b[0mself\u001b[0m\u001b[0;34m.\u001b[0m\u001b[0m_slow_forward\u001b[0m\u001b[0;34m(\u001b[0m\u001b[0;34m*\u001b[0m\u001b[0minput\u001b[0m\u001b[0;34m,\u001b[0m \u001b[0;34m**\u001b[0m\u001b[0mkwargs\u001b[0m\u001b[0;34m)\u001b[0m\u001b[0;34m\u001b[0m\u001b[0;34m\u001b[0m\u001b[0m\n\u001b[1;32m    888\u001b[0m         \u001b[0;32melse\u001b[0m\u001b[0;34m:\u001b[0m\u001b[0;34m\u001b[0m\u001b[0;34m\u001b[0m\u001b[0m\n\u001b[0;32m--> 889\u001b[0;31m             \u001b[0mresult\u001b[0m \u001b[0;34m=\u001b[0m \u001b[0mself\u001b[0m\u001b[0;34m.\u001b[0m\u001b[0mforward\u001b[0m\u001b[0;34m(\u001b[0m\u001b[0;34m*\u001b[0m\u001b[0minput\u001b[0m\u001b[0;34m,\u001b[0m \u001b[0;34m**\u001b[0m\u001b[0mkwargs\u001b[0m\u001b[0;34m)\u001b[0m\u001b[0;34m\u001b[0m\u001b[0;34m\u001b[0m\u001b[0m\n\u001b[0m\u001b[1;32m    890\u001b[0m         for hook in itertools.chain(\n\u001b[1;32m    891\u001b[0m                 \u001b[0m_global_forward_hooks\u001b[0m\u001b[0;34m.\u001b[0m\u001b[0mvalues\u001b[0m\u001b[0;34m(\u001b[0m\u001b[0;34m)\u001b[0m\u001b[0;34m,\u001b[0m\u001b[0;34m\u001b[0m\u001b[0;34m\u001b[0m\u001b[0m\n",
      "\u001b[0;32m/home/se/anaconda3/lib/python3.8/site-packages/transformers/models/bert/modeling_bert.py\u001b[0m in \u001b[0;36mforward\u001b[0;34m(self, hidden_states, attention_mask, head_mask, encoder_hidden_states, encoder_attention_mask, past_key_value, output_attentions)\u001b[0m\n\u001b[1;32m    453\u001b[0m         \u001b[0;31m# decoder uni-directional self-attention cached key/values tuple is at positions 1,2\u001b[0m\u001b[0;34m\u001b[0m\u001b[0;34m\u001b[0m\u001b[0;34m\u001b[0m\u001b[0m\n\u001b[1;32m    454\u001b[0m         \u001b[0mself_attn_past_key_value\u001b[0m \u001b[0;34m=\u001b[0m \u001b[0mpast_key_value\u001b[0m\u001b[0;34m[\u001b[0m\u001b[0;34m:\u001b[0m\u001b[0;36m2\u001b[0m\u001b[0;34m]\u001b[0m \u001b[0;32mif\u001b[0m \u001b[0mpast_key_value\u001b[0m \u001b[0;32mis\u001b[0m \u001b[0;32mnot\u001b[0m \u001b[0;32mNone\u001b[0m \u001b[0;32melse\u001b[0m \u001b[0;32mNone\u001b[0m\u001b[0;34m\u001b[0m\u001b[0;34m\u001b[0m\u001b[0m\n\u001b[0;32m--> 455\u001b[0;31m         self_attention_outputs = self.attention(\n\u001b[0m\u001b[1;32m    456\u001b[0m             \u001b[0mhidden_states\u001b[0m\u001b[0;34m,\u001b[0m\u001b[0;34m\u001b[0m\u001b[0;34m\u001b[0m\u001b[0m\n\u001b[1;32m    457\u001b[0m             \u001b[0mattention_mask\u001b[0m\u001b[0;34m,\u001b[0m\u001b[0;34m\u001b[0m\u001b[0;34m\u001b[0m\u001b[0m\n",
      "\u001b[0;32m/home/se/anaconda3/lib/python3.8/site-packages/torch/nn/modules/module.py\u001b[0m in \u001b[0;36m_call_impl\u001b[0;34m(self, *input, **kwargs)\u001b[0m\n\u001b[1;32m    887\u001b[0m             \u001b[0mresult\u001b[0m \u001b[0;34m=\u001b[0m \u001b[0mself\u001b[0m\u001b[0;34m.\u001b[0m\u001b[0m_slow_forward\u001b[0m\u001b[0;34m(\u001b[0m\u001b[0;34m*\u001b[0m\u001b[0minput\u001b[0m\u001b[0;34m,\u001b[0m \u001b[0;34m**\u001b[0m\u001b[0mkwargs\u001b[0m\u001b[0;34m)\u001b[0m\u001b[0;34m\u001b[0m\u001b[0;34m\u001b[0m\u001b[0m\n\u001b[1;32m    888\u001b[0m         \u001b[0;32melse\u001b[0m\u001b[0;34m:\u001b[0m\u001b[0;34m\u001b[0m\u001b[0;34m\u001b[0m\u001b[0m\n\u001b[0;32m--> 889\u001b[0;31m             \u001b[0mresult\u001b[0m \u001b[0;34m=\u001b[0m \u001b[0mself\u001b[0m\u001b[0;34m.\u001b[0m\u001b[0mforward\u001b[0m\u001b[0;34m(\u001b[0m\u001b[0;34m*\u001b[0m\u001b[0minput\u001b[0m\u001b[0;34m,\u001b[0m \u001b[0;34m**\u001b[0m\u001b[0mkwargs\u001b[0m\u001b[0;34m)\u001b[0m\u001b[0;34m\u001b[0m\u001b[0;34m\u001b[0m\u001b[0m\n\u001b[0m\u001b[1;32m    890\u001b[0m         for hook in itertools.chain(\n\u001b[1;32m    891\u001b[0m                 \u001b[0m_global_forward_hooks\u001b[0m\u001b[0;34m.\u001b[0m\u001b[0mvalues\u001b[0m\u001b[0;34m(\u001b[0m\u001b[0;34m)\u001b[0m\u001b[0;34m,\u001b[0m\u001b[0;34m\u001b[0m\u001b[0;34m\u001b[0m\u001b[0m\n",
      "\u001b[0;32m/home/se/anaconda3/lib/python3.8/site-packages/transformers/models/bert/modeling_bert.py\u001b[0m in \u001b[0;36mforward\u001b[0;34m(self, hidden_states, attention_mask, head_mask, encoder_hidden_states, encoder_attention_mask, past_key_value, output_attentions)\u001b[0m\n\u001b[1;32m    384\u001b[0m         \u001b[0moutput_attentions\u001b[0m\u001b[0;34m=\u001b[0m\u001b[0;32mFalse\u001b[0m\u001b[0;34m,\u001b[0m\u001b[0;34m\u001b[0m\u001b[0;34m\u001b[0m\u001b[0m\n\u001b[1;32m    385\u001b[0m     ):\n\u001b[0;32m--> 386\u001b[0;31m         self_outputs = self.self(\n\u001b[0m\u001b[1;32m    387\u001b[0m             \u001b[0mhidden_states\u001b[0m\u001b[0;34m,\u001b[0m\u001b[0;34m\u001b[0m\u001b[0;34m\u001b[0m\u001b[0m\n\u001b[1;32m    388\u001b[0m             \u001b[0mattention_mask\u001b[0m\u001b[0;34m,\u001b[0m\u001b[0;34m\u001b[0m\u001b[0;34m\u001b[0m\u001b[0m\n",
      "\u001b[0;32m/home/se/anaconda3/lib/python3.8/site-packages/torch/nn/modules/module.py\u001b[0m in \u001b[0;36m_call_impl\u001b[0;34m(self, *input, **kwargs)\u001b[0m\n\u001b[1;32m    887\u001b[0m             \u001b[0mresult\u001b[0m \u001b[0;34m=\u001b[0m \u001b[0mself\u001b[0m\u001b[0;34m.\u001b[0m\u001b[0m_slow_forward\u001b[0m\u001b[0;34m(\u001b[0m\u001b[0;34m*\u001b[0m\u001b[0minput\u001b[0m\u001b[0;34m,\u001b[0m \u001b[0;34m**\u001b[0m\u001b[0mkwargs\u001b[0m\u001b[0;34m)\u001b[0m\u001b[0;34m\u001b[0m\u001b[0;34m\u001b[0m\u001b[0m\n\u001b[1;32m    888\u001b[0m         \u001b[0;32melse\u001b[0m\u001b[0;34m:\u001b[0m\u001b[0;34m\u001b[0m\u001b[0;34m\u001b[0m\u001b[0m\n\u001b[0;32m--> 889\u001b[0;31m             \u001b[0mresult\u001b[0m \u001b[0;34m=\u001b[0m \u001b[0mself\u001b[0m\u001b[0;34m.\u001b[0m\u001b[0mforward\u001b[0m\u001b[0;34m(\u001b[0m\u001b[0;34m*\u001b[0m\u001b[0minput\u001b[0m\u001b[0;34m,\u001b[0m \u001b[0;34m**\u001b[0m\u001b[0mkwargs\u001b[0m\u001b[0;34m)\u001b[0m\u001b[0;34m\u001b[0m\u001b[0;34m\u001b[0m\u001b[0m\n\u001b[0m\u001b[1;32m    890\u001b[0m         for hook in itertools.chain(\n\u001b[1;32m    891\u001b[0m                 \u001b[0m_global_forward_hooks\u001b[0m\u001b[0;34m.\u001b[0m\u001b[0mvalues\u001b[0m\u001b[0;34m(\u001b[0m\u001b[0;34m)\u001b[0m\u001b[0;34m,\u001b[0m\u001b[0;34m\u001b[0m\u001b[0;34m\u001b[0m\u001b[0m\n",
      "\u001b[0;32m/home/se/anaconda3/lib/python3.8/site-packages/transformers/models/bert/modeling_bert.py\u001b[0m in \u001b[0;36mforward\u001b[0;34m(self, hidden_states, attention_mask, head_mask, encoder_hidden_states, encoder_attention_mask, past_key_value, output_attentions)\u001b[0m\n\u001b[1;32m    312\u001b[0m \u001b[0;34m\u001b[0m\u001b[0m\n\u001b[1;32m    313\u001b[0m         \u001b[0;31m# Normalize the attention scores to probabilities.\u001b[0m\u001b[0;34m\u001b[0m\u001b[0;34m\u001b[0m\u001b[0;34m\u001b[0m\u001b[0m\n\u001b[0;32m--> 314\u001b[0;31m         \u001b[0mattention_probs\u001b[0m \u001b[0;34m=\u001b[0m \u001b[0mnn\u001b[0m\u001b[0;34m.\u001b[0m\u001b[0mSoftmax\u001b[0m\u001b[0;34m(\u001b[0m\u001b[0mdim\u001b[0m\u001b[0;34m=\u001b[0m\u001b[0;34m-\u001b[0m\u001b[0;36m1\u001b[0m\u001b[0;34m)\u001b[0m\u001b[0;34m(\u001b[0m\u001b[0mattention_scores\u001b[0m\u001b[0;34m)\u001b[0m\u001b[0;34m\u001b[0m\u001b[0;34m\u001b[0m\u001b[0m\n\u001b[0m\u001b[1;32m    315\u001b[0m \u001b[0;34m\u001b[0m\u001b[0m\n\u001b[1;32m    316\u001b[0m         \u001b[0;31m# This is actually dropping out entire tokens to attend to, which might\u001b[0m\u001b[0;34m\u001b[0m\u001b[0;34m\u001b[0m\u001b[0;34m\u001b[0m\u001b[0m\n",
      "\u001b[0;32m/home/se/anaconda3/lib/python3.8/site-packages/torch/nn/modules/module.py\u001b[0m in \u001b[0;36m_call_impl\u001b[0;34m(self, *input, **kwargs)\u001b[0m\n\u001b[1;32m    887\u001b[0m             \u001b[0mresult\u001b[0m \u001b[0;34m=\u001b[0m \u001b[0mself\u001b[0m\u001b[0;34m.\u001b[0m\u001b[0m_slow_forward\u001b[0m\u001b[0;34m(\u001b[0m\u001b[0;34m*\u001b[0m\u001b[0minput\u001b[0m\u001b[0;34m,\u001b[0m \u001b[0;34m**\u001b[0m\u001b[0mkwargs\u001b[0m\u001b[0;34m)\u001b[0m\u001b[0;34m\u001b[0m\u001b[0;34m\u001b[0m\u001b[0m\n\u001b[1;32m    888\u001b[0m         \u001b[0;32melse\u001b[0m\u001b[0;34m:\u001b[0m\u001b[0;34m\u001b[0m\u001b[0;34m\u001b[0m\u001b[0m\n\u001b[0;32m--> 889\u001b[0;31m             \u001b[0mresult\u001b[0m \u001b[0;34m=\u001b[0m \u001b[0mself\u001b[0m\u001b[0;34m.\u001b[0m\u001b[0mforward\u001b[0m\u001b[0;34m(\u001b[0m\u001b[0;34m*\u001b[0m\u001b[0minput\u001b[0m\u001b[0;34m,\u001b[0m \u001b[0;34m**\u001b[0m\u001b[0mkwargs\u001b[0m\u001b[0;34m)\u001b[0m\u001b[0;34m\u001b[0m\u001b[0;34m\u001b[0m\u001b[0m\n\u001b[0m\u001b[1;32m    890\u001b[0m         for hook in itertools.chain(\n\u001b[1;32m    891\u001b[0m                 \u001b[0m_global_forward_hooks\u001b[0m\u001b[0;34m.\u001b[0m\u001b[0mvalues\u001b[0m\u001b[0;34m(\u001b[0m\u001b[0;34m)\u001b[0m\u001b[0;34m,\u001b[0m\u001b[0;34m\u001b[0m\u001b[0;34m\u001b[0m\u001b[0m\n",
      "\u001b[0;32m/home/se/anaconda3/lib/python3.8/site-packages/torch/nn/modules/activation.py\u001b[0m in \u001b[0;36mforward\u001b[0;34m(self, input)\u001b[0m\n\u001b[1;32m   1198\u001b[0m \u001b[0;34m\u001b[0m\u001b[0m\n\u001b[1;32m   1199\u001b[0m     \u001b[0;32mdef\u001b[0m \u001b[0mforward\u001b[0m\u001b[0;34m(\u001b[0m\u001b[0mself\u001b[0m\u001b[0;34m,\u001b[0m \u001b[0minput\u001b[0m\u001b[0;34m:\u001b[0m \u001b[0mTensor\u001b[0m\u001b[0;34m)\u001b[0m \u001b[0;34m->\u001b[0m \u001b[0mTensor\u001b[0m\u001b[0;34m:\u001b[0m\u001b[0;34m\u001b[0m\u001b[0;34m\u001b[0m\u001b[0m\n\u001b[0;32m-> 1200\u001b[0;31m         \u001b[0;32mreturn\u001b[0m \u001b[0mF\u001b[0m\u001b[0;34m.\u001b[0m\u001b[0msoftmax\u001b[0m\u001b[0;34m(\u001b[0m\u001b[0minput\u001b[0m\u001b[0;34m,\u001b[0m \u001b[0mself\u001b[0m\u001b[0;34m.\u001b[0m\u001b[0mdim\u001b[0m\u001b[0;34m,\u001b[0m \u001b[0m_stacklevel\u001b[0m\u001b[0;34m=\u001b[0m\u001b[0;36m5\u001b[0m\u001b[0;34m)\u001b[0m\u001b[0;34m\u001b[0m\u001b[0;34m\u001b[0m\u001b[0m\n\u001b[0m\u001b[1;32m   1201\u001b[0m \u001b[0;34m\u001b[0m\u001b[0m\n\u001b[1;32m   1202\u001b[0m     \u001b[0;32mdef\u001b[0m \u001b[0mextra_repr\u001b[0m\u001b[0;34m(\u001b[0m\u001b[0mself\u001b[0m\u001b[0;34m)\u001b[0m \u001b[0;34m->\u001b[0m \u001b[0mstr\u001b[0m\u001b[0;34m:\u001b[0m\u001b[0;34m\u001b[0m\u001b[0;34m\u001b[0m\u001b[0m\n",
      "\u001b[0;32m/home/se/anaconda3/lib/python3.8/site-packages/torch/nn/functional.py\u001b[0m in \u001b[0;36msoftmax\u001b[0;34m(input, dim, _stacklevel, dtype)\u001b[0m\n\u001b[1;32m   1581\u001b[0m         \u001b[0mdim\u001b[0m \u001b[0;34m=\u001b[0m \u001b[0m_get_softmax_dim\u001b[0m\u001b[0;34m(\u001b[0m\u001b[0;34m\"softmax\"\u001b[0m\u001b[0;34m,\u001b[0m \u001b[0minput\u001b[0m\u001b[0;34m.\u001b[0m\u001b[0mdim\u001b[0m\u001b[0;34m(\u001b[0m\u001b[0;34m)\u001b[0m\u001b[0;34m,\u001b[0m \u001b[0m_stacklevel\u001b[0m\u001b[0;34m)\u001b[0m\u001b[0;34m\u001b[0m\u001b[0;34m\u001b[0m\u001b[0m\n\u001b[1;32m   1582\u001b[0m     \u001b[0;32mif\u001b[0m \u001b[0mdtype\u001b[0m \u001b[0;32mis\u001b[0m \u001b[0;32mNone\u001b[0m\u001b[0;34m:\u001b[0m\u001b[0;34m\u001b[0m\u001b[0;34m\u001b[0m\u001b[0m\n\u001b[0;32m-> 1583\u001b[0;31m         \u001b[0mret\u001b[0m \u001b[0;34m=\u001b[0m \u001b[0minput\u001b[0m\u001b[0;34m.\u001b[0m\u001b[0msoftmax\u001b[0m\u001b[0;34m(\u001b[0m\u001b[0mdim\u001b[0m\u001b[0;34m)\u001b[0m\u001b[0;34m\u001b[0m\u001b[0;34m\u001b[0m\u001b[0m\n\u001b[0m\u001b[1;32m   1584\u001b[0m     \u001b[0;32melse\u001b[0m\u001b[0;34m:\u001b[0m\u001b[0;34m\u001b[0m\u001b[0;34m\u001b[0m\u001b[0m\n\u001b[1;32m   1585\u001b[0m         \u001b[0mret\u001b[0m \u001b[0;34m=\u001b[0m \u001b[0minput\u001b[0m\u001b[0;34m.\u001b[0m\u001b[0msoftmax\u001b[0m\u001b[0;34m(\u001b[0m\u001b[0mdim\u001b[0m\u001b[0;34m,\u001b[0m \u001b[0mdtype\u001b[0m\u001b[0;34m=\u001b[0m\u001b[0mdtype\u001b[0m\u001b[0;34m)\u001b[0m\u001b[0;34m\u001b[0m\u001b[0;34m\u001b[0m\u001b[0m\n",
      "\u001b[0;31mKeyboardInterrupt\u001b[0m: "
     ]
    }
   ],
   "source": [
    "train_dataset = StatDataset(train_match,stat,article,le)"
   ]
  },
  {
   "cell_type": "code",
   "execution_count": null,
   "id": "6d5e67b8-607e-4e2d-b7cf-e85aa48797a5",
   "metadata": {},
   "outputs": [],
   "source": [
    "valid_dataset = StatDataset(valid_match,stat,article,le)"
   ]
  },
  {
   "cell_type": "code",
   "execution_count": null,
   "id": "71ea6ae2-edac-412a-aab4-8ea1b21d10ac",
   "metadata": {},
   "outputs": [],
   "source": [
    "print(len(train_dataset),len(valid_dataset))"
   ]
  },
  {
   "cell_type": "code",
   "execution_count": 18,
   "id": "d8e77be6-02c9-4cc0-ba92-eb69d461ff1c",
   "metadata": {},
   "outputs": [],
   "source": [
    "batch_size = 16\n",
    "epochs = 100\n",
    "device='cuda'"
   ]
  },
  {
   "cell_type": "code",
   "execution_count": 19,
   "id": "f773d4d7-1fbe-46e2-b261-ca7c2fb657b0",
   "metadata": {},
   "outputs": [
    {
     "data": {
      "text/plain": [
       "array(['무승부', '승', '패'], dtype='<U3')"
      ]
     },
     "execution_count": 19,
     "metadata": {},
     "output_type": "execute_result"
    }
   ],
   "source": [
    "le.classes_"
   ]
  },
  {
   "cell_type": "code",
   "execution_count": 20,
   "id": "416dbb24-efd3-41c8-acc0-35e65687d6ba",
   "metadata": {},
   "outputs": [],
   "source": [
    "train_class = pd.DataFrame(train_dataset.label)\n",
    "train_class_counts = [len(train_class.loc[train_class[0] == 0]) , len(train_class.loc[train_class[0] == 1])  , len(train_class.loc[train_class[0] == 2])]\n",
    "train_num_samples = sum(train_class_counts)\n",
    "train_labels = list(train_class.values.reshape(-1))\n",
    "\n",
    "train_class_weights = [train_num_samples / train_class_counts[i] for i in range(len(train_class_counts))] \n",
    "\n",
    "# 해당 데이터의 label에 해당되는 가중치\n",
    "train_weights = [train_class_weights[train_labels[i]] for i in range(int(train_num_samples))] #해당 레이블마다의 가중치 비율\n",
    "train_sampler = WeightedRandomSampler(torch.DoubleTensor(train_weights), int(train_num_samples))"
   ]
  },
  {
   "cell_type": "code",
   "execution_count": 21,
   "id": "93ebcb5d-af9d-4402-9d43-ce1ddfaca377",
   "metadata": {},
   "outputs": [],
   "source": [
    "valid_class = pd.DataFrame(valid_dataset.label)\n",
    "valid_class_counts = [len(valid_class.loc[train_class[0] == 0]) , len(valid_class.loc[train_class[0] == 1])  , len(valid_class.loc[train_class[0] == 2])]\n",
    "valid_num_samples = sum(valid_class_counts)\n",
    "valid_labels = list(valid_class.values.reshape(-1))\n",
    "\n",
    "valid_class_weights = [valid_num_samples / valid_class_counts[i] for i in range(len(valid_class_counts))] \n",
    "\n",
    "# 해당 데이터의 label에 해당되는 가중치\n",
    "valid_weights = [valid_class_weights[valid_labels[i]] for i in range(int(valid_num_samples))] #해당 레이블마다의 가중치 비율\n",
    "valid_sampler = WeightedRandomSampler(torch.DoubleTensor(valid_weights), int(valid_num_samples))"
   ]
  },
  {
   "cell_type": "code",
   "execution_count": 22,
   "id": "e464700c-c9f3-4a1a-a26c-f0b411862ab9",
   "metadata": {},
   "outputs": [],
   "source": [
    "classifier = WindupClassifier()\n",
    "classifier.cuda()\n",
    "optimizer = torch.optim.AdamW(classifier.parameters(), lr=1e-3)"
   ]
  },
  {
   "cell_type": "code",
   "execution_count": 23,
   "id": "927636b1-85f4-41b7-b8e2-f9175b1c0c3e",
   "metadata": {},
   "outputs": [],
   "source": [
    "criterion = nn.CrossEntropyLoss()\n",
    "_=criterion.cuda()"
   ]
  },
  {
   "cell_type": "code",
   "execution_count": 24,
   "id": "dd9fe9a8-b829-41bf-8a0f-b0c3d16249ae",
   "metadata": {},
   "outputs": [],
   "source": [
    "train_dataloader = DataLoader(train_dataset, batch_size=batch_size, shuffle=False,sampler = train_sampler)\n",
    "val_dataloader = DataLoader(valid_dataset, batch_size=batch_size,shuffle=False,sampler = valid_sampler)"
   ]
  },
  {
   "cell_type": "code",
   "execution_count": 25,
   "id": "de39a303-bd2c-453a-a57e-358bfdd13b45",
   "metadata": {},
   "outputs": [],
   "source": [
    "train_loss = []\n",
    "train_acc = []\n",
    "\n",
    "valid_loss = []\n",
    "valid_acc = []"
   ]
  },
  {
   "cell_type": "code",
   "execution_count": 26,
   "id": "045548c7-cc63-43ba-8020-8b4d97c7de1c",
   "metadata": {},
   "outputs": [
    {
     "data": {
      "application/vnd.jupyter.widget-view+json": {
       "model_id": "5cdb1867635b4d72af806f84a4c2398c",
       "version_major": 2,
       "version_minor": 0
      },
      "text/plain": [
       "  0%|          | 0/100 [00:00<?, ?it/s]"
      ]
     },
     "metadata": {},
     "output_type": "display_data"
    },
    {
     "name": "stdout",
     "output_type": "stream",
     "text": [
      "Epochs: 1 | Train Loss:  1.141                 | Train Accuracy:  0.538                 | Val Loss:  1.389                 | Val Accuracy:  0.346\n",
      "Epochs: 2 | Train Loss:  0.996                 | Train Accuracy:  0.557                 | Val Loss:  1.195                 | Val Accuracy:  0.345\n",
      "Epochs: 3 | Train Loss:  0.879                 | Train Accuracy:  0.615                 | Val Loss:  0.869                 | Val Accuracy:  0.556\n",
      "Epochs: 4 | Train Loss:  0.751                 | Train Accuracy:  0.604                 | Val Loss:  0.756                 | Val Accuracy:  0.550\n",
      "Epochs: 5 | Train Loss:  0.712                 | Train Accuracy:  0.641                 | Val Loss:  0.888                 | Val Accuracy:  0.595\n",
      "Epochs: 6 | Train Loss:  0.705                 | Train Accuracy:  0.655                 | Val Loss:  0.931                 | Val Accuracy:  0.478\n",
      "Epochs: 7 | Train Loss:  0.756                 | Train Accuracy:  0.665                 | Val Loss:  1.189                 | Val Accuracy:  0.334\n",
      "Epochs: 8 | Train Loss:  0.677                 | Train Accuracy:  0.680                 | Val Loss:  0.829                 | Val Accuracy:  0.607\n",
      "Epochs: 9 | Train Loss:  0.698                 | Train Accuracy:  0.693                 | Val Loss:  0.861                 | Val Accuracy:  0.458\n",
      "Epochs: 10 | Train Loss:  0.780                 | Train Accuracy:  0.618                 | Val Loss:  0.769                 | Val Accuracy:  0.610\n",
      "Epochs: 11 | Train Loss:  0.781                 | Train Accuracy:  0.668                 | Val Loss:  0.867                 | Val Accuracy:  0.569\n",
      "Epochs: 12 | Train Loss:  0.661                 | Train Accuracy:  0.689                 | Val Loss:  1.059                 | Val Accuracy:  0.563\n",
      "Epochs: 13 | Train Loss:  0.953                 | Train Accuracy:  0.651                 | Val Loss:  1.249                 | Val Accuracy:  0.462\n",
      "Epochs: 14 | Train Loss:  0.794                 | Train Accuracy:  0.635                 | Val Loss:  0.823                 | Val Accuracy:  0.628\n",
      "Epochs: 15 | Train Loss:  0.676                 | Train Accuracy:  0.628                 | Val Loss:  0.731                 | Val Accuracy:  0.585\n",
      "Epochs: 16 | Train Loss:  0.577                 | Train Accuracy:  0.677                 | Val Loss:  0.925                 | Val Accuracy:  0.468\n",
      "Epochs: 17 | Train Loss:  0.552                 | Train Accuracy:  0.701                 | Val Loss:  0.783                 | Val Accuracy:  0.577\n",
      "Epochs: 18 | Train Loss:  0.486                 | Train Accuracy:  0.737                 | Val Loss:  0.765                 | Val Accuracy:  0.534\n",
      "Epochs: 19 | Train Loss:  0.728                 | Train Accuracy:  0.695                 | Val Loss:  1.317                 | Val Accuracy:  0.530\n",
      "Epochs: 20 | Train Loss:  0.588                 | Train Accuracy:  0.692                 | Val Loss:  1.030                 | Val Accuracy:  0.452\n",
      "Epochs: 21 | Train Loss:  0.642                 | Train Accuracy:  0.682                 | Val Loss:  1.001                 | Val Accuracy:  0.538\n",
      "Epochs: 22 | Train Loss:  0.596                 | Train Accuracy:  0.674                 | Val Loss:  0.813                 | Val Accuracy:  0.597\n",
      "Epochs: 23 | Train Loss:  0.688                 | Train Accuracy:  0.637                 | Val Loss:  0.815                 | Val Accuracy:  0.634\n",
      "Epochs: 24 | Train Loss:  0.656                 | Train Accuracy:  0.672                 | Val Loss:  1.088                 | Val Accuracy:  0.415\n",
      "Epochs: 25 | Train Loss:  0.598                 | Train Accuracy:  0.686                 | Val Loss:  1.187                 | Val Accuracy:  0.431\n",
      "Epochs: 26 | Train Loss:  0.645                 | Train Accuracy:  0.652                 | Val Loss:  0.701                 | Val Accuracy:  0.554\n",
      "Epochs: 27 | Train Loss:  0.615                 | Train Accuracy:  0.664                 | Val Loss:  0.891                 | Val Accuracy:  0.644\n",
      "Epochs: 28 | Train Loss:  0.514                 | Train Accuracy:  0.709                 | Val Loss:  1.082                 | Val Accuracy:  0.532\n",
      "Epochs: 29 | Train Loss:  0.643                 | Train Accuracy:  0.669                 | Val Loss:  0.828                 | Val Accuracy:  0.554\n",
      "Epochs: 30 | Train Loss:  0.590                 | Train Accuracy:  0.701                 | Val Loss:  1.203                 | Val Accuracy:  0.325\n",
      "Epochs: 31 | Train Loss:  0.576                 | Train Accuracy:  0.687                 | Val Loss:  0.877                 | Val Accuracy:  0.560\n",
      "Epochs: 32 | Train Loss:  0.556                 | Train Accuracy:  0.695                 | Val Loss:  0.936                 | Val Accuracy:  0.426\n",
      "Epochs: 33 | Train Loss:  0.555                 | Train Accuracy:  0.692                 | Val Loss:  0.887                 | Val Accuracy:  0.484\n",
      "Epochs: 34 | Train Loss:  0.845                 | Train Accuracy:  0.649                 | Val Loss:  0.824                 | Val Accuracy:  0.652\n",
      "Epochs: 35 | Train Loss:  0.700                 | Train Accuracy:  0.646                 | Val Loss:  0.920                 | Val Accuracy:  0.518\n",
      "Epochs: 36 | Train Loss:  0.550                 | Train Accuracy:  0.684                 | Val Loss:  0.947                 | Val Accuracy:  0.652\n",
      "Epochs: 37 | Train Loss:  0.522                 | Train Accuracy:  0.703                 | Val Loss:  0.754                 | Val Accuracy:  0.538\n",
      "Epochs: 38 | Train Loss:  0.565                 | Train Accuracy:  0.662                 | Val Loss:  1.223                 | Val Accuracy:  0.470\n",
      "Epochs: 39 | Train Loss:  0.651                 | Train Accuracy:  0.688                 | Val Loss:  0.944                 | Val Accuracy:  0.475\n",
      "Epochs: 40 | Train Loss:  0.510                 | Train Accuracy:  0.681                 | Val Loss:  0.863                 | Val Accuracy:  0.562\n",
      "Epochs: 41 | Train Loss:  0.524                 | Train Accuracy:  0.681                 | Val Loss:  0.857                 | Val Accuracy:  0.599\n",
      "Epochs: 42 | Train Loss:  0.650                 | Train Accuracy:  0.635                 | Val Loss:  1.087                 | Val Accuracy:  0.583\n",
      "Epochs: 43 | Train Loss:  0.579                 | Train Accuracy:  0.677                 | Val Loss:  1.044                 | Val Accuracy:  0.370\n",
      "Epochs: 44 | Train Loss:  0.616                 | Train Accuracy:  0.669                 | Val Loss:  0.775                 | Val Accuracy:  0.532\n",
      "Epochs: 45 | Train Loss:  0.601                 | Train Accuracy:  0.714                 | Val Loss:  1.016                 | Val Accuracy:  0.636\n",
      "Epochs: 46 | Train Loss:  0.615                 | Train Accuracy:  0.641                 | Val Loss:  1.217                 | Val Accuracy:  0.340\n",
      "Epochs: 47 | Train Loss:  0.548                 | Train Accuracy:  0.709                 | Val Loss:  0.852                 | Val Accuracy:  0.581\n",
      "Epochs: 48 | Train Loss:  0.558                 | Train Accuracy:  0.698                 | Val Loss:  0.906                 | Val Accuracy:  0.552\n",
      "Epochs: 49 | Train Loss:  0.607                 | Train Accuracy:  0.676                 | Val Loss:  0.925                 | Val Accuracy:  0.621\n",
      "Epochs: 50 | Train Loss:  0.567                 | Train Accuracy:  0.695                 | Val Loss:  1.750                 | Val Accuracy:  0.391\n",
      "Epochs: 51 | Train Loss:  0.633                 | Train Accuracy:  0.730                 | Val Loss:  1.071                 | Val Accuracy:  0.495\n",
      "Epochs: 52 | Train Loss:  0.541                 | Train Accuracy:  0.702                 | Val Loss:  0.978                 | Val Accuracy:  0.576\n",
      "Epochs: 53 | Train Loss:  0.513                 | Train Accuracy:  0.695                 | Val Loss:  1.005                 | Val Accuracy:  0.485\n",
      "Epochs: 54 | Train Loss:  0.585                 | Train Accuracy:  0.689                 | Val Loss:  0.992                 | Val Accuracy:  0.434\n",
      "Epochs: 55 | Train Loss:  0.555                 | Train Accuracy:  0.702                 | Val Loss:  0.804                 | Val Accuracy:  0.458\n",
      "Epochs: 56 | Train Loss:  0.536                 | Train Accuracy:  0.681                 | Val Loss:  0.961                 | Val Accuracy:  0.558\n",
      "Epochs: 57 | Train Loss:  0.481                 | Train Accuracy:  0.739                 | Val Loss:  1.191                 | Val Accuracy:  0.595\n",
      "Epochs: 58 | Train Loss:  0.527                 | Train Accuracy:  0.741                 | Val Loss:  1.026                 | Val Accuracy:  0.431\n",
      "Epochs: 59 | Train Loss:  0.520                 | Train Accuracy:  0.732                 | Val Loss:  1.493                 | Val Accuracy:  0.307\n",
      "Epochs: 60 | Train Loss:  0.599                 | Train Accuracy:  0.689                 | Val Loss:  1.095                 | Val Accuracy:  0.477\n",
      "Epochs: 61 | Train Loss:  0.494                 | Train Accuracy:  0.700                 | Val Loss:  0.967                 | Val Accuracy:  0.509\n",
      "Epochs: 62 | Train Loss:  0.540                 | Train Accuracy:  0.709                 | Val Loss:  0.661                 | Val Accuracy:  0.616\n",
      "Epochs: 63 | Train Loss:  0.560                 | Train Accuracy:  0.658                 | Val Loss:  0.979                 | Val Accuracy:  0.554\n",
      "Epochs: 64 | Train Loss:  0.502                 | Train Accuracy:  0.748                 | Val Loss:  1.124                 | Val Accuracy:  0.509\n",
      "Epochs: 65 | Train Loss:  0.653                 | Train Accuracy:  0.681                 | Val Loss:  0.890                 | Val Accuracy:  0.536\n",
      "Epochs: 66 | Train Loss:  0.629                 | Train Accuracy:  0.666                 | Val Loss:  1.138                 | Val Accuracy:  0.388\n",
      "Epochs: 67 | Train Loss:  0.592                 | Train Accuracy:  0.648                 | Val Loss:  0.809                 | Val Accuracy:  0.635\n",
      "Epochs: 68 | Train Loss:  0.510                 | Train Accuracy:  0.714                 | Val Loss:  0.769                 | Val Accuracy:  0.557\n",
      "Epochs: 69 | Train Loss:  0.584                 | Train Accuracy:  0.688                 | Val Loss:  1.124                 | Val Accuracy:  0.378\n",
      "Epochs: 70 | Train Loss:  0.525                 | Train Accuracy:  0.702                 | Val Loss:  1.044                 | Val Accuracy:  0.474\n",
      "Epochs: 71 | Train Loss:  0.454                 | Train Accuracy:  0.738                 | Val Loss:  0.944                 | Val Accuracy:  0.543\n",
      "Epochs: 72 | Train Loss:  0.556                 | Train Accuracy:  0.680                 | Val Loss:  0.989                 | Val Accuracy:  0.519\n",
      "Epochs: 73 | Train Loss:  0.536                 | Train Accuracy:  0.684                 | Val Loss:  0.839                 | Val Accuracy:  0.587\n",
      "Epochs: 74 | Train Loss:  0.564                 | Train Accuracy:  0.692                 | Val Loss:  0.868                 | Val Accuracy:  0.687\n",
      "Epochs: 75 | Train Loss:  0.592                 | Train Accuracy:  0.661                 | Val Loss:  0.950                 | Val Accuracy:  0.556\n",
      "Epochs: 76 | Train Loss:  0.521                 | Train Accuracy:  0.714                 | Val Loss:  0.816                 | Val Accuracy:  0.621\n",
      "Epochs: 77 | Train Loss:  0.536                 | Train Accuracy:  0.708                 | Val Loss:  0.894                 | Val Accuracy:  0.501\n",
      "Epochs: 78 | Train Loss:  0.536                 | Train Accuracy:  0.682                 | Val Loss:  1.012                 | Val Accuracy:  0.458\n",
      "Epochs: 79 | Train Loss:  0.498                 | Train Accuracy:  0.699                 | Val Loss:  0.825                 | Val Accuracy:  0.607\n",
      "Epochs: 80 | Train Loss:  0.556                 | Train Accuracy:  0.696                 | Val Loss:  0.824                 | Val Accuracy:  0.546\n",
      "Epochs: 81 | Train Loss:  0.638                 | Train Accuracy:  0.686                 | Val Loss:  1.051                 | Val Accuracy:  0.534\n",
      "Epochs: 82 | Train Loss:  0.560                 | Train Accuracy:  0.661                 | Val Loss:  0.761                 | Val Accuracy:  0.562\n",
      "Epochs: 83 | Train Loss:  0.556                 | Train Accuracy:  0.687                 | Val Loss:  0.928                 | Val Accuracy:  0.515\n",
      "Epochs: 84 | Train Loss:  0.535                 | Train Accuracy:  0.661                 | Val Loss:  0.895                 | Val Accuracy:  0.513\n",
      "Epochs: 85 | Train Loss:  0.511                 | Train Accuracy:  0.687                 | Val Loss:  0.934                 | Val Accuracy:  0.507\n",
      "Epochs: 86 | Train Loss:  0.622                 | Train Accuracy:  0.672                 | Val Loss:  0.906                 | Val Accuracy:  0.638\n",
      "Epochs: 87 | Train Loss:  0.639                 | Train Accuracy:  0.681                 | Val Loss:  1.046                 | Val Accuracy:  0.591\n",
      "Epochs: 88 | Train Loss:  0.568                 | Train Accuracy:  0.680                 | Val Loss:  0.997                 | Val Accuracy:  0.538\n",
      "Epochs: 89 | Train Loss:  0.470                 | Train Accuracy:  0.733                 | Val Loss:  0.770                 | Val Accuracy:  0.565\n",
      "Epochs: 90 | Train Loss:  0.458                 | Train Accuracy:  0.727                 | Val Loss:  0.870                 | Val Accuracy:  0.568\n",
      "Epochs: 91 | Train Loss:  0.505                 | Train Accuracy:  0.695                 | Val Loss:  0.954                 | Val Accuracy:  0.543\n",
      "Epochs: 92 | Train Loss:  0.592                 | Train Accuracy:  0.693                 | Val Loss:  1.124                 | Val Accuracy:  0.585\n",
      "Epochs: 93 | Train Loss:  0.567                 | Train Accuracy:  0.676                 | Val Loss:  1.084                 | Val Accuracy:  0.566\n",
      "Epochs: 94 | Train Loss:  0.453                 | Train Accuracy:  0.742                 | Val Loss:  1.063                 | Val Accuracy:  0.589\n",
      "Epochs: 95 | Train Loss:  0.486                 | Train Accuracy:  0.714                 | Val Loss:  0.888                 | Val Accuracy:  0.501\n",
      "Epochs: 96 | Train Loss:  0.536                 | Train Accuracy:  0.720                 | Val Loss:  0.857                 | Val Accuracy:  0.603\n",
      "Epochs: 97 | Train Loss:  0.568                 | Train Accuracy:  0.705                 | Val Loss:  0.962                 | Val Accuracy:  0.510\n",
      "Epochs: 98 | Train Loss:  0.623                 | Train Accuracy:  0.666                 | Val Loss:  0.884                 | Val Accuracy:  0.526\n",
      "Epochs: 99 | Train Loss:  0.503                 | Train Accuracy:  0.737                 | Val Loss:  1.179                 | Val Accuracy:  0.348\n",
      "Epochs: 100 | Train Loss:  0.539                 | Train Accuracy:  0.710                 | Val Loss:  0.884                 | Val Accuracy:  0.595\n"
     ]
    }
   ],
   "source": [
    "classifier.zero_grad()\n",
    "for epoch in tqdm(range(epochs),total=epochs):\n",
    "\n",
    "    total_acc_train = 0\n",
    "    total_loss_train = 0\n",
    "    classifier.train()\n",
    "    for i,batch in enumerate(train_dataloader):\n",
    "\n",
    "        train_label = batch['label'].to(device)\n",
    "        train_stat = batch['stat'].to(device)\n",
    "        \n",
    "        output = classifier(train_stat)\n",
    "        output = output.squeeze(1)\n",
    "        batch_loss = criterion(output.float(), train_label)\n",
    "        \n",
    "        optimizer.zero_grad()\n",
    "        batch_loss.backward()\n",
    "        optimizer.step()\n",
    "        \n",
    "        total_loss_train += batch_loss.item()\n",
    "        \n",
    "        correct_prediction = torch.argmax(F.softmax(output, dim=1), 1) == train_label\n",
    "        acc = correct_prediction.float().mean()\n",
    "#         acc = (output.round() == train_label).sum().item()\n",
    "        total_acc_train += acc.item()\n",
    "        \n",
    "    train_loss.append(total_loss_train/len(train_dataloader))\n",
    "    train_acc.append(total_acc_train/len(train_dataloader))\n",
    "            \n",
    "    total_acc_val = 0\n",
    "    total_loss_val = 0\n",
    "    \n",
    "    with  torch.no_grad():\n",
    "        classifier.eval()\n",
    "        for i,batch in enumerate(val_dataloader):\n",
    "            \n",
    "            val_label = batch['label'].to(device)\n",
    "            val_stat = batch['stat'].to(device)\n",
    "\n",
    "            output = classifier(val_stat)\n",
    "            output = output.squeeze(1)\n",
    "            batch_loss = criterion(output.float(), val_label)\n",
    "            \n",
    "            total_loss_val += batch_loss.item()\n",
    "            correct_prediction = torch.argmax(F.softmax(output, dim=1), 1) == val_label\n",
    "            acc = correct_prediction.float().mean()\n",
    "#             acc = (output.round() == val_label).sum().item()\n",
    "            \n",
    "            total_acc_val += acc.item()\n",
    "\n",
    "        valid_loss.append(total_loss_val/ len(val_dataloader))\n",
    "        valid_acc.append(total_acc_val/ len(val_dataloader))\n",
    "#         torch.save(classifier.state_dict(), './model{}.pt'.format(epoch))\n",
    " \n",
    "        print(\n",
    "                f'Epochs: {epoch + 1} | Train Loss: {total_loss_train / len(train_dataloader): .3f} \\\n",
    "                | Train Accuracy: {total_acc_train / len(train_dataloader): .3f} \\\n",
    "                | Val Loss: {total_loss_val / len(val_dataloader): .3f} \\\n",
    "                | Val Accuracy: {total_acc_val / len(val_dataloader): .3f}')"
   ]
  },
  {
   "cell_type": "code",
   "execution_count": 27,
   "id": "4f9bef0f-d743-45e7-8976-64b6b1b7f771",
   "metadata": {},
   "outputs": [],
   "source": [
    "from matplotlib import pyplot as plt"
   ]
  },
  {
   "cell_type": "code",
   "execution_count": 28,
   "id": "711bfcee-97a7-412a-9928-1ac306412dac",
   "metadata": {},
   "outputs": [
    {
     "data": {
      "image/png": "[encoded data removed]",
      "text/plain": [
       "<Figure size 432x288 with 1 Axes>"
      ]
     },
     "metadata": {
      "needs_background": "light"
     },
     "output_type": "display_data"
    }
   ],
   "source": [
    "plt.plot(valid_loss,color='red',label = 'valid')\n",
    "plt.plot(train_loss,color='blue',label = 'train')\n",
    "plt.show()"
   ]
  },
  {
   "cell_type": "code",
   "execution_count": 29,
   "id": "76dcfafa-d7e0-4976-a6fc-92c60c1a10f8",
   "metadata": {},
   "outputs": [
    {
     "data": {
      "image/png": "[encoded data removed]",
      "text/plain": [
       "<Figure size 432x288 with 1 Axes>"
      ]
     },
     "metadata": {
      "needs_background": "light"
     },
     "output_type": "display_data"
    }
   ],
   "source": [
    "plt.plot(valid_acc,color='red',label = 'valid')\n",
    "plt.plot(train_acc,color='blue',label = 'train')\n",
    "plt.show()"
   ]
  },
  {
   "cell_type": "code",
   "execution_count": 31,
   "id": "b43af3ca-b9a7-46d3-875c-cc5025406290",
   "metadata": {},
   "outputs": [
    {
     "data": {
      "text/plain": [
       "0.6866319477558136"
      ]
     },
     "execution_count": 31,
     "metadata": {},
     "output_type": "execute_result"
    }
   ],
   "source": [
    "max(valid_acc)"
   ]
  },
  {
   "cell_type": "code",
   "execution_count": null,
   "id": "e627a2a5-e9cf-4ddd-b6bc-671616c9eb1c",
   "metadata": {},
   "outputs": [],
   "source": []
  }
 ],
 "metadata": {
  "kernelspec": {
   "display_name": "Python 3",
   "language": "python",
   "name": "python3"
  },
  "language_info": {
   "codemirror_mode": {
    "name": "ipython",
    "version": 3
   },
   "file_extension": ".py",
   "mimetype": "text/x-python",
   "name": "python",
   "nbconvert_exporter": "python",
   "pygments_lexer": "ipython3",
   "version": "3.8.8"
  }
 },
 "nbformat": 4,
 "nbformat_minor": 5
}
