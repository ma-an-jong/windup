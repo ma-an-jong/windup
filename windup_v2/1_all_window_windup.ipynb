{
 "cells": [
  {
   "cell_type": "code",
   "execution_count": 19,
   "id": "0e19e54a-c5e0-4347-b517-f38653c5528b",
   "metadata": {},
   "outputs": [],
   "source": [
    "import os\n",
    "import torch\n",
    "from torch import nn\n",
    "import pandas as pd\n",
    "from tqdm.auto import tqdm\n",
    "from sklearn.model_selection import train_test_split\n",
    "from torch.utils.data import Dataset, DataLoader,WeightedRandomSampler\n",
    "from torch.optim import AdamW,Adam\n",
    "import torch.nn.functional as F\n",
    "import re\n",
    "from sklearn.preprocessing import LabelEncoder\n",
    "from datetime import datetime,timedelta"
   ]
  },
  {
   "cell_type": "code",
   "execution_count": 2,
   "id": "1a846df8-dd84-4d0b-9d8a-ceec46f925fc",
   "metadata": {},
   "outputs": [],
   "source": [
    "from transformers import AutoModel,AutoTokenizer,BertModel\n",
    "from kobert_tokenizer import KoBERTTokenizer"
   ]
  },
  {
   "cell_type": "code",
   "execution_count": 3,
   "id": "fd9303b0-6582-481c-a91c-c66e19bf26b7",
   "metadata": {},
   "outputs": [],
   "source": [
    "model_path = 'skt/kobert-base-v1' #multilingual"
   ]
  },
  {
   "cell_type": "code",
   "execution_count": 4,
   "id": "f4d5c78b-6fdd-4c06-a1a8-7d0a5c435728",
   "metadata": {},
   "outputs": [],
   "source": [
    "class BertClassifier(nn.Module):\n",
    "\n",
    "    def __init__(self, dropout=0.5):\n",
    "\n",
    "        super(BertClassifier, self).__init__()\n",
    "\n",
    "        self.bert = AutoModel.from_pretrained(model_path)\n",
    "        self.dropout1 = nn.Dropout(dropout)\n",
    "        self.linear1 = nn.Linear(768, 1024)\n",
    "        self.dropout2 = nn.Dropout(dropout)\n",
    "        self.linear2 = nn.Linear(1024,1)\n",
    "        \n",
    "    def forward(self, input_id, mask):\n",
    "        last_hidden_state,_ = self.bert(input_ids= input_id, attention_mask=mask,return_dict=False)\n",
    "        dropout_output = self.dropout1(last_hidden_state)\n",
    "        linear_output = self.linear1(dropout_output)\n",
    "        dropout_output1 = self.dropout2(linear_output)\n",
    "        linear_output1 = self.linear2(dropout_output1)\n",
    "        sigmoid_output = torch.sigmoid(linear_output1)\n",
    "        return sigmoid_output[:,0,:]"
   ]
  },
  {
   "cell_type": "code",
   "execution_count": 5,
   "id": "5bf48687-4f1e-4fc1-9de1-8667f0be32ba",
   "metadata": {},
   "outputs": [
    {
     "data": {
      "text/plain": [
       "<All keys matched successfully>"
      ]
     },
     "execution_count": 5,
     "metadata": {},
     "output_type": "execute_result"
    }
   ],
   "source": [
    "tokenizer = KoBERTTokenizer.from_pretrained('skt/kobert-base-v1')\n",
    "classifier = BertClassifier()\n",
    "classifier.load_state_dict(torch.load('/home/se/paper/classifier/kobert_base_model/model.pt'))"
   ]
  },
  {
   "cell_type": "code",
   "execution_count": 6,
   "id": "2a30f331-caec-45cb-9bcc-fc4ff0520995",
   "metadata": {},
   "outputs": [],
   "source": [
    "def preprocess(context,null_char='',space_char=' '):\n",
    "    bracket_removed_context = re.sub(r'\\([^)]*\\)', null_char, context)\n",
    "    square_bracket_removed_context = re.sub(r'\\[[^]]*\\]', null_char, bracket_removed_context)\n",
    "    punc_removed_context = re.sub(r'[^\\w\\s]',space_char,square_bracket_removed_context)\n",
    "    repeated_space_removed_context = re.sub(r'[\\n]{2,}','\\n',punc_removed_context)\n",
    "    repeated_space_removed_context.upper()\n",
    "            \n",
    "    return repeated_space_removed_context"
   ]
  },
  {
   "cell_type": "code",
   "execution_count": 7,
   "id": "7c2ae5de-ae53-4af2-8e0e-90b6415db8e1",
   "metadata": {},
   "outputs": [],
   "source": [
    "def predict(contents):\n",
    "    model_input = tokenizer(preprocess(contents),padding='max_length', max_length = 512, truncation=True,return_tensors=\"pt\")\n",
    "    mask = model_input['attention_mask']\n",
    "    input_ids = model_input['input_ids']\n",
    "    label = classifier(input_ids,mask)\n",
    "    return round(label.item())"
   ]
  },
  {
   "cell_type": "code",
   "execution_count": 8,
   "id": "ec7e22f5-ef44-40fa-8107-c3b6a794f8ba",
   "metadata": {},
   "outputs": [],
   "source": [
    "data_path = '/home/se/paper/legacy/data'"
   ]
  },
  {
   "cell_type": "code",
   "execution_count": 21,
   "id": "5dba68a2-81ce-45ba-be9e-05fca071a49f",
   "metadata": {},
   "outputs": [],
   "source": [
    "class StatDataset(Dataset):\n",
    "    def __init__(self, match,stat,article,le):\n",
    "        \n",
    "        tmp = []\n",
    "        label = []\n",
    "        \n",
    "        for home_pitcher,home_team,away_pitcher,away_team,home_result,date in \\\n",
    "        list(zip(match['home_pitcher'].values,match['home'].values,match['away_pitcher'],match['away'],match['home_result'],match['date'])):\n",
    "            home_player_stat = stat.loc[(stat['name'] == home_pitcher) & (stat['team'] == home_team)]\n",
    "            away_player_stat = stat.loc[(stat['name'] == away_pitcher) & (stat['team'] == away_team)]\n",
    "\n",
    "            if (len(home_player_stat) != 0) and (len(away_player_stat) != 0):\n",
    "                vector = home_player_stat.values.tolist()[0][2:] + away_player_stat.values.tolist()[0][2:]\n",
    "                str_date = datetime.strptime(str(date),\"%Y%m%d\")\n",
    "                home_article = article.loc[(article['team'] == home_team) & (article['date'] < date)]\n",
    "                away_article = article.loc[(article['team'] == away_team) & (article['date'] < date)]\n",
    "                if (len(home_article) != 0) and (len(away_article) != 0):\n",
    "                    home_sum = 0\n",
    "                    for index,document in home_article.iterrows():\n",
    "                        home_sum += document.contents\n",
    "\n",
    "                    away_sum = 0\n",
    "                    for index,document in away_article.iterrows():\n",
    "                        away_sum += document.contents\n",
    "\n",
    "                    vector.append(home_sum / len(home_article))\n",
    "                    vector.append(away_sum / len(away_article))\n",
    "\n",
    "                    tmp.append(vector)\n",
    "                    label.append(home_result)\n",
    "        \n",
    "        transform = le.transform(label)\n",
    "        self.label = torch.tensor(list(transform),dtype=torch.long)\n",
    "        self.stat = torch.tensor(tmp)\n",
    "        \n",
    "        \n",
    "    def __len__(self):\n",
    "        return len(self.stat)\n",
    "\n",
    "    def __getitem__(self, index):\n",
    "        return {\n",
    "                \"stat\": self.stat[index],\n",
    "                \"label\": self.label[index]\n",
    "                }\n",
    "        \n",
    "    def get_num_batches(self, batch_size):\n",
    "        return len(self) // batch_size"
   ]
  },
  {
   "cell_type": "code",
   "execution_count": 22,
   "id": "e5a96e28-2f37-4c4d-8ef8-4c2636b215cd",
   "metadata": {},
   "outputs": [],
   "source": [
    "class WindupClassifier(nn.Module):\n",
    "    def __init__(self, dropout=0.5):\n",
    "        super(WindupClassifier, self).__init__()\n",
    "        self.linear1 = nn.Linear(38, 1024)\n",
    "        self.dropout2 = nn.Dropout(dropout)\n",
    "        self.linear2 = nn.Linear(1024,3)\n",
    "        \n",
    "    def forward(self, input_id):\n",
    "        linear_output = self.linear1(input_id)\n",
    "        dropout_output1 = self.dropout2(linear_output)\n",
    "        linear_output1 = self.linear2(dropout_output1)\n",
    "        return linear_output1"
   ]
  },
  {
   "cell_type": "code",
   "execution_count": 11,
   "id": "ba62c468-c630-4c1e-ac0f-8dcf900594a1",
   "metadata": {},
   "outputs": [],
   "source": [
    "stat = pd.read_csv(os.path.join(data_path,'average.csv'))\n",
    "match = pd.read_csv(os.path.join(data_path,'match_day.csv'))\n",
    "article = pd.read_csv(os.path.join(data_path,'article.csv'))\n",
    "article['contents'] = article['contents'].apply(predict)"
   ]
  },
  {
   "cell_type": "code",
   "execution_count": 23,
   "id": "72b008c8-d1dc-4322-85bd-542f43b66ed0",
   "metadata": {},
   "outputs": [],
   "source": [
    "le = LabelEncoder()\n",
    "_=le.fit(['승','패','무승부'])"
   ]
  },
  {
   "cell_type": "code",
   "execution_count": 24,
   "id": "eb62a444-e32e-4dde-8195-0cd908effdbb",
   "metadata": {},
   "outputs": [],
   "source": [
    "train_match,valid_match = train_test_split(match,shuffle=True,random_state=56)"
   ]
  },
  {
   "cell_type": "code",
   "execution_count": 25,
   "id": "2ccd2fbd-fd16-45f3-8460-52938a39e415",
   "metadata": {},
   "outputs": [],
   "source": [
    "train_dataset = StatDataset(train_match,stat,article,le)"
   ]
  },
  {
   "cell_type": "code",
   "execution_count": 26,
   "id": "6d5e67b8-607e-4e2d-b7cf-e85aa48797a5",
   "metadata": {},
   "outputs": [],
   "source": [
    "valid_dataset = StatDataset(valid_match,stat,article,le)"
   ]
  },
  {
   "cell_type": "code",
   "execution_count": 27,
   "id": "71ea6ae2-edac-412a-aab4-8ea1b21d10ac",
   "metadata": {},
   "outputs": [
    {
     "name": "stdout",
     "output_type": "stream",
     "text": [
      "465 151\n"
     ]
    }
   ],
   "source": [
    "print(len(train_dataset),len(valid_dataset))"
   ]
  },
  {
   "cell_type": "code",
   "execution_count": 28,
   "id": "d8e77be6-02c9-4cc0-ba92-eb69d461ff1c",
   "metadata": {},
   "outputs": [],
   "source": [
    "batch_size = 16\n",
    "epochs = 100\n",
    "device='cuda'"
   ]
  },
  {
   "cell_type": "code",
   "execution_count": 29,
   "id": "f773d4d7-1fbe-46e2-b261-ca7c2fb657b0",
   "metadata": {},
   "outputs": [
    {
     "data": {
      "text/plain": [
       "array(['무승부', '승', '패'], dtype='<U3')"
      ]
     },
     "execution_count": 29,
     "metadata": {},
     "output_type": "execute_result"
    }
   ],
   "source": [
    "le.classes_"
   ]
  },
  {
   "cell_type": "code",
   "execution_count": 30,
   "id": "416dbb24-efd3-41c8-acc0-35e65687d6ba",
   "metadata": {},
   "outputs": [],
   "source": [
    "train_class = pd.DataFrame(train_dataset.label)\n",
    "train_class_counts = [len(train_class.loc[train_class[0] == 0]) , len(train_class.loc[train_class[0] == 1])  , len(train_class.loc[train_class[0] == 2])]\n",
    "train_num_samples = sum(train_class_counts)\n",
    "train_labels = list(train_class.values.reshape(-1))\n",
    "\n",
    "train_class_weights = [train_num_samples / train_class_counts[i] for i in range(len(train_class_counts))] \n",
    "\n",
    "# 해당 데이터의 label에 해당되는 가중치\n",
    "train_weights = [train_class_weights[train_labels[i]] for i in range(int(train_num_samples))] #해당 레이블마다의 가중치 비율\n",
    "train_sampler = WeightedRandomSampler(torch.DoubleTensor(train_weights), int(train_num_samples))"
   ]
  },
  {
   "cell_type": "code",
   "execution_count": 31,
   "id": "93ebcb5d-af9d-4402-9d43-ce1ddfaca377",
   "metadata": {},
   "outputs": [],
   "source": [
    "valid_class = pd.DataFrame(valid_dataset.label)\n",
    "valid_class_counts = [len(valid_class.loc[train_class[0] == 0]) , len(valid_class.loc[train_class[0] == 1])  , len(valid_class.loc[train_class[0] == 2])]\n",
    "valid_num_samples = sum(valid_class_counts)\n",
    "valid_labels = list(valid_class.values.reshape(-1))\n",
    "\n",
    "valid_class_weights = [valid_num_samples / valid_class_counts[i] for i in range(len(valid_class_counts))] \n",
    "\n",
    "# 해당 데이터의 label에 해당되는 가중치\n",
    "valid_weights = [valid_class_weights[valid_labels[i]] for i in range(int(valid_num_samples))] #해당 레이블마다의 가중치 비율\n",
    "valid_sampler = WeightedRandomSampler(torch.DoubleTensor(valid_weights), int(valid_num_samples))"
   ]
  },
  {
   "cell_type": "code",
   "execution_count": 32,
   "id": "e464700c-c9f3-4a1a-a26c-f0b411862ab9",
   "metadata": {},
   "outputs": [],
   "source": [
    "classifier = WindupClassifier()\n",
    "classifier.cuda()\n",
    "optimizer = torch.optim.AdamW(classifier.parameters(), lr=1e-3)"
   ]
  },
  {
   "cell_type": "code",
   "execution_count": 33,
   "id": "927636b1-85f4-41b7-b8e2-f9175b1c0c3e",
   "metadata": {},
   "outputs": [],
   "source": [
    "criterion = nn.CrossEntropyLoss()\n",
    "_=criterion.cuda()"
   ]
  },
  {
   "cell_type": "code",
   "execution_count": 34,
   "id": "dd9fe9a8-b829-41bf-8a0f-b0c3d16249ae",
   "metadata": {},
   "outputs": [],
   "source": [
    "train_dataloader = DataLoader(train_dataset, batch_size=batch_size, shuffle=False,sampler = train_sampler)\n",
    "val_dataloader = DataLoader(valid_dataset, batch_size=batch_size,shuffle=False,sampler = valid_sampler)"
   ]
  },
  {
   "cell_type": "code",
   "execution_count": 35,
   "id": "de39a303-bd2c-453a-a57e-358bfdd13b45",
   "metadata": {},
   "outputs": [],
   "source": [
    "train_loss = []\n",
    "train_acc = []\n",
    "\n",
    "valid_loss = []\n",
    "valid_acc = []"
   ]
  },
  {
   "cell_type": "code",
   "execution_count": 36,
   "id": "045548c7-cc63-43ba-8020-8b4d97c7de1c",
   "metadata": {},
   "outputs": [
    {
     "data": {
      "application/vnd.jupyter.widget-view+json": {
       "model_id": "9d9ff8b7efa24693b39b532f1cc059bb",
       "version_major": 2,
       "version_minor": 0
      },
      "text/plain": [
       "  0%|          | 0/100 [00:00<?, ?it/s]"
      ]
     },
     "metadata": {},
     "output_type": "display_data"
    },
    {
     "name": "stdout",
     "output_type": "stream",
     "text": [
      "Epochs: 1 | Train Loss:  1.338                 | Train Accuracy:  0.350                 | Val Loss:  0.967                 | Val Accuracy:  0.599\n",
      "Epochs: 2 | Train Loss:  1.235                 | Train Accuracy:  0.425                 | Val Loss:  1.094                 | Val Accuracy:  0.383\n",
      "Epochs: 3 | Train Loss:  1.394                 | Train Accuracy:  0.371                 | Val Loss:  0.855                 | Val Accuracy:  0.626\n",
      "Epochs: 4 | Train Loss:  1.104                 | Train Accuracy:  0.481                 | Val Loss:  1.017                 | Val Accuracy:  0.570\n",
      "Epochs: 5 | Train Loss:  1.184                 | Train Accuracy:  0.446                 | Val Loss:  1.027                 | Val Accuracy:  0.510\n",
      "Epochs: 6 | Train Loss:  1.030                 | Train Accuracy:  0.508                 | Val Loss:  0.924                 | Val Accuracy:  0.551\n",
      "Epochs: 7 | Train Loss:  1.095                 | Train Accuracy:  0.515                 | Val Loss:  1.358                 | Val Accuracy:  0.341\n",
      "Epochs: 8 | Train Loss:  1.126                 | Train Accuracy:  0.471                 | Val Loss:  0.908                 | Val Accuracy:  0.567\n",
      "Epochs: 9 | Train Loss:  1.165                 | Train Accuracy:  0.519                 | Val Loss:  1.782                 | Val Accuracy:  0.272\n",
      "Epochs: 10 | Train Loss:  1.088                 | Train Accuracy:  0.525                 | Val Loss:  1.192                 | Val Accuracy:  0.416\n",
      "Epochs: 11 | Train Loss:  1.094                 | Train Accuracy:  0.519                 | Val Loss:  1.176                 | Val Accuracy:  0.462\n",
      "Epochs: 12 | Train Loss:  1.154                 | Train Accuracy:  0.479                 | Val Loss:  1.097                 | Val Accuracy:  0.413\n",
      "Epochs: 13 | Train Loss:  1.377                 | Train Accuracy:  0.477                 | Val Loss:  0.961                 | Val Accuracy:  0.488\n",
      "Epochs: 14 | Train Loss:  1.495                 | Train Accuracy:  0.479                 | Val Loss:  1.552                 | Val Accuracy:  0.418\n",
      "Epochs: 15 | Train Loss:  1.117                 | Train Accuracy:  0.508                 | Val Loss:  1.204                 | Val Accuracy:  0.369\n",
      "Epochs: 16 | Train Loss:  1.295                 | Train Accuracy:  0.475                 | Val Loss:  0.937                 | Val Accuracy:  0.484\n",
      "Epochs: 17 | Train Loss:  1.151                 | Train Accuracy:  0.510                 | Val Loss:  0.852                 | Val Accuracy:  0.612\n",
      "Epochs: 18 | Train Loss:  1.122                 | Train Accuracy:  0.519                 | Val Loss:  0.901                 | Val Accuracy:  0.501\n",
      "Epochs: 19 | Train Loss:  0.962                 | Train Accuracy:  0.573                 | Val Loss:  0.924                 | Val Accuracy:  0.543\n",
      "Epochs: 20 | Train Loss:  0.966                 | Train Accuracy:  0.556                 | Val Loss:  1.274                 | Val Accuracy:  0.441\n",
      "Epochs: 21 | Train Loss:  1.016                 | Train Accuracy:  0.525                 | Val Loss:  0.924                 | Val Accuracy:  0.474\n",
      "Epochs: 22 | Train Loss:  0.948                 | Train Accuracy:  0.533                 | Val Loss:  0.835                 | Val Accuracy:  0.582\n",
      "Epochs: 23 | Train Loss:  0.898                 | Train Accuracy:  0.569                 | Val Loss:  0.822                 | Val Accuracy:  0.609\n",
      "Epochs: 24 | Train Loss:  0.978                 | Train Accuracy:  0.490                 | Val Loss:  0.896                 | Val Accuracy:  0.563\n",
      "Epochs: 25 | Train Loss:  1.078                 | Train Accuracy:  0.481                 | Val Loss:  0.982                 | Val Accuracy:  0.522\n",
      "Epochs: 26 | Train Loss:  0.889                 | Train Accuracy:  0.590                 | Val Loss:  1.271                 | Val Accuracy:  0.404\n",
      "Epochs: 27 | Train Loss:  0.940                 | Train Accuracy:  0.577                 | Val Loss:  1.058                 | Val Accuracy:  0.484\n",
      "Epochs: 28 | Train Loss:  0.932                 | Train Accuracy:  0.592                 | Val Loss:  1.105                 | Val Accuracy:  0.449\n",
      "Epochs: 29 | Train Loss:  0.907                 | Train Accuracy:  0.592                 | Val Loss:  0.973                 | Val Accuracy:  0.488\n",
      "Epochs: 30 | Train Loss:  0.892                 | Train Accuracy:  0.596                 | Val Loss:  1.045                 | Val Accuracy:  0.360\n",
      "Epochs: 31 | Train Loss:  0.946                 | Train Accuracy:  0.533                 | Val Loss:  0.923                 | Val Accuracy:  0.453\n",
      "Epochs: 32 | Train Loss:  0.929                 | Train Accuracy:  0.590                 | Val Loss:  0.791                 | Val Accuracy:  0.626\n",
      "Epochs: 33 | Train Loss:  0.959                 | Train Accuracy:  0.565                 | Val Loss:  0.932                 | Val Accuracy:  0.457\n",
      "Epochs: 34 | Train Loss:  0.988                 | Train Accuracy:  0.548                 | Val Loss:  1.026                 | Val Accuracy:  0.404\n",
      "Epochs: 35 | Train Loss:  0.886                 | Train Accuracy:  0.554                 | Val Loss:  0.854                 | Val Accuracy:  0.545\n",
      "Epochs: 36 | Train Loss:  0.976                 | Train Accuracy:  0.594                 | Val Loss:  0.902                 | Val Accuracy:  0.520\n",
      "Epochs: 37 | Train Loss:  0.904                 | Train Accuracy:  0.569                 | Val Loss:  1.018                 | Val Accuracy:  0.520\n",
      "Epochs: 38 | Train Loss:  0.877                 | Train Accuracy:  0.583                 | Val Loss:  0.821                 | Val Accuracy:  0.600\n",
      "Epochs: 39 | Train Loss:  0.837                 | Train Accuracy:  0.621                 | Val Loss:  0.993                 | Val Accuracy:  0.532\n",
      "Epochs: 40 | Train Loss:  0.843                 | Train Accuracy:  0.594                 | Val Loss:  0.832                 | Val Accuracy:  0.621\n",
      "Epochs: 41 | Train Loss:  0.919                 | Train Accuracy:  0.579                 | Val Loss:  1.133                 | Val Accuracy:  0.466\n",
      "Epochs: 42 | Train Loss:  0.935                 | Train Accuracy:  0.531                 | Val Loss:  0.894                 | Val Accuracy:  0.595\n",
      "Epochs: 43 | Train Loss:  0.881                 | Train Accuracy:  0.571                 | Val Loss:  1.184                 | Val Accuracy:  0.347\n",
      "Epochs: 44 | Train Loss:  0.872                 | Train Accuracy:  0.617                 | Val Loss:  1.190                 | Val Accuracy:  0.476\n",
      "Epochs: 45 | Train Loss:  0.984                 | Train Accuracy:  0.594                 | Val Loss:  0.854                 | Val Accuracy:  0.626\n",
      "Epochs: 46 | Train Loss:  0.873                 | Train Accuracy:  0.619                 | Val Loss:  0.830                 | Val Accuracy:  0.594\n",
      "Epochs: 47 | Train Loss:  0.990                 | Train Accuracy:  0.585                 | Val Loss:  1.104                 | Val Accuracy:  0.529\n",
      "Epochs: 48 | Train Loss:  1.039                 | Train Accuracy:  0.533                 | Val Loss:  0.869                 | Val Accuracy:  0.593\n",
      "Epochs: 49 | Train Loss:  0.893                 | Train Accuracy:  0.558                 | Val Loss:  0.821                 | Val Accuracy:  0.582\n",
      "Epochs: 50 | Train Loss:  0.865                 | Train Accuracy:  0.581                 | Val Loss:  1.095                 | Val Accuracy:  0.571\n",
      "Epochs: 51 | Train Loss:  0.930                 | Train Accuracy:  0.569                 | Val Loss:  1.062                 | Val Accuracy:  0.532\n",
      "Epochs: 52 | Train Loss:  0.863                 | Train Accuracy:  0.581                 | Val Loss:  0.993                 | Val Accuracy:  0.485\n",
      "Epochs: 53 | Train Loss:  0.811                 | Train Accuracy:  0.623                 | Val Loss:  1.183                 | Val Accuracy:  0.412\n",
      "Epochs: 54 | Train Loss:  0.814                 | Train Accuracy:  0.590                 | Val Loss:  0.945                 | Val Accuracy:  0.563\n",
      "Epochs: 55 | Train Loss:  0.795                 | Train Accuracy:  0.619                 | Val Loss:  0.982                 | Val Accuracy:  0.507\n",
      "Epochs: 56 | Train Loss:  0.798                 | Train Accuracy:  0.606                 | Val Loss:  1.039                 | Val Accuracy:  0.488\n",
      "Epochs: 57 | Train Loss:  0.846                 | Train Accuracy:  0.585                 | Val Loss:  0.964                 | Val Accuracy:  0.475\n",
      "Epochs: 58 | Train Loss:  0.874                 | Train Accuracy:  0.615                 | Val Loss:  0.961                 | Val Accuracy:  0.479\n",
      "Epochs: 59 | Train Loss:  0.752                 | Train Accuracy:  0.642                 | Val Loss:  1.019                 | Val Accuracy:  0.540\n",
      "Epochs: 60 | Train Loss:  0.797                 | Train Accuracy:  0.631                 | Val Loss:  1.029                 | Val Accuracy:  0.366\n",
      "Epochs: 61 | Train Loss:  0.871                 | Train Accuracy:  0.608                 | Val Loss:  0.958                 | Val Accuracy:  0.532\n",
      "Epochs: 62 | Train Loss:  0.954                 | Train Accuracy:  0.542                 | Val Loss:  0.921                 | Val Accuracy:  0.441\n",
      "Epochs: 63 | Train Loss:  0.804                 | Train Accuracy:  0.617                 | Val Loss:  0.952                 | Val Accuracy:  0.446\n",
      "Epochs: 64 | Train Loss:  0.830                 | Train Accuracy:  0.623                 | Val Loss:  1.310                 | Val Accuracy:  0.330\n",
      "Epochs: 65 | Train Loss:  0.830                 | Train Accuracy:  0.606                 | Val Loss:  1.039                 | Val Accuracy:  0.465\n",
      "Epochs: 66 | Train Loss:  0.774                 | Train Accuracy:  0.644                 | Val Loss:  0.850                 | Val Accuracy:  0.562\n",
      "Epochs: 67 | Train Loss:  0.814                 | Train Accuracy:  0.583                 | Val Loss:  0.938                 | Val Accuracy:  0.532\n",
      "Epochs: 68 | Train Loss:  0.794                 | Train Accuracy:  0.637                 | Val Loss:  0.816                 | Val Accuracy:  0.529\n",
      "Epochs: 69 | Train Loss:  0.776                 | Train Accuracy:  0.621                 | Val Loss:  0.975                 | Val Accuracy:  0.538\n",
      "Epochs: 70 | Train Loss:  0.741                 | Train Accuracy:  0.633                 | Val Loss:  0.851                 | Val Accuracy:  0.520\n",
      "Epochs: 71 | Train Loss:  0.847                 | Train Accuracy:  0.613                 | Val Loss:  0.957                 | Val Accuracy:  0.498\n",
      "Epochs: 72 | Train Loss:  0.806                 | Train Accuracy:  0.583                 | Val Loss:  1.077                 | Val Accuracy:  0.407\n",
      "Epochs: 73 | Train Loss:  0.844                 | Train Accuracy:  0.594                 | Val Loss:  0.944                 | Val Accuracy:  0.462\n",
      "Epochs: 74 | Train Loss:  0.848                 | Train Accuracy:  0.592                 | Val Loss:  0.997                 | Val Accuracy:  0.438\n",
      "Epochs: 75 | Train Loss:  1.090                 | Train Accuracy:  0.550                 | Val Loss:  1.070                 | Val Accuracy:  0.427\n",
      "Epochs: 76 | Train Loss:  0.892                 | Train Accuracy:  0.615                 | Val Loss:  0.907                 | Val Accuracy:  0.476\n",
      "Epochs: 77 | Train Loss:  0.817                 | Train Accuracy:  0.615                 | Val Loss:  0.913                 | Val Accuracy:  0.532\n",
      "Epochs: 78 | Train Loss:  0.800                 | Train Accuracy:  0.627                 | Val Loss:  1.173                 | Val Accuracy:  0.484\n",
      "Epochs: 79 | Train Loss:  0.813                 | Train Accuracy:  0.594                 | Val Loss:  1.165                 | Val Accuracy:  0.438\n",
      "Epochs: 80 | Train Loss:  0.832                 | Train Accuracy:  0.662                 | Val Loss:  1.075                 | Val Accuracy:  0.516\n",
      "Epochs: 81 | Train Loss:  0.756                 | Train Accuracy:  0.679                 | Val Loss:  1.191                 | Val Accuracy:  0.407\n",
      "Epochs: 82 | Train Loss:  0.824                 | Train Accuracy:  0.617                 | Val Loss:  1.005                 | Val Accuracy:  0.421\n",
      "Epochs: 83 | Train Loss:  0.919                 | Train Accuracy:  0.562                 | Val Loss:  0.952                 | Val Accuracy:  0.387\n",
      "Epochs: 84 | Train Loss:  0.894                 | Train Accuracy:  0.577                 | Val Loss:  0.999                 | Val Accuracy:  0.463\n",
      "Epochs: 85 | Train Loss:  0.930                 | Train Accuracy:  0.619                 | Val Loss:  0.986                 | Val Accuracy:  0.493\n",
      "Epochs: 86 | Train Loss:  1.178                 | Train Accuracy:  0.573                 | Val Loss:  1.500                 | Val Accuracy:  0.351\n",
      "Epochs: 87 | Train Loss:  1.142                 | Train Accuracy:  0.621                 | Val Loss:  1.017                 | Val Accuracy:  0.574\n",
      "Epochs: 88 | Train Loss:  0.981                 | Train Accuracy:  0.610                 | Val Loss:  0.891                 | Val Accuracy:  0.532\n",
      "Epochs: 89 | Train Loss:  0.862                 | Train Accuracy:  0.635                 | Val Loss:  0.954                 | Val Accuracy:  0.482\n",
      "Epochs: 90 | Train Loss:  0.956                 | Train Accuracy:  0.571                 | Val Loss:  1.103                 | Val Accuracy:  0.418\n",
      "Epochs: 91 | Train Loss:  0.856                 | Train Accuracy:  0.571                 | Val Loss:  0.950                 | Val Accuracy:  0.599\n",
      "Epochs: 92 | Train Loss:  0.797                 | Train Accuracy:  0.631                 | Val Loss:  0.972                 | Val Accuracy:  0.440\n",
      "Epochs: 93 | Train Loss:  0.777                 | Train Accuracy:  0.665                 | Val Loss:  0.819                 | Val Accuracy:  0.595\n",
      "Epochs: 94 | Train Loss:  0.784                 | Train Accuracy:  0.615                 | Val Loss:  0.834                 | Val Accuracy:  0.528\n",
      "Epochs: 95 | Train Loss:  0.843                 | Train Accuracy:  0.623                 | Val Loss:  0.933                 | Val Accuracy:  0.582\n",
      "Epochs: 96 | Train Loss:  0.757                 | Train Accuracy:  0.600                 | Val Loss:  0.981                 | Val Accuracy:  0.521\n",
      "Epochs: 97 | Train Loss:  0.824                 | Train Accuracy:  0.652                 | Val Loss:  0.872                 | Val Accuracy:  0.454\n",
      "Epochs: 98 | Train Loss:  0.735                 | Train Accuracy:  0.640                 | Val Loss:  1.001                 | Val Accuracy:  0.476\n",
      "Epochs: 99 | Train Loss:  0.771                 | Train Accuracy:  0.700                 | Val Loss:  0.765                 | Val Accuracy:  0.546\n",
      "Epochs: 100 | Train Loss:  0.779                 | Train Accuracy:  0.608                 | Val Loss:  0.947                 | Val Accuracy:  0.472\n"
     ]
    }
   ],
   "source": [
    "classifier.zero_grad()\n",
    "for epoch in tqdm(range(epochs),total=epochs):\n",
    "\n",
    "    total_acc_train = 0\n",
    "    total_loss_train = 0\n",
    "    classifier.train()\n",
    "    for i,batch in enumerate(train_dataloader):\n",
    "\n",
    "        train_label = batch['label'].to(device)\n",
    "        train_stat = batch['stat'].to(device)\n",
    "        \n",
    "        output = classifier(train_stat)\n",
    "        output = output.squeeze(1)\n",
    "        batch_loss = criterion(output.float(), train_label)\n",
    "        \n",
    "        optimizer.zero_grad()\n",
    "        batch_loss.backward()\n",
    "        optimizer.step()\n",
    "        \n",
    "        total_loss_train += batch_loss.item()\n",
    "        \n",
    "        correct_prediction = torch.argmax(F.softmax(output, dim=1), 1) == train_label\n",
    "        acc = correct_prediction.float().mean()\n",
    "#         acc = (output.round() == train_label).sum().item()\n",
    "        total_acc_train += acc.item()\n",
    "        \n",
    "    train_loss.append(total_loss_train/len(train_dataloader))\n",
    "    train_acc.append(total_acc_train/len(train_dataloader))\n",
    "            \n",
    "    total_acc_val = 0\n",
    "    total_loss_val = 0\n",
    "    \n",
    "    with  torch.no_grad():\n",
    "        classifier.eval()\n",
    "        for i,batch in enumerate(val_dataloader):\n",
    "            \n",
    "            val_label = batch['label'].to(device)\n",
    "            val_stat = batch['stat'].to(device)\n",
    "\n",
    "            output = classifier(val_stat)\n",
    "            output = output.squeeze(1)\n",
    "            batch_loss = criterion(output.float(), val_label)\n",
    "            \n",
    "            total_loss_val += batch_loss.item()\n",
    "            correct_prediction = torch.argmax(F.softmax(output, dim=1), 1) == val_label\n",
    "            acc = correct_prediction.float().mean()\n",
    "#             acc = (output.round() == val_label).sum().item()\n",
    "            \n",
    "            total_acc_val += acc.item()\n",
    "\n",
    "        valid_loss.append(total_loss_val/ len(val_dataloader))\n",
    "        valid_acc.append(total_acc_val/ len(val_dataloader))\n",
    "#         torch.save(classifier.state_dict(), './model{}.pt'.format(epoch))\n",
    " \n",
    "        print(\n",
    "                f'Epochs: {epoch + 1} | Train Loss: {total_loss_train / len(train_dataloader): .3f} \\\n",
    "                | Train Accuracy: {total_acc_train / len(train_dataloader): .3f} \\\n",
    "                | Val Loss: {total_loss_val / len(val_dataloader): .3f} \\\n",
    "                | Val Accuracy: {total_acc_val / len(val_dataloader): .3f}')"
   ]
  },
  {
   "cell_type": "code",
   "execution_count": 37,
   "id": "4f9bef0f-d743-45e7-8976-64b6b1b7f771",
   "metadata": {},
   "outputs": [],
   "source": [
    "from matplotlib import pyplot as plt"
   ]
  },
  {
   "cell_type": "code",
   "execution_count": 38,
   "id": "711bfcee-97a7-412a-9928-1ac306412dac",
   "metadata": {},
   "outputs": [
    {
     "data": {
      "image/png": "[encoded data removed]",
      "text/plain": [
       "<Figure size 432x288 with 1 Axes>"
      ]
     },
     "metadata": {
      "needs_background": "light"
     },
     "output_type": "display_data"
    }
   ],
   "source": [
    "plt.plot(valid_loss,color='red',label = 'valid')\n",
    "plt.plot(train_loss,color='blue',label = 'train')\n",
    "plt.show()"
   ]
  },
  {
   "cell_type": "code",
   "execution_count": 39,
   "id": "76dcfafa-d7e0-4976-a6fc-92c60c1a10f8",
   "metadata": {},
   "outputs": [
    {
     "data": {
      "image/png": "[encoded data removed]",
      "text/plain": [
       "<Figure size 432x288 with 1 Axes>"
      ]
     },
     "metadata": {
      "needs_background": "light"
     },
     "output_type": "display_data"
    }
   ],
   "source": [
    "plt.plot(valid_acc,color='red',label = 'valid')\n",
    "plt.plot(train_acc,color='blue',label = 'train')\n",
    "plt.show()"
   ]
  },
  {
   "cell_type": "code",
   "execution_count": 40,
   "id": "b43af3ca-b9a7-46d3-875c-cc5025406290",
   "metadata": {},
   "outputs": [
    {
     "data": {
      "text/plain": [
       "0.6258928596973419"
      ]
     },
     "execution_count": 40,
     "metadata": {},
     "output_type": "execute_result"
    }
   ],
   "source": [
    "max(valid_acc)"
   ]
  },
  {
   "cell_type": "code",
   "execution_count": null,
   "id": "335fd409-9fd1-4f4e-ad03-4654810d56c3",
   "metadata": {},
   "outputs": [],
   "source": []
  }
 ],
 "metadata": {
  "kernelspec": {
   "display_name": "Python 3",
   "language": "python",
   "name": "python3"
  },
  "language_info": {
   "codemirror_mode": {
    "name": "ipython",
    "version": 3
   },
   "file_extension": ".py",
   "mimetype": "text/x-python",
   "name": "python",
   "nbconvert_exporter": "python",
   "pygments_lexer": "ipython3",
   "version": "3.8.8"
  }
 },
 "nbformat": 4,
 "nbformat_minor": 5
}
