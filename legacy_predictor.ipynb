{
 "cells": [
  {
   "cell_type": "code",
   "execution_count": 1,
   "id": "0e19e54a-c5e0-4347-b517-f38653c5528b",
   "metadata": {},
   "outputs": [],
   "source": [
    "import os\n",
    "import torch\n",
    "from torch import nn\n",
    "import pandas as pd\n",
    "from tqdm.auto import tqdm\n",
    "from sklearn.model_selection import train_test_split\n",
    "from torch.utils.data import Dataset, DataLoader,WeightedRandomSampler\n",
    "from torch.optim import AdamW,Adam\n",
    "import torch.nn.functional as F\n",
    "from matplotlib import pyplot as plt"
   ]
  },
  {
   "cell_type": "code",
   "execution_count": 2,
   "id": "ec7e22f5-ef44-40fa-8107-c3b6a794f8ba",
   "metadata": {},
   "outputs": [],
   "source": [
    "data_path = '/home/se/paper/legacy/data'"
   ]
  },
  {
   "cell_type": "code",
   "execution_count": 3,
   "id": "5dba68a2-81ce-45ba-be9e-05fca071a49f",
   "metadata": {},
   "outputs": [],
   "source": [
    "from sklearn.preprocessing import LabelEncoder\n",
    "class StatDataset(Dataset):\n",
    "    def __init__(self, match,stat,le):\n",
    "        \n",
    "        tmp = []\n",
    "        label = []\n",
    "        \n",
    "        for home_pitcher,home_team,away_pitcher,away_team,home_result in list(zip(match['home_pitcher'].values,match['home'].values,match['away_pitcher'],match['away'],match['home_result'])):\n",
    "            home_player_stat = stat.loc[(stat['name'] == home_pitcher) & (stat['team'] == home_team)]\n",
    "            away_player_stat = stat.loc[(stat['name'] == away_pitcher) & (stat['team'] == away_team)]\n",
    "\n",
    "            if (len(home_player_stat) != 0) and (len(away_player_stat) != 0):\n",
    "                vector = home_player_stat.values.tolist()[0][2:] + away_player_stat.values.tolist()[0][2:]\n",
    "                tmp.append(vector)\n",
    "                label.append(home_result)\n",
    "        \n",
    "        transform = le.transform(label)\n",
    "        self.label = torch.tensor(list(transform),dtype=torch.long)\n",
    "        self.stat = torch.tensor(tmp)\n",
    "            \n",
    "    def __len__(self):\n",
    "        return len(self.stat)\n",
    "\n",
    "    def __getitem__(self, index):\n",
    "        return {\n",
    "                \"stat\": self.stat[index],\n",
    "                \"label\": self.label[index]\n",
    "                }\n",
    "        \n",
    "    def get_num_batches(self, batch_size):\n",
    "        return len(self) // batch_size"
   ]
  },
  {
   "cell_type": "code",
   "execution_count": 4,
   "id": "72f5c6bc-917b-425f-aec4-31e228e267e2",
   "metadata": {
    "tags": []
   },
   "outputs": [],
   "source": [
    "class legacyClassifier(nn.Module):\n",
    "    def __init__(self, dropout=0.5):\n",
    "        super(legacyClassifier, self).__init__()\n",
    "        self.linear1 = nn.Linear(36, 1024)\n",
    "        self.dropout2 = nn.Dropout(dropout)\n",
    "        self.linear2 = nn.Linear(1024,3)\n",
    "        \n",
    "    def forward(self, input_id):\n",
    "        linear_output = self.linear1(input_id)\n",
    "        dropout_output1 = self.dropout2(linear_output)\n",
    "        linear_output1 = self.linear2(dropout_output1)\n",
    "        return linear_output1"
   ]
  },
  {
   "cell_type": "code",
   "execution_count": 5,
   "id": "ba62c468-c630-4c1e-ac0f-8dcf900594a1",
   "metadata": {},
   "outputs": [],
   "source": [
    "stat = pd.read_csv(os.path.join(data_path,'average.csv'))\n",
    "match = pd.read_csv(os.path.join(data_path,'match_day.csv'))\n",
    "le = LabelEncoder()\n",
    "_=le.fit(['승','패','무승부'])"
   ]
  },
  {
   "cell_type": "code",
   "execution_count": 6,
   "id": "eb62a444-e32e-4dde-8195-0cd908effdbb",
   "metadata": {},
   "outputs": [],
   "source": [
    "train_match,valid_match = train_test_split(match,shuffle=True,random_state=56)"
   ]
  },
  {
   "cell_type": "code",
   "execution_count": 7,
   "id": "e552d278-37bf-4a7e-9954-7c74bb28dffa",
   "metadata": {},
   "outputs": [
    {
     "name": "stdout",
     "output_type": "stream",
     "text": [
      "576 189\n"
     ]
    }
   ],
   "source": [
    "train_dataset = StatDataset(train_match,stat,le)\n",
    "valid_dataset = StatDataset(valid_match,stat,le)\n",
    "print(len(train_dataset),len(valid_dataset))"
   ]
  },
  {
   "cell_type": "code",
   "execution_count": 8,
   "id": "38f66e82-647b-403d-b781-beab2bf7ec7b",
   "metadata": {},
   "outputs": [],
   "source": [
    "batch_size = 16\n",
    "epochs = 100\n",
    "device='cuda'"
   ]
  },
  {
   "cell_type": "code",
   "execution_count": 9,
   "id": "9654751a-30f1-43a9-817a-f930b2204e77",
   "metadata": {},
   "outputs": [
    {
     "data": {
      "text/plain": [
       "array(['무승부', '승', '패'], dtype='<U3')"
      ]
     },
     "execution_count": 9,
     "metadata": {},
     "output_type": "execute_result"
    }
   ],
   "source": [
    "le.classes_"
   ]
  },
  {
   "cell_type": "code",
   "execution_count": 10,
   "id": "d6881ca2-0666-4a38-9389-f00cf87f33f2",
   "metadata": {},
   "outputs": [],
   "source": [
    "train_class = pd.DataFrame(train_dataset.label)\n",
    "train_class_counts = [len(train_class.loc[train_class[0] == 0]) , len(train_class.loc[train_class[0] == 1])  , len(train_class.loc[train_class[0] == 2])]\n",
    "train_num_samples = sum(train_class_counts)\n",
    "train_labels = list(train_class.values.reshape(-1))\n",
    "\n",
    "train_class_weights = [train_num_samples / train_class_counts[i] for i in range(len(train_class_counts))] \n",
    "\n",
    "# 해당 데이터의 label에 해당되는 가중치\n",
    "train_weights = [train_class_weights[train_labels[i]] for i in range(int(train_num_samples))] #해당 레이블마다의 가중치 비율\n",
    "train_sampler = WeightedRandomSampler(torch.DoubleTensor(train_weights), int(train_num_samples))"
   ]
  },
  {
   "cell_type": "code",
   "execution_count": 11,
   "id": "58cd0b74-d2b5-48d1-83b6-568a1eea59a8",
   "metadata": {},
   "outputs": [],
   "source": [
    "valid_class = pd.DataFrame(valid_dataset.label)\n",
    "valid_class_counts = [len(valid_class.loc[train_class[0] == 0]) , len(valid_class.loc[train_class[0] == 1])  , len(valid_class.loc[train_class[0] == 2])]\n",
    "valid_num_samples = sum(valid_class_counts)\n",
    "valid_labels = list(valid_class.values.reshape(-1))\n",
    "\n",
    "valid_class_weights = [valid_num_samples / valid_class_counts[i] for i in range(len(valid_class_counts))] \n",
    "\n",
    "# 해당 데이터의 label에 해당되는 가중치\n",
    "valid_weights = [valid_class_weights[valid_labels[i]] for i in range(int(valid_num_samples))] #해당 레이블마다의 가중치 비율\n",
    "valid_sampler = WeightedRandomSampler(torch.DoubleTensor(valid_weights), int(valid_num_samples))"
   ]
  },
  {
   "cell_type": "code",
   "execution_count": 12,
   "id": "e951046a-7a6f-4cc2-bfe4-635e69a8c3a5",
   "metadata": {},
   "outputs": [
    {
     "data": {
      "text/plain": [
       "[72.0, 1.8640776699029127, 2.223938223938224]"
      ]
     },
     "execution_count": 12,
     "metadata": {},
     "output_type": "execute_result"
    }
   ],
   "source": [
    "train_class_weights"
   ]
  },
  {
   "cell_type": "code",
   "execution_count": 13,
   "id": "edeb0035-4221-40a1-80e1-3b1f28f2e444",
   "metadata": {},
   "outputs": [
    {
     "data": {
      "text/plain": [
       "[94.5, 1.7830188679245282, 2.3333333333333335]"
      ]
     },
     "execution_count": 13,
     "metadata": {},
     "output_type": "execute_result"
    }
   ],
   "source": [
    "valid_class_weights"
   ]
  },
  {
   "cell_type": "code",
   "execution_count": 14,
   "id": "40652ddf-771b-4dfd-b19a-c915d5d74843",
   "metadata": {},
   "outputs": [],
   "source": [
    "classifier = legacyClassifier()\n",
    "classifier.cuda()\n",
    "optimizer = torch.optim.AdamW(classifier.parameters(), lr=1e-3)"
   ]
  },
  {
   "cell_type": "code",
   "execution_count": 15,
   "id": "5f1f47b9-45af-4aea-bc6e-b4dde9dee89a",
   "metadata": {},
   "outputs": [],
   "source": [
    "criterion = nn.CrossEntropyLoss()\n",
    "_=criterion.cuda()"
   ]
  },
  {
   "cell_type": "code",
   "execution_count": 16,
   "id": "45cb6267-275b-42d2-ba32-7d13d7e3efee",
   "metadata": {},
   "outputs": [],
   "source": [
    "train_dataloader = DataLoader(train_dataset, batch_size=batch_size, shuffle=False,sampler = train_sampler)\n",
    "val_dataloader = DataLoader(valid_dataset, batch_size=batch_size,shuffle=False,sampler = valid_sampler)"
   ]
  },
  {
   "cell_type": "code",
   "execution_count": 17,
   "id": "5a63dc26-e16f-4c73-8e55-aca9d6daeb27",
   "metadata": {},
   "outputs": [],
   "source": [
    "train_loss = []\n",
    "train_acc = []\n",
    "\n",
    "valid_loss = []\n",
    "valid_acc = []"
   ]
  },
  {
   "cell_type": "code",
   "execution_count": 18,
   "id": "2e0db1a8-977d-464e-9208-89b4f527358d",
   "metadata": {},
   "outputs": [
    {
     "data": {
      "text/plain": [
       "legacyClassifier(\n",
       "  (linear1): Linear(in_features=36, out_features=1024, bias=True)\n",
       "  (dropout2): Dropout(p=0.5, inplace=False)\n",
       "  (linear2): Linear(in_features=1024, out_features=3, bias=True)\n",
       ")"
      ]
     },
     "execution_count": 18,
     "metadata": {},
     "output_type": "execute_result"
    }
   ],
   "source": [
    "classifier"
   ]
  },
  {
   "cell_type": "code",
   "execution_count": 19,
   "id": "a7d429d7-9351-4a74-9c86-7a8bbd06e2d4",
   "metadata": {},
   "outputs": [],
   "source": [
    "cnt = [0,0,0]"
   ]
  },
  {
   "cell_type": "code",
   "execution_count": 20,
   "id": "002beafd-819c-4f08-83c6-8cf581251d50",
   "metadata": {
    "tags": []
   },
   "outputs": [
    {
     "data": {
      "application/vnd.jupyter.widget-view+json": {
       "model_id": "16ece5840ae342689a2dcfc1eb153ce6",
       "version_major": 2,
       "version_minor": 0
      },
      "text/plain": [
       "  0%|          | 0/100 [00:00<?, ?it/s]"
      ]
     },
     "metadata": {},
     "output_type": "display_data"
    },
    {
     "name": "stdout",
     "output_type": "stream",
     "text": [
      "Epochs: 1 | Train Loss:  1.567                 | Train Accuracy:  0.335                 | Val Loss:  1.323                 | Val Accuracy:  0.437\n",
      "Epochs: 2 | Train Loss:  1.415                 | Train Accuracy:  0.391                 | Val Loss:  0.986                 | Val Accuracy:  0.480\n",
      "Epochs: 3 | Train Loss:  1.270                 | Train Accuracy:  0.424                 | Val Loss:  1.258                 | Val Accuracy:  0.489\n",
      "Epochs: 4 | Train Loss:  1.332                 | Train Accuracy:  0.429                 | Val Loss:  1.085                 | Val Accuracy:  0.540\n",
      "Epochs: 5 | Train Loss:  1.170                 | Train Accuracy:  0.431                 | Val Loss:  1.191                 | Val Accuracy:  0.325\n",
      "Epochs: 6 | Train Loss:  1.129                 | Train Accuracy:  0.472                 | Val Loss:  1.009                 | Val Accuracy:  0.450\n",
      "Epochs: 7 | Train Loss:  1.132                 | Train Accuracy:  0.486                 | Val Loss:  1.137                 | Val Accuracy:  0.359\n",
      "Epochs: 8 | Train Loss:  1.110                 | Train Accuracy:  0.477                 | Val Loss:  0.914                 | Val Accuracy:  0.565\n",
      "Epochs: 9 | Train Loss:  1.146                 | Train Accuracy:  0.476                 | Val Loss:  0.936                 | Val Accuracy:  0.530\n",
      "Epochs: 10 | Train Loss:  1.153                 | Train Accuracy:  0.450                 | Val Loss:  0.992                 | Val Accuracy:  0.451\n",
      "Epochs: 11 | Train Loss:  1.097                 | Train Accuracy:  0.490                 | Val Loss:  0.967                 | Val Accuracy:  0.456\n",
      "Epochs: 12 | Train Loss:  1.110                 | Train Accuracy:  0.441                 | Val Loss:  1.066                 | Val Accuracy:  0.425\n",
      "Epochs: 13 | Train Loss:  1.075                 | Train Accuracy:  0.460                 | Val Loss:  0.979                 | Val Accuracy:  0.498\n",
      "Epochs: 14 | Train Loss:  1.111                 | Train Accuracy:  0.460                 | Val Loss:  1.138                 | Val Accuracy:  0.380\n",
      "Epochs: 15 | Train Loss:  1.108                 | Train Accuracy:  0.481                 | Val Loss:  1.181                 | Val Accuracy:  0.458\n",
      "Epochs: 16 | Train Loss:  1.022                 | Train Accuracy:  0.517                 | Val Loss:  1.022                 | Val Accuracy:  0.478\n",
      "Epochs: 17 | Train Loss:  1.094                 | Train Accuracy:  0.491                 | Val Loss:  0.989                 | Val Accuracy:  0.498\n",
      "Epochs: 18 | Train Loss:  1.045                 | Train Accuracy:  0.498                 | Val Loss:  0.887                 | Val Accuracy:  0.441\n",
      "Epochs: 19 | Train Loss:  1.003                 | Train Accuracy:  0.498                 | Val Loss:  1.138                 | Val Accuracy:  0.367\n",
      "Epochs: 20 | Train Loss:  0.995                 | Train Accuracy:  0.516                 | Val Loss:  1.077                 | Val Accuracy:  0.424\n",
      "Epochs: 21 | Train Loss:  0.958                 | Train Accuracy:  0.535                 | Val Loss:  0.851                 | Val Accuracy:  0.588\n",
      "Epochs: 22 | Train Loss:  0.940                 | Train Accuracy:  0.557                 | Val Loss:  0.999                 | Val Accuracy:  0.492\n",
      "Epochs: 23 | Train Loss:  0.929                 | Train Accuracy:  0.547                 | Val Loss:  1.030                 | Val Accuracy:  0.417\n",
      "Epochs: 24 | Train Loss:  1.116                 | Train Accuracy:  0.509                 | Val Loss:  0.997                 | Val Accuracy:  0.424\n",
      "Epochs: 25 | Train Loss:  0.975                 | Train Accuracy:  0.514                 | Val Loss:  1.232                 | Val Accuracy:  0.428\n",
      "Epochs: 26 | Train Loss:  0.927                 | Train Accuracy:  0.562                 | Val Loss:  1.007                 | Val Accuracy:  0.502\n",
      "Epochs: 27 | Train Loss:  1.019                 | Train Accuracy:  0.500                 | Val Loss:  0.955                 | Val Accuracy:  0.497\n",
      "Epochs: 28 | Train Loss:  0.914                 | Train Accuracy:  0.587                 | Val Loss:  1.028                 | Val Accuracy:  0.435\n",
      "Epochs: 29 | Train Loss:  0.931                 | Train Accuracy:  0.562                 | Val Loss:  0.987                 | Val Accuracy:  0.502\n",
      "Epochs: 30 | Train Loss:  0.890                 | Train Accuracy:  0.595                 | Val Loss:  1.197                 | Val Accuracy:  0.364\n",
      "Epochs: 31 | Train Loss:  0.957                 | Train Accuracy:  0.550                 | Val Loss:  1.516                 | Val Accuracy:  0.290\n",
      "Epochs: 32 | Train Loss:  0.867                 | Train Accuracy:  0.576                 | Val Loss:  1.018                 | Val Accuracy:  0.544\n",
      "Epochs: 33 | Train Loss:  0.868                 | Train Accuracy:  0.542                 | Val Loss:  0.973                 | Val Accuracy:  0.438\n",
      "Epochs: 34 | Train Loss:  0.949                 | Train Accuracy:  0.569                 | Val Loss:  1.019                 | Val Accuracy:  0.482\n",
      "Epochs: 35 | Train Loss:  0.921                 | Train Accuracy:  0.595                 | Val Loss:  1.117                 | Val Accuracy:  0.410\n",
      "Epochs: 36 | Train Loss:  0.867                 | Train Accuracy:  0.559                 | Val Loss:  1.039                 | Val Accuracy:  0.474\n",
      "Epochs: 37 | Train Loss:  0.905                 | Train Accuracy:  0.571                 | Val Loss:  0.919                 | Val Accuracy:  0.554\n",
      "Epochs: 38 | Train Loss:  0.848                 | Train Accuracy:  0.609                 | Val Loss:  0.927                 | Val Accuracy:  0.476\n",
      "Epochs: 39 | Train Loss:  0.921                 | Train Accuracy:  0.608                 | Val Loss:  1.000                 | Val Accuracy:  0.496\n",
      "Epochs: 40 | Train Loss:  0.893                 | Train Accuracy:  0.580                 | Val Loss:  0.901                 | Val Accuracy:  0.559\n",
      "Epochs: 41 | Train Loss:  0.926                 | Train Accuracy:  0.583                 | Val Loss:  0.975                 | Val Accuracy:  0.515\n",
      "Epochs: 42 | Train Loss:  0.910                 | Train Accuracy:  0.595                 | Val Loss:  0.994                 | Val Accuracy:  0.467\n",
      "Epochs: 43 | Train Loss:  0.915                 | Train Accuracy:  0.566                 | Val Loss:  0.959                 | Val Accuracy:  0.478\n",
      "Epochs: 44 | Train Loss:  0.872                 | Train Accuracy:  0.594                 | Val Loss:  1.204                 | Val Accuracy:  0.387\n",
      "Epochs: 45 | Train Loss:  0.960                 | Train Accuracy:  0.601                 | Val Loss:  0.931                 | Val Accuracy:  0.492\n",
      "Epochs: 46 | Train Loss:  0.840                 | Train Accuracy:  0.561                 | Val Loss:  1.078                 | Val Accuracy:  0.445\n",
      "Epochs: 47 | Train Loss:  0.838                 | Train Accuracy:  0.611                 | Val Loss:  0.909                 | Val Accuracy:  0.542\n",
      "Epochs: 48 | Train Loss:  0.833                 | Train Accuracy:  0.641                 | Val Loss:  0.855                 | Val Accuracy:  0.508\n",
      "Epochs: 49 | Train Loss:  0.792                 | Train Accuracy:  0.623                 | Val Loss:  1.280                 | Val Accuracy:  0.376\n",
      "Epochs: 50 | Train Loss:  0.817                 | Train Accuracy:  0.599                 | Val Loss:  0.952                 | Val Accuracy:  0.536\n",
      "Epochs: 51 | Train Loss:  0.821                 | Train Accuracy:  0.609                 | Val Loss:  0.999                 | Val Accuracy:  0.423\n",
      "Epochs: 52 | Train Loss:  0.798                 | Train Accuracy:  0.618                 | Val Loss:  1.037                 | Val Accuracy:  0.390\n",
      "Epochs: 53 | Train Loss:  0.850                 | Train Accuracy:  0.575                 | Val Loss:  0.975                 | Val Accuracy:  0.428\n",
      "Epochs: 54 | Train Loss:  0.797                 | Train Accuracy:  0.632                 | Val Loss:  0.941                 | Val Accuracy:  0.536\n",
      "Epochs: 55 | Train Loss:  0.811                 | Train Accuracy:  0.623                 | Val Loss:  1.017                 | Val Accuracy:  0.519\n",
      "Epochs: 56 | Train Loss:  0.892                 | Train Accuracy:  0.559                 | Val Loss:  0.960                 | Val Accuracy:  0.457\n",
      "Epochs: 57 | Train Loss:  0.785                 | Train Accuracy:  0.628                 | Val Loss:  0.957                 | Val Accuracy:  0.522\n",
      "Epochs: 58 | Train Loss:  0.824                 | Train Accuracy:  0.608                 | Val Loss:  1.172                 | Val Accuracy:  0.360\n",
      "Epochs: 59 | Train Loss:  0.805                 | Train Accuracy:  0.599                 | Val Loss:  0.949                 | Val Accuracy:  0.442\n",
      "Epochs: 60 | Train Loss:  0.780                 | Train Accuracy:  0.637                 | Val Loss:  0.958                 | Val Accuracy:  0.467\n",
      "Epochs: 61 | Train Loss:  0.857                 | Train Accuracy:  0.597                 | Val Loss:  1.118                 | Val Accuracy:  0.417\n",
      "Epochs: 62 | Train Loss:  0.767                 | Train Accuracy:  0.613                 | Val Loss:  0.839                 | Val Accuracy:  0.508\n",
      "Epochs: 63 | Train Loss:  0.762                 | Train Accuracy:  0.642                 | Val Loss:  1.044                 | Val Accuracy:  0.416\n",
      "Epochs: 64 | Train Loss:  0.776                 | Train Accuracy:  0.628                 | Val Loss:  0.999                 | Val Accuracy:  0.446\n",
      "Epochs: 65 | Train Loss:  0.731                 | Train Accuracy:  0.639                 | Val Loss:  1.062                 | Val Accuracy:  0.363\n",
      "Epochs: 66 | Train Loss:  0.823                 | Train Accuracy:  0.609                 | Val Loss:  1.155                 | Val Accuracy:  0.425\n",
      "Epochs: 67 | Train Loss:  0.794                 | Train Accuracy:  0.661                 | Val Loss:  0.988                 | Val Accuracy:  0.511\n",
      "Epochs: 68 | Train Loss:  0.878                 | Train Accuracy:  0.609                 | Val Loss:  0.846                 | Val Accuracy:  0.470\n",
      "Epochs: 69 | Train Loss:  0.788                 | Train Accuracy:  0.637                 | Val Loss:  0.997                 | Val Accuracy:  0.468\n",
      "Epochs: 70 | Train Loss:  0.769                 | Train Accuracy:  0.653                 | Val Loss:  0.879                 | Val Accuracy:  0.497\n",
      "Epochs: 71 | Train Loss:  0.780                 | Train Accuracy:  0.613                 | Val Loss:  1.000                 | Val Accuracy:  0.471\n",
      "Epochs: 72 | Train Loss:  0.831                 | Train Accuracy:  0.630                 | Val Loss:  1.097                 | Val Accuracy:  0.386\n",
      "Epochs: 73 | Train Loss:  0.861                 | Train Accuracy:  0.618                 | Val Loss:  1.070                 | Val Accuracy:  0.453\n",
      "Epochs: 74 | Train Loss:  0.756                 | Train Accuracy:  0.646                 | Val Loss:  1.150                 | Val Accuracy:  0.416\n",
      "Epochs: 75 | Train Loss:  0.724                 | Train Accuracy:  0.670                 | Val Loss:  0.989                 | Val Accuracy:  0.427\n",
      "Epochs: 76 | Train Loss:  0.855                 | Train Accuracy:  0.611                 | Val Loss:  0.912                 | Val Accuracy:  0.566\n",
      "Epochs: 77 | Train Loss:  0.713                 | Train Accuracy:  0.642                 | Val Loss:  0.814                 | Val Accuracy:  0.559\n",
      "Epochs: 78 | Train Loss:  0.724                 | Train Accuracy:  0.661                 | Val Loss:  1.144                 | Val Accuracy:  0.407\n",
      "Epochs: 79 | Train Loss:  0.773                 | Train Accuracy:  0.606                 | Val Loss:  0.794                 | Val Accuracy:  0.495\n",
      "Epochs: 80 | Train Loss:  0.781                 | Train Accuracy:  0.628                 | Val Loss:  1.033                 | Val Accuracy:  0.440\n",
      "Epochs: 81 | Train Loss:  0.813                 | Train Accuracy:  0.608                 | Val Loss:  1.010                 | Val Accuracy:  0.494\n",
      "Epochs: 82 | Train Loss:  0.745                 | Train Accuracy:  0.649                 | Val Loss:  0.977                 | Val Accuracy:  0.450\n",
      "Epochs: 83 | Train Loss:  0.770                 | Train Accuracy:  0.642                 | Val Loss:  1.126                 | Val Accuracy:  0.411\n",
      "Epochs: 84 | Train Loss:  0.780                 | Train Accuracy:  0.627                 | Val Loss:  0.954                 | Val Accuracy:  0.498\n",
      "Epochs: 85 | Train Loss:  0.766                 | Train Accuracy:  0.616                 | Val Loss:  0.829                 | Val Accuracy:  0.473\n",
      "Epochs: 86 | Train Loss:  0.697                 | Train Accuracy:  0.672                 | Val Loss:  0.990                 | Val Accuracy:  0.451\n",
      "Epochs: 87 | Train Loss:  0.738                 | Train Accuracy:  0.628                 | Val Loss:  0.945                 | Val Accuracy:  0.401\n",
      "Epochs: 88 | Train Loss:  0.752                 | Train Accuracy:  0.639                 | Val Loss:  0.831                 | Val Accuracy:  0.460\n",
      "Epochs: 89 | Train Loss:  0.770                 | Train Accuracy:  0.641                 | Val Loss:  1.029                 | Val Accuracy:  0.456\n",
      "Epochs: 90 | Train Loss:  0.688                 | Train Accuracy:  0.665                 | Val Loss:  0.997                 | Val Accuracy:  0.490\n",
      "Epochs: 91 | Train Loss:  0.707                 | Train Accuracy:  0.632                 | Val Loss:  0.951                 | Val Accuracy:  0.442\n",
      "Epochs: 92 | Train Loss:  0.734                 | Train Accuracy:  0.642                 | Val Loss:  0.926                 | Val Accuracy:  0.504\n",
      "Epochs: 93 | Train Loss:  0.905                 | Train Accuracy:  0.583                 | Val Loss:  1.107                 | Val Accuracy:  0.429\n",
      "Epochs: 94 | Train Loss:  0.728                 | Train Accuracy:  0.646                 | Val Loss:  0.827                 | Val Accuracy:  0.572\n",
      "Epochs: 95 | Train Loss:  0.803                 | Train Accuracy:  0.648                 | Val Loss:  1.308                 | Val Accuracy:  0.435\n",
      "Epochs: 96 | Train Loss:  0.875                 | Train Accuracy:  0.590                 | Val Loss:  0.987                 | Val Accuracy:  0.462\n",
      "Epochs: 97 | Train Loss:  0.732                 | Train Accuracy:  0.646                 | Val Loss:  0.935                 | Val Accuracy:  0.484\n",
      "Epochs: 98 | Train Loss:  0.802                 | Train Accuracy:  0.639                 | Val Loss:  0.791                 | Val Accuracy:  0.505\n",
      "Epochs: 99 | Train Loss:  0.717                 | Train Accuracy:  0.658                 | Val Loss:  0.936                 | Val Accuracy:  0.449\n",
      "Epochs: 100 | Train Loss:  0.740                 | Train Accuracy:  0.674                 | Val Loss:  1.185                 | Val Accuracy:  0.429\n"
     ]
    }
   ],
   "source": [
    "classifier.zero_grad()\n",
    "for epoch in tqdm(range(epochs),total=epochs):\n",
    "\n",
    "    total_acc_train = 0\n",
    "    total_loss_train = 0\n",
    "    classifier.train()\n",
    "    for i,batch in enumerate(train_dataloader):\n",
    "\n",
    "        train_label = batch['label'].to(device)\n",
    "        train_stat = batch['stat'].to(device)\n",
    "        \n",
    "        output = classifier(train_stat)\n",
    "        output = output.squeeze(1)\n",
    "        batch_loss = criterion(output.float(), train_label)\n",
    "        \n",
    "        optimizer.zero_grad()\n",
    "        batch_loss.backward()\n",
    "        optimizer.step()\n",
    "        \n",
    "        total_loss_train += batch_loss.item()\n",
    "        \n",
    "        correct_prediction = torch.argmax(F.softmax(output, dim=1), 1) == train_label\n",
    "\n",
    "        acc = correct_prediction.float().mean()\n",
    "#         acc = (output.round() == train_label).sum().item()\n",
    "        total_acc_train += acc.item()\n",
    "        \n",
    "    train_loss.append(total_loss_train/len(train_dataloader))\n",
    "    train_acc.append(total_acc_train/len(train_dataloader))\n",
    "            \n",
    "    total_acc_val = 0\n",
    "    total_loss_val = 0\n",
    "    \n",
    "    with  torch.no_grad():\n",
    "        classifier.eval()\n",
    "        for i,batch in enumerate(val_dataloader):\n",
    "            \n",
    "            val_label = batch['label'].to(device)\n",
    "            val_stat = batch['stat'].to(device)\n",
    "\n",
    "            output = classifier(val_stat)\n",
    "            output = output.squeeze(1)\n",
    "            batch_loss = criterion(output.float(), val_label)\n",
    "            \n",
    "            total_loss_val += batch_loss.item()\n",
    "            correct_prediction = torch.argmax(F.softmax(output, dim=1), 1) == val_label\n",
    "            acc = correct_prediction.float().mean()\n",
    "#             acc = (output.round() == val_label).sum().item()\n",
    "            \n",
    "            total_acc_val += acc.item()\n",
    "            for value in torch.argmax(F.softmax(output, dim=1), 1):\n",
    "                cnt[value.item()] += 1\n",
    "        valid_loss.append(total_loss_val/ len(val_dataloader))\n",
    "        valid_acc.append(total_acc_val/ len(val_dataloader))\n",
    "#         torch.save(classifier.state_dict(), './model{}.pt'.format(epoch))\n",
    " \n",
    "        print(\n",
    "                f'Epochs: {epoch + 1} | Train Loss: {total_loss_train / len(train_dataloader): .3f} \\\n",
    "                | Train Accuracy: {total_acc_train / len(train_dataloader): .3f} \\\n",
    "                | Val Loss: {total_loss_val / len(val_dataloader): .3f} \\\n",
    "                | Val Accuracy: {total_acc_val / len(val_dataloader): .3f}')"
   ]
  },
  {
   "cell_type": "code",
   "execution_count": 21,
   "id": "a8c58a54-4013-46b3-a157-c368a838e9a1",
   "metadata": {},
   "outputs": [
    {
     "data": {
      "image/png": "[encoded data removed]",
      "text/plain": [
       "<Figure size 432x288 with 1 Axes>"
      ]
     },
     "metadata": {
      "needs_background": "light"
     },
     "output_type": "display_data"
    }
   ],
   "source": [
    "plt.plot(valid_loss,color='red',label = 'valid')\n",
    "plt.plot(train_loss,color='blue',label = 'train')\n",
    "plt.show()"
   ]
  },
  {
   "cell_type": "code",
   "execution_count": 22,
   "id": "78932c1d-1b08-4d70-8bea-621a2c1c526c",
   "metadata": {},
   "outputs": [
    {
     "data": {
      "image/png": "[encoded data removed]",
      "text/plain": [
       "<Figure size 432x288 with 1 Axes>"
      ]
     },
     "metadata": {
      "needs_background": "light"
     },
     "output_type": "display_data"
    }
   ],
   "source": [
    "plt.plot(valid_acc,color='red',label = 'valid')\n",
    "plt.plot(train_acc,color='blue',label = 'train')\n",
    "plt.show()"
   ]
  },
  {
   "cell_type": "code",
   "execution_count": 23,
   "id": "10c82d7b-70eb-4ec9-9dd6-85f9d5dd61c1",
   "metadata": {},
   "outputs": [
    {
     "data": {
      "text/plain": [
       "[2649, 7194, 9057]"
      ]
     },
     "execution_count": 23,
     "metadata": {},
     "output_type": "execute_result"
    }
   ],
   "source": [
    "cnt"
   ]
  },
  {
   "cell_type": "code",
   "execution_count": null,
   "id": "c8cb4bbf-9e4f-4424-aac2-b43c4e4b9ffa",
   "metadata": {},
   "outputs": [],
   "source": []
  }
 ],
 "metadata": {
  "kernelspec": {
   "display_name": "Python 3",
   "language": "python",
   "name": "python3"
  },
  "language_info": {
   "codemirror_mode": {
    "name": "ipython",
    "version": 3
   },
   "file_extension": ".py",
   "mimetype": "text/x-python",
   "name": "python",
   "nbconvert_exporter": "python",
   "pygments_lexer": "ipython3",
   "version": "3.8.8"
  }
 },
 "nbformat": 4,
 "nbformat_minor": 5
}
