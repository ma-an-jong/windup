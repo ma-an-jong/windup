{
 "cells": [
  {
   "cell_type": "code",
   "execution_count": 96,
   "id": "0e19e54a-c5e0-4347-b517-f38653c5528b",
   "metadata": {},
   "outputs": [],
   "source": [
    "import os\n",
    "import torch\n",
    "from torch import nn\n",
    "import pandas as pd\n",
    "from tqdm.auto import tqdm\n",
    "from sklearn.model_selection import train_test_split\n",
    "from torch.utils.data import Dataset, DataLoader,WeightedRandomSampler\n",
    "from torch.optim import AdamW,Adam\n",
    "import torch.nn.functional as F\n",
    "import re"
   ]
  },
  {
   "cell_type": "code",
   "execution_count": 8,
   "id": "1a846df8-dd84-4d0b-9d8a-ceec46f925fc",
   "metadata": {},
   "outputs": [],
   "source": [
    "from transformers import AutoModel,AutoTokenizer,BertModel\n",
    "from kobert_tokenizer import KoBERTTokenizer"
   ]
  },
  {
   "cell_type": "code",
   "execution_count": 10,
   "id": "fd9303b0-6582-481c-a91c-c66e19bf26b7",
   "metadata": {},
   "outputs": [],
   "source": [
    "model_path = 'skt/kobert-base-v1' #multilingual"
   ]
  },
  {
   "cell_type": "code",
   "execution_count": 83,
   "id": "f4d5c78b-6fdd-4c06-a1a8-7d0a5c435728",
   "metadata": {},
   "outputs": [],
   "source": [
    "class BertClassifier(nn.Module):\n",
    "\n",
    "    def __init__(self, dropout=0.5):\n",
    "\n",
    "        super(BertClassifier, self).__init__()\n",
    "\n",
    "        self.bert = AutoModel.from_pretrained(model_path)\n",
    "        self.dropout1 = nn.Dropout(dropout)\n",
    "        self.linear1 = nn.Linear(768, 1024)\n",
    "        self.dropout2 = nn.Dropout(dropout)\n",
    "        self.linear2 = nn.Linear(1024,1)\n",
    "        \n",
    "    def forward(self, input_id, mask):\n",
    "        last_hidden_state,_ = self.bert(input_ids= input_id, attention_mask=mask,return_dict=False)\n",
    "        dropout_output = self.dropout1(last_hidden_state)\n",
    "        linear_output = self.linear1(dropout_output)\n",
    "        dropout_output1 = self.dropout2(linear_output)\n",
    "        linear_output1 = self.linear2(dropout_output1)\n",
    "        sigmoid_output = torch.sigmoid(linear_output1)\n",
    "        return sigmoid_output[:,0,:]"
   ]
  },
  {
   "cell_type": "code",
   "execution_count": 84,
   "id": "5bf48687-4f1e-4fc1-9de1-8667f0be32ba",
   "metadata": {},
   "outputs": [
    {
     "data": {
      "text/plain": [
       "<All keys matched successfully>"
      ]
     },
     "execution_count": 84,
     "metadata": {},
     "output_type": "execute_result"
    }
   ],
   "source": [
    "tokenizer = KoBERTTokenizer.from_pretrained('skt/kobert-base-v1')\n",
    "classifier = BertClassifier()\n",
    "classifier.load_state_dict(torch.load('/home/se/paper/classifier/kobert_base_model/model.pt'))"
   ]
  },
  {
   "cell_type": "code",
   "execution_count": 85,
   "id": "2a30f331-caec-45cb-9bcc-fc4ff0520995",
   "metadata": {},
   "outputs": [],
   "source": [
    "def preprocess(context,null_char='',space_char=' '):\n",
    "    bracket_removed_context = re.sub(r'\\([^)]*\\)', null_char, context)\n",
    "    square_bracket_removed_context = re.sub(r'\\[[^]]*\\]', null_char, bracket_removed_context)\n",
    "    punc_removed_context = re.sub(r'[^\\w\\s]',space_char,square_bracket_removed_context)\n",
    "    repeated_space_removed_context = re.sub(r'[\\n]{2,}','\\n',punc_removed_context)\n",
    "    repeated_space_removed_context.upper()\n",
    "            \n",
    "    return repeated_space_removed_context"
   ]
  },
  {
   "cell_type": "code",
   "execution_count": 86,
   "id": "7c2ae5de-ae53-4af2-8e0e-90b6415db8e1",
   "metadata": {},
   "outputs": [],
   "source": [
    "def predict(contents):\n",
    "    model_input = tokenizer(preprocess(contents),padding='max_length', max_length = 512, truncation=True,return_tensors=\"pt\")\n",
    "    mask = model_input['attention_mask']\n",
    "    input_ids = model_input['input_ids']\n",
    "    label = classifier(input_ids,mask)\n",
    "    return round(label.item())"
   ]
  },
  {
   "cell_type": "code",
   "execution_count": 87,
   "id": "dbf7ab5e-1ad9-4b85-9287-9feb7f3f9e7a",
   "metadata": {},
   "outputs": [
    {
     "data": {
      "text/plain": [
       "1"
      ]
     },
     "execution_count": 87,
     "metadata": {},
     "output_type": "execute_result"
    }
   ],
   "source": [
    "predict(target.contents)"
   ]
  },
  {
   "cell_type": "code",
   "execution_count": 3,
   "id": "ec7e22f5-ef44-40fa-8107-c3b6a794f8ba",
   "metadata": {},
   "outputs": [],
   "source": [
    "data_path = '/home/se/paper/legacy/data'"
   ]
  },
  {
   "cell_type": "code",
   "execution_count": 7,
   "id": "62c04458-02e2-420d-975d-9df527652b9b",
   "metadata": {},
   "outputs": [
    {
     "data": {
      "text/html": [
       "<div>\n",
       "<style scoped>\n",
       "    .dataframe tbody tr th:only-of-type {\n",
       "        vertical-align: middle;\n",
       "    }\n",
       "\n",
       "    .dataframe tbody tr th {\n",
       "        vertical-align: top;\n",
       "    }\n",
       "\n",
       "    .dataframe thead th {\n",
       "        text-align: right;\n",
       "    }\n",
       "</style>\n",
       "<table border=\"1\" class=\"dataframe\">\n",
       "  <thead>\n",
       "    <tr style=\"text-align: right;\">\n",
       "      <th></th>\n",
       "      <th>date</th>\n",
       "      <th>state_game</th>\n",
       "      <th>home</th>\n",
       "      <th>home_score</th>\n",
       "      <th>home_result</th>\n",
       "      <th>home_time</th>\n",
       "      <th>away</th>\n",
       "      <th>away_score</th>\n",
       "      <th>away_result</th>\n",
       "      <th>away_time</th>\n",
       "      <th>stadium</th>\n",
       "      <th>home_pitcher</th>\n",
       "      <th>away_pitcher</th>\n",
       "    </tr>\n",
       "  </thead>\n",
       "  <tbody>\n",
       "    <tr>\n",
       "      <th>0</th>\n",
       "      <td>20200505</td>\n",
       "      <td>종료</td>\n",
       "      <td>KIA</td>\n",
       "      <td>2</td>\n",
       "      <td>패</td>\n",
       "      <td>18:30</td>\n",
       "      <td>키움</td>\n",
       "      <td>11</td>\n",
       "      <td>승</td>\n",
       "      <td>18:30</td>\n",
       "      <td>광주</td>\n",
       "      <td>양현종</td>\n",
       "      <td>브리검</td>\n",
       "    </tr>\n",
       "    <tr>\n",
       "      <th>1</th>\n",
       "      <td>20200505</td>\n",
       "      <td>종료</td>\n",
       "      <td>LG</td>\n",
       "      <td>8</td>\n",
       "      <td>승</td>\n",
       "      <td>18:30</td>\n",
       "      <td>두산</td>\n",
       "      <td>2</td>\n",
       "      <td>패</td>\n",
       "      <td>18:30</td>\n",
       "      <td>잠실</td>\n",
       "      <td>차우찬</td>\n",
       "      <td>알칸타라</td>\n",
       "    </tr>\n",
       "    <tr>\n",
       "      <th>2</th>\n",
       "      <td>20200505</td>\n",
       "      <td>종료</td>\n",
       "      <td>삼성</td>\n",
       "      <td>0</td>\n",
       "      <td>패</td>\n",
       "      <td>18:30</td>\n",
       "      <td>NC</td>\n",
       "      <td>4</td>\n",
       "      <td>승</td>\n",
       "      <td>18:30</td>\n",
       "      <td>대구</td>\n",
       "      <td>백정현</td>\n",
       "      <td>루친스키</td>\n",
       "    </tr>\n",
       "    <tr>\n",
       "      <th>3</th>\n",
       "      <td>20200505</td>\n",
       "      <td>종료</td>\n",
       "      <td>KT</td>\n",
       "      <td>2</td>\n",
       "      <td>패</td>\n",
       "      <td>18:30</td>\n",
       "      <td>롯데</td>\n",
       "      <td>7</td>\n",
       "      <td>승</td>\n",
       "      <td>18:30</td>\n",
       "      <td>수원</td>\n",
       "      <td>데스파이네</td>\n",
       "      <td>스트레일리</td>\n",
       "    </tr>\n",
       "    <tr>\n",
       "      <th>4</th>\n",
       "      <td>20200505</td>\n",
       "      <td>종료</td>\n",
       "      <td>SSG</td>\n",
       "      <td>0</td>\n",
       "      <td>패</td>\n",
       "      <td>18:30</td>\n",
       "      <td>한화</td>\n",
       "      <td>3</td>\n",
       "      <td>승</td>\n",
       "      <td>18:30</td>\n",
       "      <td>인천</td>\n",
       "      <td>킹엄</td>\n",
       "      <td>서폴드</td>\n",
       "    </tr>\n",
       "  </tbody>\n",
       "</table>\n",
       "</div>"
      ],
      "text/plain": [
       "       date state_game home  home_score home_result home_time away  \\\n",
       "0  20200505         종료  KIA           2           패     18:30   키움   \n",
       "1  20200505         종료   LG           8           승     18:30   두산   \n",
       "2  20200505         종료   삼성           0           패     18:30   NC   \n",
       "3  20200505         종료   KT           2           패     18:30   롯데   \n",
       "4  20200505         종료  SSG           0           패     18:30   한화   \n",
       "\n",
       "   away_score away_result away_time stadium home_pitcher away_pitcher  \n",
       "0          11           승     18:30      광주          양현종          브리검  \n",
       "1           2           패     18:30      잠실          차우찬         알칸타라  \n",
       "2           4           승     18:30      대구          백정현         루친스키  \n",
       "3           7           승     18:30      수원        데스파이네        스트레일리  \n",
       "4           3           승     18:30      인천           킹엄          서폴드  "
      ]
     },
     "execution_count": 7,
     "metadata": {},
     "output_type": "execute_result"
    }
   ],
   "source": [
    "match.head()"
   ]
  },
  {
   "cell_type": "code",
   "execution_count": 6,
   "id": "ac557f64-7b79-4321-835c-0b3f86b48386",
   "metadata": {},
   "outputs": [
    {
     "data": {
      "text/html": [
       "<div>\n",
       "<style scoped>\n",
       "    .dataframe tbody tr th:only-of-type {\n",
       "        vertical-align: middle;\n",
       "    }\n",
       "\n",
       "    .dataframe tbody tr th {\n",
       "        vertical-align: top;\n",
       "    }\n",
       "\n",
       "    .dataframe thead th {\n",
       "        text-align: right;\n",
       "    }\n",
       "</style>\n",
       "<table border=\"1\" class=\"dataframe\">\n",
       "  <thead>\n",
       "    <tr style=\"text-align: right;\">\n",
       "      <th></th>\n",
       "      <th>team</th>\n",
       "      <th>date</th>\n",
       "      <th>time</th>\n",
       "      <th>image</th>\n",
       "      <th>contents</th>\n",
       "    </tr>\n",
       "  </thead>\n",
       "  <tbody>\n",
       "    <tr>\n",
       "      <th>0</th>\n",
       "      <td>키움</td>\n",
       "      <td>20160101</td>\n",
       "      <td>오전 09:16</td>\n",
       "      <td>https://imgnews.pstatic.net/image/421/2016/01/...</td>\n",
       "      <td>'단일 경기사용구·비디오판독·돔구장' 새해, 달라지는 것들 2016시즌 처음으로 ...</td>\n",
       "    </tr>\n",
       "    <tr>\n",
       "      <th>1</th>\n",
       "      <td>키움</td>\n",
       "      <td>20160101</td>\n",
       "      <td>오전 05:51</td>\n",
       "      <td>https://imgnews.pstatic.net/image/109/2016/01/...</td>\n",
       "      <td>넥센 히어로즈의 2016시즌은 유망주들에게 달려 있다. 넥센은 2016년 새해를 ...</td>\n",
       "    </tr>\n",
       "    <tr>\n",
       "      <th>2</th>\n",
       "      <td>키움</td>\n",
       "      <td>20160103</td>\n",
       "      <td>오후 03:09</td>\n",
       "      <td>https://imgnews.pstatic.net/image/396/2016/01/...</td>\n",
       "      <td>염경엽·이택근 ‘원숭이띠 리더’, 넥센 이끄는 힘 〔정정욱 기자〕 2016년 ‘원숭...</td>\n",
       "    </tr>\n",
       "    <tr>\n",
       "      <th>3</th>\n",
       "      <td>키움</td>\n",
       "      <td>20160103</td>\n",
       "      <td>오후 12:26</td>\n",
       "      <td>https://imgnews.pstatic.net/image/477/2016/01/...</td>\n",
       "      <td>창단 후 8년을 살던 목동에서 고척동으로 이사 가며 뚜껑을 '득템'했다. 그런데 ...</td>\n",
       "    </tr>\n",
       "    <tr>\n",
       "      <th>4</th>\n",
       "      <td>키움</td>\n",
       "      <td>20160103</td>\n",
       "      <td>오전 06:04</td>\n",
       "      <td>https://imgnews.pstatic.net/image/109/2016/01/...</td>\n",
       "      <td>넥센 히어로즈 외야수 허정협이 팀의 장타력 약화를 막을 수 있을까. 넥센은 최근 ...</td>\n",
       "    </tr>\n",
       "  </tbody>\n",
       "</table>\n",
       "</div>"
      ],
      "text/plain": [
       "  team      date      time                                              image  \\\n",
       "0   키움  20160101  오전 09:16  https://imgnews.pstatic.net/image/421/2016/01/...   \n",
       "1   키움  20160101  오전 05:51  https://imgnews.pstatic.net/image/109/2016/01/...   \n",
       "2   키움  20160103  오후 03:09  https://imgnews.pstatic.net/image/396/2016/01/...   \n",
       "3   키움  20160103  오후 12:26  https://imgnews.pstatic.net/image/477/2016/01/...   \n",
       "4   키움  20160103  오전 06:04  https://imgnews.pstatic.net/image/109/2016/01/...   \n",
       "\n",
       "                                            contents  \n",
       "0   '단일 경기사용구·비디오판독·돔구장' 새해, 달라지는 것들 2016시즌 처음으로 ...  \n",
       "1   넥센 히어로즈의 2016시즌은 유망주들에게 달려 있다. 넥센은 2016년 새해를 ...  \n",
       "2  염경엽·이택근 ‘원숭이띠 리더’, 넥센 이끄는 힘 〔정정욱 기자〕 2016년 ‘원숭...  \n",
       "3   창단 후 8년을 살던 목동에서 고척동으로 이사 가며 뚜껑을 '득템'했다. 그런데 ...  \n",
       "4   넥센 히어로즈 외야수 허정협이 팀의 장타력 약화를 막을 수 있을까. 넥센은 최근 ...  "
      ]
     },
     "execution_count": 6,
     "metadata": {},
     "output_type": "execute_result"
    }
   ],
   "source": [
    "article.head()"
   ]
  },
  {
   "cell_type": "code",
   "execution_count": 88,
   "id": "5dba68a2-81ce-45ba-be9e-05fca071a49f",
   "metadata": {},
   "outputs": [],
   "source": [
    "from sklearn.preprocessing import LabelEncoder\n",
    "class StatDataset(Dataset):\n",
    "    def __init__(self, match,stat,article,le):\n",
    "        \n",
    "        tmp = []\n",
    "        label = []\n",
    "        \n",
    "        for home_pitcher,home_team,away_pitcher,away_team,home_result,date in \\\n",
    "        list(zip(match['home_pitcher'].values,match['home'].values,match['away_pitcher'],match['away'],match['home_result'],match['date'])):\n",
    "            home_player_stat = stat.loc[(stat['name'] == home_pitcher) & (stat['team'] == home_team)]\n",
    "            away_player_stat = stat.loc[(stat['name'] == away_pitcher) & (stat['team'] == away_team)]\n",
    "\n",
    "            if (len(home_player_stat) != 0) and (len(away_player_stat) != 0):\n",
    "                vector = home_player_stat.values.tolist()[0][2:] + away_player_stat.values.tolist()[0][2:]\n",
    "                home_article = article.loc[(article['team'] == home_team) & (article['date'] == date)]\n",
    "                away_article = article.loc[(article['team'] == away_team) & (article['date'] == date)]\n",
    "                if (len(home_article) != 0) and (len(away_article) != 0):\n",
    "                    home_sum = 0\n",
    "                    for index,document in home_article.iterrows():\n",
    "                        home_sum += predict(document.contents)\n",
    "\n",
    "                    away_sum = 0\n",
    "                    for index,document in away_article.iterrows():\n",
    "                        away_sum += predict(document.contents)\n",
    "\n",
    "                    vector.append(home_sum / len(home_article))\n",
    "                    vector.append(away_sum / len(away_article))\n",
    "\n",
    "                    tmp.append(vector)\n",
    "                    label.append(home_result)\n",
    "        \n",
    "        transform = le.transform(label)\n",
    "        self.label = torch.tensor(list(transform),dtype=torch.long)\n",
    "        self.stat = torch.tensor(tmp)\n",
    "        \n",
    "        \n",
    "    def __len__(self):\n",
    "        return len(self.stat)\n",
    "\n",
    "    def __getitem__(self, index):\n",
    "        return {\n",
    "                \"stat\": self.stat[index],\n",
    "                \"label\": self.label[index]\n",
    "                }\n",
    "        \n",
    "    def get_num_batches(self, batch_size):\n",
    "        return len(self) // batch_size"
   ]
  },
  {
   "cell_type": "code",
   "execution_count": 113,
   "id": "e5a96e28-2f37-4c4d-8ef8-4c2636b215cd",
   "metadata": {},
   "outputs": [],
   "source": [
    "class WindupClassifier(nn.Module):\n",
    "    def __init__(self, dropout=0.5):\n",
    "        super(WindupClassifier, self).__init__()\n",
    "        self.linear1 = nn.Linear(38, 1024)\n",
    "        self.dropout2 = nn.Dropout(dropout)\n",
    "        self.linear2 = nn.Linear(1024,3)\n",
    "        \n",
    "    def forward(self, input_id):\n",
    "        linear_output = self.linear1(input_id)\n",
    "        dropout_output1 = self.dropout2(linear_output)\n",
    "        linear_output1 = self.linear2(dropout_output1)\n",
    "        return linear_output1"
   ]
  },
  {
   "cell_type": "code",
   "execution_count": 90,
   "id": "ba62c468-c630-4c1e-ac0f-8dcf900594a1",
   "metadata": {},
   "outputs": [],
   "source": [
    "stat = pd.read_csv(os.path.join(data_path,'average.csv'))\n",
    "match = pd.read_csv(os.path.join(data_path,'match_day.csv'))\n",
    "article = pd.read_csv(os.path.join(data_path,'article.csv'))"
   ]
  },
  {
   "cell_type": "code",
   "execution_count": 91,
   "id": "72b008c8-d1dc-4322-85bd-542f43b66ed0",
   "metadata": {},
   "outputs": [],
   "source": [
    "le = LabelEncoder()\n",
    "_=le.fit(['승','패','무승부'])"
   ]
  },
  {
   "cell_type": "code",
   "execution_count": 92,
   "id": "eb62a444-e32e-4dde-8195-0cd908effdbb",
   "metadata": {},
   "outputs": [],
   "source": [
    "train_match,valid_match = train_test_split(match,shuffle=True,random_state=56)"
   ]
  },
  {
   "cell_type": "code",
   "execution_count": 94,
   "id": "2ccd2fbd-fd16-45f3-8460-52938a39e415",
   "metadata": {},
   "outputs": [],
   "source": [
    "train_dataset = StatDataset(train_match,stat,article,le)"
   ]
  },
  {
   "cell_type": "code",
   "execution_count": 93,
   "id": "6d5e67b8-607e-4e2d-b7cf-e85aa48797a5",
   "metadata": {},
   "outputs": [],
   "source": [
    "valid_dataset = StatDataset(valid_match,stat,article,le)"
   ]
  },
  {
   "cell_type": "code",
   "execution_count": 95,
   "id": "71ea6ae2-edac-412a-aab4-8ea1b21d10ac",
   "metadata": {},
   "outputs": [
    {
     "name": "stdout",
     "output_type": "stream",
     "text": [
      "327 100\n"
     ]
    }
   ],
   "source": [
    "print(len(train_dataset),len(valid_dataset))"
   ]
  },
  {
   "cell_type": "code",
   "execution_count": 97,
   "id": "d8e77be6-02c9-4cc0-ba92-eb69d461ff1c",
   "metadata": {},
   "outputs": [],
   "source": [
    "batch_size = 16\n",
    "epochs = 100\n",
    "device='cuda'"
   ]
  },
  {
   "cell_type": "code",
   "execution_count": 98,
   "id": "f773d4d7-1fbe-46e2-b261-ca7c2fb657b0",
   "metadata": {},
   "outputs": [
    {
     "data": {
      "text/plain": [
       "array(['무승부', '승', '패'], dtype='<U3')"
      ]
     },
     "execution_count": 98,
     "metadata": {},
     "output_type": "execute_result"
    }
   ],
   "source": [
    "le.classes_"
   ]
  },
  {
   "cell_type": "code",
   "execution_count": 99,
   "id": "416dbb24-efd3-41c8-acc0-35e65687d6ba",
   "metadata": {},
   "outputs": [],
   "source": [
    "train_class = pd.DataFrame(train_dataset.label)\n",
    "train_class_counts = [len(train_class.loc[train_class[0] == 0]) , len(train_class.loc[train_class[0] == 1])  , len(train_class.loc[train_class[0] == 2])]\n",
    "train_num_samples = sum(train_class_counts)\n",
    "train_labels = list(train_class.values.reshape(-1))\n",
    "\n",
    "train_class_weights = [train_num_samples / train_class_counts[i] for i in range(len(train_class_counts))] \n",
    "\n",
    "# 해당 데이터의 label에 해당되는 가중치\n",
    "train_weights = [train_class_weights[train_labels[i]] for i in range(int(train_num_samples))] #해당 레이블마다의 가중치 비율\n",
    "train_sampler = WeightedRandomSampler(torch.DoubleTensor(train_weights), int(train_num_samples))"
   ]
  },
  {
   "cell_type": "code",
   "execution_count": 101,
   "id": "93ebcb5d-af9d-4402-9d43-ce1ddfaca377",
   "metadata": {},
   "outputs": [],
   "source": [
    "valid_class = pd.DataFrame(valid_dataset.label)\n",
    "valid_class_counts = [len(valid_class.loc[train_class[0] == 0]) , len(valid_class.loc[train_class[0] == 1])  , len(valid_class.loc[train_class[0] == 2])]\n",
    "valid_num_samples = sum(valid_class_counts)\n",
    "valid_labels = list(valid_class.values.reshape(-1))\n",
    "\n",
    "valid_class_weights = [valid_num_samples / valid_class_counts[i] for i in range(len(valid_class_counts))] \n",
    "\n",
    "# 해당 데이터의 label에 해당되는 가중치\n",
    "valid_weights = [valid_class_weights[valid_labels[i]] for i in range(int(valid_num_samples))] #해당 레이블마다의 가중치 비율\n",
    "valid_sampler = WeightedRandomSampler(torch.DoubleTensor(valid_weights), int(valid_num_samples))"
   ]
  },
  {
   "cell_type": "code",
   "execution_count": 114,
   "id": "e464700c-c9f3-4a1a-a26c-f0b411862ab9",
   "metadata": {},
   "outputs": [],
   "source": [
    "classifier = WindupClassifier()\n",
    "classifier.cuda()\n",
    "optimizer = torch.optim.AdamW(classifier.parameters(), lr=1e-3)"
   ]
  },
  {
   "cell_type": "code",
   "execution_count": 107,
   "id": "927636b1-85f4-41b7-b8e2-f9175b1c0c3e",
   "metadata": {},
   "outputs": [],
   "source": [
    "criterion = nn.CrossEntropyLoss()\n",
    "_=criterion.cuda()"
   ]
  },
  {
   "cell_type": "code",
   "execution_count": 108,
   "id": "dd9fe9a8-b829-41bf-8a0f-b0c3d16249ae",
   "metadata": {},
   "outputs": [],
   "source": [
    "train_dataloader = DataLoader(train_dataset, batch_size=batch_size, shuffle=False,sampler = train_sampler)\n",
    "val_dataloader = DataLoader(valid_dataset, batch_size=batch_size,shuffle=False,sampler = valid_sampler)"
   ]
  },
  {
   "cell_type": "code",
   "execution_count": 109,
   "id": "de39a303-bd2c-453a-a57e-358bfdd13b45",
   "metadata": {},
   "outputs": [],
   "source": [
    "train_loss = []\n",
    "train_acc = []\n",
    "\n",
    "valid_loss = []\n",
    "valid_acc = []"
   ]
  },
  {
   "cell_type": "code",
   "execution_count": 115,
   "id": "045548c7-cc63-43ba-8020-8b4d97c7de1c",
   "metadata": {},
   "outputs": [
    {
     "data": {
      "application/vnd.jupyter.widget-view+json": {
       "model_id": "4a593ce53a9e4fe0997344c5bd66d1fe",
       "version_major": 2,
       "version_minor": 0
      },
      "text/plain": [
       "  0%|          | 0/100 [00:00<?, ?it/s]"
      ]
     },
     "metadata": {},
     "output_type": "display_data"
    },
    {
     "name": "stdout",
     "output_type": "stream",
     "text": [
      "Epochs: 1 | Train Loss:  1.208                 | Train Accuracy:  0.523                 | Val Loss:  1.194                 | Val Accuracy:  0.321\n",
      "Epochs: 2 | Train Loss:  1.137                 | Train Accuracy:  0.481                 | Val Loss:  0.923                 | Val Accuracy:  0.438\n",
      "Epochs: 3 | Train Loss:  0.789                 | Train Accuracy:  0.618                 | Val Loss:  0.898                 | Val Accuracy:  0.411\n",
      "Epochs: 4 | Train Loss:  0.715                 | Train Accuracy:  0.638                 | Val Loss:  1.020                 | Val Accuracy:  0.411\n",
      "Epochs: 5 | Train Loss:  0.752                 | Train Accuracy:  0.656                 | Val Loss:  0.769                 | Val Accuracy:  0.562\n",
      "Epochs: 6 | Train Loss:  0.697                 | Train Accuracy:  0.643                 | Val Loss:  0.783                 | Val Accuracy:  0.598\n",
      "Epochs: 7 | Train Loss:  0.725                 | Train Accuracy:  0.664                 | Val Loss:  0.614                 | Val Accuracy:  0.643\n",
      "Epochs: 8 | Train Loss:  0.660                 | Train Accuracy:  0.709                 | Val Loss:  0.786                 | Val Accuracy:  0.661\n",
      "Epochs: 9 | Train Loss:  0.827                 | Train Accuracy:  0.657                 | Val Loss:  0.517                 | Val Accuracy:  0.732\n",
      "Epochs: 10 | Train Loss:  0.673                 | Train Accuracy:  0.649                 | Val Loss:  0.751                 | Val Accuracy:  0.580\n",
      "Epochs: 11 | Train Loss:  0.636                 | Train Accuracy:  0.665                 | Val Loss:  0.971                 | Val Accuracy:  0.348\n",
      "Epochs: 12 | Train Loss:  0.686                 | Train Accuracy:  0.680                 | Val Loss:  1.798                 | Val Accuracy:  0.464\n",
      "Epochs: 13 | Train Loss:  0.633                 | Train Accuracy:  0.705                 | Val Loss:  0.718                 | Val Accuracy:  0.571\n",
      "Epochs: 14 | Train Loss:  0.595                 | Train Accuracy:  0.705                 | Val Loss:  1.389                 | Val Accuracy:  0.330\n",
      "Epochs: 15 | Train Loss:  0.760                 | Train Accuracy:  0.685                 | Val Loss:  1.470                 | Val Accuracy:  0.455\n",
      "Epochs: 16 | Train Loss:  0.607                 | Train Accuracy:  0.723                 | Val Loss:  0.809                 | Val Accuracy:  0.455\n",
      "Epochs: 17 | Train Loss:  0.490                 | Train Accuracy:  0.756                 | Val Loss:  0.616                 | Val Accuracy:  0.679\n",
      "Epochs: 18 | Train Loss:  0.577                 | Train Accuracy:  0.713                 | Val Loss:  0.609                 | Val Accuracy:  0.750\n",
      "Epochs: 19 | Train Loss:  0.501                 | Train Accuracy:  0.739                 | Val Loss:  0.603                 | Val Accuracy:  0.714\n",
      "Epochs: 20 | Train Loss:  0.680                 | Train Accuracy:  0.743                 | Val Loss:  1.049                 | Val Accuracy:  0.509\n",
      "Epochs: 21 | Train Loss:  0.640                 | Train Accuracy:  0.740                 | Val Loss:  0.976                 | Val Accuracy:  0.545\n",
      "Epochs: 22 | Train Loss:  0.647                 | Train Accuracy:  0.702                 | Val Loss:  0.706                 | Val Accuracy:  0.554\n",
      "Epochs: 23 | Train Loss:  0.611                 | Train Accuracy:  0.737                 | Val Loss:  1.087                 | Val Accuracy:  0.607\n",
      "Epochs: 24 | Train Loss:  0.642                 | Train Accuracy:  0.742                 | Val Loss:  0.670                 | Val Accuracy:  0.580\n",
      "Epochs: 25 | Train Loss:  0.455                 | Train Accuracy:  0.771                 | Val Loss:  0.541                 | Val Accuracy:  0.714\n",
      "Epochs: 26 | Train Loss:  0.546                 | Train Accuracy:  0.728                 | Val Loss:  0.680                 | Val Accuracy:  0.661\n",
      "Epochs: 27 | Train Loss:  0.517                 | Train Accuracy:  0.774                 | Val Loss:  0.942                 | Val Accuracy:  0.321\n",
      "Epochs: 28 | Train Loss:  0.485                 | Train Accuracy:  0.776                 | Val Loss:  0.719                 | Val Accuracy:  0.777\n",
      "Epochs: 29 | Train Loss:  0.543                 | Train Accuracy:  0.759                 | Val Loss:  0.535                 | Val Accuracy:  0.750\n",
      "Epochs: 30 | Train Loss:  0.538                 | Train Accuracy:  0.733                 | Val Loss:  0.616                 | Val Accuracy:  0.688\n",
      "Epochs: 31 | Train Loss:  0.479                 | Train Accuracy:  0.783                 | Val Loss:  0.762                 | Val Accuracy:  0.652\n",
      "Epochs: 32 | Train Loss:  0.508                 | Train Accuracy:  0.801                 | Val Loss:  0.578                 | Val Accuracy:  0.643\n",
      "Epochs: 33 | Train Loss:  0.657                 | Train Accuracy:  0.751                 | Val Loss:  0.563                 | Val Accuracy:  0.723\n",
      "Epochs: 34 | Train Loss:  0.452                 | Train Accuracy:  0.785                 | Val Loss:  0.953                 | Val Accuracy:  0.491\n",
      "Epochs: 35 | Train Loss:  0.639                 | Train Accuracy:  0.743                 | Val Loss:  0.533                 | Val Accuracy:  0.759\n",
      "Epochs: 36 | Train Loss:  0.552                 | Train Accuracy:  0.804                 | Val Loss:  0.730                 | Val Accuracy:  0.536\n",
      "Epochs: 37 | Train Loss:  0.412                 | Train Accuracy:  0.817                 | Val Loss:  0.468                 | Val Accuracy:  0.768\n",
      "Epochs: 38 | Train Loss:  0.460                 | Train Accuracy:  0.786                 | Val Loss:  0.475                 | Val Accuracy:  0.812\n",
      "Epochs: 39 | Train Loss:  0.442                 | Train Accuracy:  0.761                 | Val Loss:  0.475                 | Val Accuracy:  0.759\n",
      "Epochs: 40 | Train Loss:  0.434                 | Train Accuracy:  0.788                 | Val Loss:  0.431                 | Val Accuracy:  0.839\n",
      "Epochs: 41 | Train Loss:  0.483                 | Train Accuracy:  0.762                 | Val Loss:  0.678                 | Val Accuracy:  0.634\n",
      "Epochs: 42 | Train Loss:  0.438                 | Train Accuracy:  0.785                 | Val Loss:  0.449                 | Val Accuracy:  0.786\n",
      "Epochs: 43 | Train Loss:  0.403                 | Train Accuracy:  0.818                 | Val Loss:  0.647                 | Val Accuracy:  0.688\n",
      "Epochs: 44 | Train Loss:  0.484                 | Train Accuracy:  0.801                 | Val Loss:  0.631                 | Val Accuracy:  0.759\n",
      "Epochs: 45 | Train Loss:  0.455                 | Train Accuracy:  0.801                 | Val Loss:  0.542                 | Val Accuracy:  0.723\n",
      "Epochs: 46 | Train Loss:  0.504                 | Train Accuracy:  0.786                 | Val Loss:  0.700                 | Val Accuracy:  0.670\n",
      "Epochs: 47 | Train Loss:  0.432                 | Train Accuracy:  0.796                 | Val Loss:  0.495                 | Val Accuracy:  0.732\n",
      "Epochs: 48 | Train Loss:  0.447                 | Train Accuracy:  0.772                 | Val Loss:  0.437                 | Val Accuracy:  0.848\n",
      "Epochs: 49 | Train Loss:  0.532                 | Train Accuracy:  0.791                 | Val Loss:  0.475                 | Val Accuracy:  0.759\n",
      "Epochs: 50 | Train Loss:  0.550                 | Train Accuracy:  0.798                 | Val Loss:  0.871                 | Val Accuracy:  0.562\n",
      "Epochs: 51 | Train Loss:  0.666                 | Train Accuracy:  0.747                 | Val Loss:  0.467                 | Val Accuracy:  0.741\n",
      "Epochs: 52 | Train Loss:  0.542                 | Train Accuracy:  0.791                 | Val Loss:  0.553                 | Val Accuracy:  0.741\n",
      "Epochs: 53 | Train Loss:  0.425                 | Train Accuracy:  0.814                 | Val Loss:  0.990                 | Val Accuracy:  0.545\n",
      "Epochs: 54 | Train Loss:  0.544                 | Train Accuracy:  0.789                 | Val Loss:  0.584                 | Val Accuracy:  0.670\n",
      "Epochs: 55 | Train Loss:  0.497                 | Train Accuracy:  0.818                 | Val Loss:  0.629                 | Val Accuracy:  0.732\n",
      "Epochs: 56 | Train Loss:  0.497                 | Train Accuracy:  0.812                 | Val Loss:  0.798                 | Val Accuracy:  0.723\n",
      "Epochs: 57 | Train Loss:  0.566                 | Train Accuracy:  0.805                 | Val Loss:  0.429                 | Val Accuracy:  0.804\n",
      "Epochs: 58 | Train Loss:  0.583                 | Train Accuracy:  0.788                 | Val Loss:  0.565                 | Val Accuracy:  0.705\n",
      "Epochs: 59 | Train Loss:  0.502                 | Train Accuracy:  0.785                 | Val Loss:  0.868                 | Val Accuracy:  0.696\n",
      "Epochs: 60 | Train Loss:  0.407                 | Train Accuracy:  0.801                 | Val Loss:  0.589                 | Val Accuracy:  0.625\n",
      "Epochs: 61 | Train Loss:  0.659                 | Train Accuracy:  0.798                 | Val Loss:  0.835                 | Val Accuracy:  0.750\n",
      "Epochs: 62 | Train Loss:  0.486                 | Train Accuracy:  0.787                 | Val Loss:  0.602                 | Val Accuracy:  0.759\n",
      "Epochs: 63 | Train Loss:  0.425                 | Train Accuracy:  0.823                 | Val Loss:  0.457                 | Val Accuracy:  0.759\n",
      "Epochs: 64 | Train Loss:  0.583                 | Train Accuracy:  0.800                 | Val Loss:  0.472                 | Val Accuracy:  0.750\n",
      "Epochs: 65 | Train Loss:  0.606                 | Train Accuracy:  0.798                 | Val Loss:  0.444                 | Val Accuracy:  0.732\n",
      "Epochs: 66 | Train Loss:  0.713                 | Train Accuracy:  0.818                 | Val Loss:  0.532                 | Val Accuracy:  0.705\n",
      "Epochs: 67 | Train Loss:  0.453                 | Train Accuracy:  0.833                 | Val Loss:  1.032                 | Val Accuracy:  0.688\n",
      "Epochs: 68 | Train Loss:  0.563                 | Train Accuracy:  0.781                 | Val Loss:  0.402                 | Val Accuracy:  0.786\n",
      "Epochs: 69 | Train Loss:  0.527                 | Train Accuracy:  0.752                 | Val Loss:  0.630                 | Val Accuracy:  0.661\n",
      "Epochs: 70 | Train Loss:  0.442                 | Train Accuracy:  0.795                 | Val Loss:  0.525                 | Val Accuracy:  0.688\n",
      "Epochs: 71 | Train Loss:  0.448                 | Train Accuracy:  0.838                 | Val Loss:  0.622                 | Val Accuracy:  0.705\n",
      "Epochs: 72 | Train Loss:  0.536                 | Train Accuracy:  0.815                 | Val Loss:  0.508                 | Val Accuracy:  0.768\n",
      "Epochs: 73 | Train Loss:  0.674                 | Train Accuracy:  0.816                 | Val Loss:  0.797                 | Val Accuracy:  0.679\n",
      "Epochs: 74 | Train Loss:  0.537                 | Train Accuracy:  0.794                 | Val Loss:  1.412                 | Val Accuracy:  0.554\n",
      "Epochs: 75 | Train Loss:  0.633                 | Train Accuracy:  0.746                 | Val Loss:  0.804                 | Val Accuracy:  0.696\n",
      "Epochs: 76 | Train Loss:  0.593                 | Train Accuracy:  0.799                 | Val Loss:  0.423                 | Val Accuracy:  0.857\n",
      "Epochs: 77 | Train Loss:  0.506                 | Train Accuracy:  0.760                 | Val Loss:  0.616                 | Val Accuracy:  0.705\n",
      "Epochs: 78 | Train Loss:  0.484                 | Train Accuracy:  0.808                 | Val Loss:  0.381                 | Val Accuracy:  0.839\n",
      "Epochs: 79 | Train Loss:  0.373                 | Train Accuracy:  0.847                 | Val Loss:  0.439                 | Val Accuracy:  0.812\n",
      "Epochs: 80 | Train Loss:  0.484                 | Train Accuracy:  0.812                 | Val Loss:  0.402                 | Val Accuracy:  0.812\n",
      "Epochs: 81 | Train Loss:  0.804                 | Train Accuracy:  0.746                 | Val Loss:  0.835                 | Val Accuracy:  0.634\n",
      "Epochs: 82 | Train Loss:  0.387                 | Train Accuracy:  0.830                 | Val Loss:  0.573                 | Val Accuracy:  0.696\n",
      "Epochs: 83 | Train Loss:  0.335                 | Train Accuracy:  0.872                 | Val Loss:  0.481                 | Val Accuracy:  0.696\n",
      "Epochs: 84 | Train Loss:  0.397                 | Train Accuracy:  0.812                 | Val Loss:  0.539                 | Val Accuracy:  0.777\n",
      "Epochs: 85 | Train Loss:  0.438                 | Train Accuracy:  0.821                 | Val Loss:  1.045                 | Val Accuracy:  0.696\n",
      "Epochs: 86 | Train Loss:  0.371                 | Train Accuracy:  0.836                 | Val Loss:  0.608                 | Val Accuracy:  0.714\n",
      "Epochs: 87 | Train Loss:  0.500                 | Train Accuracy:  0.802                 | Val Loss:  0.475                 | Val Accuracy:  0.759\n",
      "Epochs: 88 | Train Loss:  0.446                 | Train Accuracy:  0.890                 | Val Loss:  0.748                 | Val Accuracy:  0.616\n",
      "Epochs: 89 | Train Loss:  0.550                 | Train Accuracy:  0.800                 | Val Loss:  0.605                 | Val Accuracy:  0.696\n",
      "Epochs: 90 | Train Loss:  0.390                 | Train Accuracy:  0.811                 | Val Loss:  0.609                 | Val Accuracy:  0.741\n",
      "Epochs: 91 | Train Loss:  0.335                 | Train Accuracy:  0.851                 | Val Loss:  0.569                 | Val Accuracy:  0.741\n",
      "Epochs: 92 | Train Loss:  0.276                 | Train Accuracy:  0.885                 | Val Loss:  0.558                 | Val Accuracy:  0.696\n",
      "Epochs: 93 | Train Loss:  0.336                 | Train Accuracy:  0.861                 | Val Loss:  0.453                 | Val Accuracy:  0.741\n",
      "Epochs: 94 | Train Loss:  0.485                 | Train Accuracy:  0.832                 | Val Loss:  0.576                 | Val Accuracy:  0.732\n",
      "Epochs: 95 | Train Loss:  0.302                 | Train Accuracy:  0.872                 | Val Loss:  0.477                 | Val Accuracy:  0.688\n",
      "Epochs: 96 | Train Loss:  0.442                 | Train Accuracy:  0.833                 | Val Loss:  0.532                 | Val Accuracy:  0.786\n",
      "Epochs: 97 | Train Loss:  0.467                 | Train Accuracy:  0.792                 | Val Loss:  0.510                 | Val Accuracy:  0.732\n",
      "Epochs: 98 | Train Loss:  0.403                 | Train Accuracy:  0.841                 | Val Loss:  0.485                 | Val Accuracy:  0.696\n",
      "Epochs: 99 | Train Loss:  0.513                 | Train Accuracy:  0.832                 | Val Loss:  0.526                 | Val Accuracy:  0.714\n",
      "Epochs: 100 | Train Loss:  0.476                 | Train Accuracy:  0.836                 | Val Loss:  0.734                 | Val Accuracy:  0.643\n"
     ]
    }
   ],
   "source": [
    "classifier.zero_grad()\n",
    "for epoch in tqdm(range(epochs),total=epochs):\n",
    "\n",
    "    total_acc_train = 0\n",
    "    total_loss_train = 0\n",
    "    classifier.train()\n",
    "    for i,batch in enumerate(train_dataloader):\n",
    "\n",
    "        train_label = batch['label'].to(device)\n",
    "        train_stat = batch['stat'].to(device)\n",
    "        \n",
    "        output = classifier(train_stat)\n",
    "        output = output.squeeze(1)\n",
    "        batch_loss = criterion(output.float(), train_label)\n",
    "        \n",
    "        optimizer.zero_grad()\n",
    "        batch_loss.backward()\n",
    "        optimizer.step()\n",
    "        \n",
    "        total_loss_train += batch_loss.item()\n",
    "        \n",
    "        correct_prediction = torch.argmax(F.softmax(output, dim=1), 1) == train_label\n",
    "\n",
    "        acc = correct_prediction.float().mean()\n",
    "#         acc = (output.round() == train_label).sum().item()\n",
    "        total_acc_train += acc.item()\n",
    "        \n",
    "    train_loss.append(total_loss_train/len(train_dataloader))\n",
    "    train_acc.append(total_acc_train/len(train_dataloader))\n",
    "            \n",
    "    total_acc_val = 0\n",
    "    total_loss_val = 0\n",
    "    \n",
    "    with  torch.no_grad():\n",
    "        classifier.eval()\n",
    "        for i,batch in enumerate(val_dataloader):\n",
    "            \n",
    "            val_label = batch['label'].to(device)\n",
    "            val_stat = batch['stat'].to(device)\n",
    "\n",
    "            output = classifier(val_stat)\n",
    "            output = output.squeeze(1)\n",
    "            batch_loss = criterion(output.float(), val_label)\n",
    "            \n",
    "            total_loss_val += batch_loss.item()\n",
    "            correct_prediction = torch.argmax(F.softmax(output, dim=1), 1) == val_label\n",
    "            acc = correct_prediction.float().mean()\n",
    "#             acc = (output.round() == val_label).sum().item()\n",
    "            \n",
    "            total_acc_val += acc.item()\n",
    "\n",
    "        valid_loss.append(total_loss_val/ len(val_dataloader))\n",
    "        valid_acc.append(total_acc_val/ len(val_dataloader))\n",
    "#         torch.save(classifier.state_dict(), './model{}.pt'.format(epoch))\n",
    " \n",
    "        print(\n",
    "                f'Epochs: {epoch + 1} | Train Loss: {total_loss_train / len(train_dataloader): .3f} \\\n",
    "                | Train Accuracy: {total_acc_train / len(train_dataloader): .3f} \\\n",
    "                | Val Loss: {total_loss_val / len(val_dataloader): .3f} \\\n",
    "                | Val Accuracy: {total_acc_val / len(val_dataloader): .3f}')"
   ]
  },
  {
   "cell_type": "code",
   "execution_count": 117,
   "id": "4f9bef0f-d743-45e7-8976-64b6b1b7f771",
   "metadata": {},
   "outputs": [],
   "source": [
    "from matplotlib import pyplot as plt"
   ]
  },
  {
   "cell_type": "code",
   "execution_count": 118,
   "id": "711bfcee-97a7-412a-9928-1ac306412dac",
   "metadata": {},
   "outputs": [
    {
     "data": {
      "image/png": "[encoded data removed]",
      "text/plain": [
       "<Figure size 432x288 with 1 Axes>"
      ]
     },
     "metadata": {
      "needs_background": "light"
     },
     "output_type": "display_data"
    }
   ],
   "source": [
    "plt.plot(valid_loss,color='red',label = 'valid')\n",
    "plt.plot(train_loss,color='blue',label = 'train')\n",
    "plt.show()"
   ]
  },
  {
   "cell_type": "code",
   "execution_count": 119,
   "id": "76dcfafa-d7e0-4976-a6fc-92c60c1a10f8",
   "metadata": {},
   "outputs": [
    {
     "data": {
      "image/png": "[encoded data removed]",
      "text/plain": [
       "<Figure size 432x288 with 1 Axes>"
      ]
     },
     "metadata": {
      "needs_background": "light"
     },
     "output_type": "display_data"
    }
   ],
   "source": [
    "plt.plot(valid_acc,color='red',label = 'valid')\n",
    "plt.plot(train_acc,color='blue',label = 'train')\n",
    "plt.show()"
   ]
  },
  {
   "cell_type": "code",
   "execution_count": null,
   "id": "b43af3ca-b9a7-46d3-875c-cc5025406290",
   "metadata": {},
   "outputs": [],
   "source": []
  }
 ],
 "metadata": {
  "kernelspec": {
   "display_name": "Python 3",
   "language": "python",
   "name": "python3"
  },
  "language_info": {
   "codemirror_mode": {
    "name": "ipython",
    "version": 3
   },
   "file_extension": ".py",
   "mimetype": "text/x-python",
   "name": "python",
   "nbconvert_exporter": "python",
   "pygments_lexer": "ipython3",
   "version": "3.8.8"
  }
 },
 "nbformat": 4,
 "nbformat_minor": 5
}
